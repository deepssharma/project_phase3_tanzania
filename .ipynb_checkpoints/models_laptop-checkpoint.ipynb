{
 "cells": [
  {
   "cell_type": "code",
   "execution_count": 2,
   "metadata": {},
   "outputs": [
    {
     "name": "stdout",
     "output_type": "stream",
     "text": [
      "/Users/deepalisharma/opt/anaconda3/envs/learn-env/bin/python\n"
     ]
    }
   ],
   "source": [
    "import os, sys, time\n",
    "print(sys.executable)"
   ]
  },
  {
   "cell_type": "code",
   "execution_count": 3,
   "metadata": {},
   "outputs": [
    {
     "data": {
      "text/html": [
       "<pre>✔️ 396 µs (2023-01-04T11:54:26/2023-01-04T11:54:26)</pre>"
      ],
      "text/plain": [
       "<IPython.core.display.HTML object>"
      ]
     },
     "metadata": {},
     "output_type": "display_data"
    }
   ],
   "source": [
    "import pandas as pd\n",
    "import matplotlib.pyplot as plt\n",
    "%matplotlib inline\n",
    "from sklearn.preprocessing import MinMaxScaler\n",
    "from sklearn.model_selection import train_test_split\n",
    "from sklearn.metrics import mean_squared_error\n",
    "from sklearn.preprocessing import PolynomialFeatures\n",
    "from sklearn.linear_model import LinearRegression\n",
    "#pd.set_option('display.max_rows', 10)\n",
    "import seaborn as sns\n",
    "#sns.set_style(\"whitegrid\")\n",
    "import numpy as np\n",
    "import matplotlib as mpl\n",
    "import matplotlib.ticker as mticker\n",
    "import missingno as mssno\n",
    "\n",
    "from sklearn.preprocessing import OneHotEncoder, StandardScaler, FunctionTransformer\n",
    "from sklearn.impute import MissingIndicator, SimpleImputer\n",
    "from sklearn.dummy import DummyClassifier\n",
    "\n",
    "\n",
    "from sklearn.model_selection import train_test_split, cross_val_score, GridSearchCV\n",
    "from sklearn.feature_selection import SelectFromModel\n",
    "\n",
    "from sklearn.linear_model import LogisticRegression\n",
    "from sklearn.neighbors import KNeighborsClassifier\n",
    "from sklearn.tree import DecisionTreeClassifier\n",
    "from sklearn.ensemble import RandomForestClassifier, GradientBoostingClassifier, AdaBoostClassifier\n",
    "from xgboost import XGBClassifier\n",
    "\n",
    "\n",
    "from sklearn.metrics import roc_curve, auc\n",
    "from sklearn.metrics import plot_confusion_matrix # plot_confusion_matrix is a visual tool added in the latest version of scikit-learn\n",
    "from sklearn.metrics import ConfusionMatrixDisplay\n",
    "from sklearn.metrics import confusion_matrix # if you are running an older version, use confusion_matrix\n",
    "from sklearn.metrics import classification_report\n",
    "from sklearn.metrics import RocCurveDisplay, roc_curve, roc_auc_score\n",
    "from sklearn.metrics import precision_score, recall_score, accuracy_score, f1_score\n",
    "from sklearn.model_selection import StratifiedKFold\n",
    "\n",
    "from sklearn.pipeline import Pipeline\n",
    "from sklearn.compose import ColumnTransformer\n",
    "from sklearn.ensemble import StackingRegressor\n",
    "\n",
    "from imblearn.over_sampling import SMOTE\n",
    "from imblearn.pipeline import Pipeline # You need imblearn Pipeline for Smote work in a Pipeline\n",
    "from itertools import cycle\n",
    "\n",
    "\n",
    "import warnings\n",
    "warnings.filterwarnings(\"ignore\")\n",
    "%load_ext autotime"
   ]
  },
  {
   "cell_type": "code",
   "execution_count": 4,
   "metadata": {},
   "outputs": [
    {
     "data": {
      "text/html": [
       "<pre>✔️ 1.69 ms (2023-01-04T11:54:27/2023-01-04T11:54:27)</pre>"
      ],
      "text/plain": [
       "<IPython.core.display.HTML object>"
      ]
     },
     "metadata": {},
     "output_type": "display_data"
    }
   ],
   "source": [
    "from xgboost import XGBClassifier"
   ]
  },
  {
   "cell_type": "code",
   "execution_count": 5,
   "metadata": {},
   "outputs": [
    {
     "data": {
      "text/html": [
       "<pre>✔️ 5.65 ms (2023-01-04T11:54:28/2023-01-04T11:54:28)</pre>"
      ],
      "text/plain": [
       "<IPython.core.display.HTML object>"
      ]
     },
     "metadata": {},
     "output_type": "display_data"
    }
   ],
   "source": [
    "def clean_installer(df):\n",
    "\n",
    "    df['installer'] = df['installer'].astype(str).str.lower()\n",
    "    df['installer'].replace(\n",
    "        to_replace=(\n",
    "            'fini water', 'fin water', 'finn water', 'finwater', 'finwate'),\n",
    "        value='finw', inplace=True)\n",
    "    df['installer'].replace(to_replace=('jaica co'), value='jaica', inplace=True)\n",
    "    df['installer'].replace(\n",
    "        to_replace=(\n",
    "            'district water department', 'district water depar', 'district council',\n",
    "            'district counci', 'village council orpha','kibaha town council',\n",
    "            'village council', 'coun', 'village counil', 'council',\n",
    "            'mbulu district council', 'counc', 'village council .oda',\n",
    "            'sangea district coun', 'songea district coun', 'villege council',\n",
    "            'district  council', 'quick win project /council', 'mbozi district council',\n",
    "            'village  council', 'municipal council', 'tabora municipal council',\n",
    "            'wb / district council'),\n",
    "        value='council', inplace=True)\n",
    "    df['installer'].replace(\n",
    "        to_replace=(\n",
    "            'rc church', 'rc churc', 'rcchurch/cefa', 'irc', 'rc', 'rc ch', 'hw/rc',\n",
    "            'rc church/central gover', 'kkkt church', 'pentecost church', 'roman church',\n",
    "            'rc/mission', 'rc church/cefa', 'lutheran church', 'tag church',\n",
    "            'free pentecoste church of tanz', 'rc c', 'church', 'rc cathoric',\n",
    "            'morovian church', 'cefa/rc church', 'rc mission', 'anglican church',\n",
    "            'church of disciples', 'anglikana church', 'cetral government /rc',\n",
    "            'pentecostal church', 'cg/rc', 'rc missionary', 'sda church', 'methodist church', 'trc',\n",
    "            'rc msufi', 'haidomu lutheran church', 'baptist church', 'rc church brother',\n",
    "            'st magreth church', 'anglica church', 'global resource co', 'rc mi',\n",
    "            'baptist church of tanzania', 'fpct church', 'rc njoro', 'rc .church',\n",
    "            'rc mis', 'batist church', 'churc', 'dwe/anglican church','missi', 'mission',\n",
    "            'ndanda missions', 'rc/mission', 'cvs miss', 'missionaries', 'hydom luthelani',\n",
    "            'luthe', 'haydom lutheran hospital', 'lutheran', 'missio', 'germany missionary',\n",
    "            'grail mission kiseki bar', 'missionary', 'heri mission', 'german missionsry',\n",
    "            'wamissionari wa kikatoriki', 'neemia mission', 'wamisionari wa kikatoriki'),\n",
    "        value='church', inplace=True)\n",
    "    df['installer'].replace(\n",
    "        to_replace=(\n",
    "            'central government', 'gove', 'central govt', 'gover', 'cipro/government',\n",
    "            'governme', 'adra /government', 'isf/government', 'adra/government',\n",
    "            'government /tcrs', 'village govt', 'government', 'government /community',\n",
    "            'concern /government', 'goverm', 'village government', 'cental government',\n",
    "            'govern', 'cebtral government', 'government /sda', 'tcrs /government',\n",
    "            'tanzania government', 'centra govt', 'colonial government', 'misri government',\n",
    "            'government and community', 'cetral government /rc', 'concern/government',\n",
    "            'government of misri', 'lwi &central government', 'governmen', 'government/tcrs', 'government /world vision',\n",
    "            'centra government'),\n",
    "        value='tanzanian government', inplace=True)\n",
    "    df['installer'].replace(\n",
    "        to_replace=(\n",
    "            'world vission', 'world division', 'word divisio','world visiin'),\n",
    "        value='world vision', inplace=True)\n",
    "    df['installer'].replace(to_replace=('unicrf'), value='unicef', inplace=True)\n",
    "    df['installer'].replace(\n",
    "        to_replace=(\n",
    "            'commu', 'olgilai village community', 'adra /community', 'adra/community',\n",
    "            'rwe/ community', 'killflora /community', 'communit', 'taboma/community',\n",
    "            'arab community', 'adra/ community', 'sekei village community', 'rwe/community',\n",
    "            'arabs community', 'village community', 'government /community',\n",
    "            'dads/village community', 'killflora/ community', 'mtuwasa and community',\n",
    "            'rwe /community', 'ilwilo community', 'summit for water/community',\n",
    "            'igolola community', 'ngiresi village community', 'rwe community',\n",
    "            'african realief committe of ku', 'twesa /community', 'shelisheli commission',\n",
    "            'twesa/ community', 'marumbo community', 'government and community',\n",
    "            'community bank', 'kitiangare village community', 'oldadai village community',\n",
    "            'twesa/community', 'tlc/community', 'maseka community', 'islamic community',\n",
    "            'district community j', 'village water commission', 'village community members',\n",
    "            'tcrs/village community', 'village water committee', 'comunity'),\n",
    "        value='community', inplace=True)\n",
    "    df['installer'].replace(\n",
    "        to_replace=(\n",
    "            'danid', 'danda','danida co', 'danny', 'daniad', 'dannida', 'danids'),\n",
    "        value='danida', inplace=True)\n",
    "    df['installer'].replace(\n",
    "        to_replace=(\n",
    "            'hesaws', 'huches', 'hesaw', 'hesawz', 'hesawq', 'hesewa'),\n",
    "        value='hesawa', inplace=True)\n",
    "    df['installer'].replace(\n",
    "        to_replace=(\n",
    "            'dwsp', 'kkkt _ konde and dwe', 'rwe/dwe', 'rwedwe', 'dwe/', 'dw', 'dwr',\n",
    "            'dwe}', 'dwt', 'dwe /tassaf', 'dwe/ubalozi wa marekani', 'consultant and dwe',\n",
    "            'dwe & lwi', 'ubalozi wa marekani /dwe', 'dwe&', 'dwe/tassaf', 'dw$',\n",
    "            'dw e', 'tcrs/dwe', 'dw#', 'dweb', 'tcrs /dwe', 'water aid/dwe', 'dww'),\n",
    "        value='dwe', inplace=True)\n",
    "    df['installer'].replace(\n",
    "        to_replace=(\n",
    "            'africa muslim', 'muslimu society(shia)', 'africa muslim agenc',\n",
    "            'african muslims age', 'muslimehefen international','islamic',\n",
    "            'the isla', 'islamic agency tanzania',  'islam', 'nyabibuye islamic center'),\n",
    "        value='muslims', inplace=True)\n",
    "    df['installer'].replace(\n",
    "        to_replace=(\n",
    "            'british colonial government', 'british government', 'britain'),\n",
    "        value='british', inplace=True)\n",
    "    df['installer'].replace(\n",
    "        to_replace=(\n",
    "            'tcrs/tlc', 'tcrs /care', 'cipro/care/tcrs', 'tcrs kibondo', 'tcrs.tlc',\n",
    "            'tcrs /twesa', 'tassaf /tcrs', 'tcrs/care', 'tcrs twesa', 'rwe/tcrs',\n",
    "            'tcrs/twesa', 'tassaf/ tcrs', 'tcrs/ tassaf', 'tcrs/ twesa', 'tcrs a',\n",
    "            'tassaf/tcrs'),\n",
    "        value='tcrs', inplace=True)\n",
    "    df['installer'].replace(\n",
    "        to_replace=(\n",
    "            'kkkt-dioces ya pare', 'kkkt leguruki', 'kkkt ndrumangeni', 'kkkt dme',\n",
    "            'kkkt kilinga', 'kkkt canal', 'kkkt katiti juu', 'kkkt mareu'),\n",
    "        value='kkkt', inplace=True)\n",
    "    df['installer'].replace(to_replace=('norad/'), value='norad', inplace=True)\n",
    "    df['installer'].replace( to_replace=('tasaf/dmdd', 'dmdd/solider'),\n",
    "        value='dmdd', inplace=True)\n",
    "    df['installer'].replace(\n",
    "        to_replace=('cjejow construction', 'cjej0'), value='cjejow', inplace=True)\n",
    "    df['installer'].replace(\n",
    "        to_replace=(\n",
    "            'china henan constuction', 'china henan contractor', 'china co.', 'chinese'),\n",
    "        value='china', inplace=True)\n",
    "    df['installer'].replace(\n",
    "        to_replace=(\n",
    "            'local contract', 'local technician', 'local', 'local  technician',\n",
    "            'locall technician', 'local te', 'local technitian', 'local technical tec',\n",
    "            'local fundi', 'local technical', 'localtechnician', 'village local contractor',\n",
    "            'local l technician'),\n",
    "        value='local', inplace=True)\n",
    "    df['installer'].replace(\n",
    "        to_replace=(\n",
    "            'oikos e .africa', 'oikos e.africa', 'africa amini alama',\n",
    "            'africa islamic agency tanzania', 'africare', 'african development foundation',\n",
    "            'oikos e. africa', 'oikos e.afrika', 'afroz ismail', 'africa', 'farm-africa',\n",
    "            'oikos e africa', 'farm africa', 'africaone', 'tina/africare', 'africaone ltd',\n",
    "            'african reflections foundation', 'africa m'),\n",
    "        value='africa', inplace=True)\n",
    "    df['installer'].replace(to_replace=('0', 'nan', '-'), value='other', inplace=True)\n",
    "    df_installer_cnt = df.groupby('installer')['installer'].count()\n",
    "    other_list = df_installer_cnt[df_installer_cnt<71].index.tolist()\n",
    "    df['installer'].replace(to_replace=other_list, value='other', inplace=True)"
   ]
  },
  {
   "cell_type": "code",
   "execution_count": 6,
   "metadata": {},
   "outputs": [
    {
     "data": {
      "text/html": [
       "<pre>✔️ 2.74 ms (2023-01-04T11:54:30/2023-01-04T11:54:30)</pre>"
      ],
      "text/plain": [
       "<IPython.core.display.HTML object>"
      ]
     },
     "metadata": {},
     "output_type": "display_data"
    }
   ],
   "source": [
    "def clean_funder(df):\n",
    "    \n",
    "    df['funder'] = df['funder'].astype(str).str.lower()\n",
    "    df['funder'].replace(\n",
    "        to_replace=(\n",
    "            'kkkt_makwale', 'kkkt-dioces ya pare', 'world vision/ kkkt', 'kkkt church',\n",
    "            'kkkt leguruki', 'kkkt ndrumangeni', 'kkkt dme', 'kkkt canal', 'kkkt usa',\n",
    "            'kkkt mareu'),\n",
    "        value='kkkt', inplace=True)\n",
    "    df['funder'].replace(\n",
    "        to_replace=(\n",
    "            'government of tanzania', 'norad /government', 'government/ community',\n",
    "            'cipro/government', 'isf/government', 'finidagermantanzania govt',\n",
    "            'government /tassaf', 'finida german tanzania govt', 'village government',\n",
    "            'tcrs /government', 'village govt', 'government/ world bank',\n",
    "            'danida /government', 'dhv/gove', 'concern /govern', 'vgovernment',\n",
    "            'lwi & central government', 'government /sda', 'koica and tanzania government',\n",
    "            'world bank/government', 'colonial government', 'misri government',\n",
    "            'government and community', 'concern/governm', 'government of misri',\n",
    "            'government/tassaf', 'government/school', 'government/tcrs', 'unhcr/government',\n",
    "            'government /world vision', 'norad/government'),\n",
    "        value='government', inplace=True)\n",
    "    df['funder'].replace(\n",
    "        to_replace=(\n",
    "            'british colonial government', 'japan government', 'china government',\n",
    "            'finland government', 'belgian government', 'italy government',\n",
    "            'irish government', 'egypt government', 'iran gover', 'swedish', 'finland'),\n",
    "        value='foreign government', inplace=True)\n",
    "    df['funder'].replace(\n",
    "        to_replace=(\n",
    "            'rc church', 'anglican church', 'rc churc', 'rc ch', 'rcchurch/cefa',\n",
    "            'irc', 'rc', 'churc', 'hw/rc', 'rc church/centr', 'pentecosta church',\n",
    "            'roman church', 'rc/mission', \"ju-sarang church' and bugango\",\n",
    "            'lutheran church', 'roman cathoric church', 'tag church ub', 'aic church',\n",
    "            'free pentecoste church of tanz', 'tag church', 'fpct church', 'rc cathoric',\n",
    "            'baptist church', 'morovian church', 'cefa/rcchurch', 'rc mission',\n",
    "            'bukwang church saints', 'agt church', 'church of disciples', 'rc mofu',\n",
    "            \"gil cafe'church'\", 'pentecostal church', 'bukwang church saint',\n",
    "            'eung am methodist church', 'rc/dwe', 'cg/rc', 'eung-am methodist church',\n",
    "            'rc missionary', 'sda church', 'methodist church', 'rc msufi',\n",
    "            'haidomu lutheran church', 'nazareth church', 'st magreth church',\n",
    "            'agape churc', 'rc missi', 'rc mi', 'rc njoro', 'world vision/rc church',\n",
    "            'pag church', 'batist church', 'full gospel church', 'nazalet church',\n",
    "            'dwe/anglican church', 'missi', 'mission', 'missionaries', 'cpps mission',\n",
    "            'cvs miss', 'grail mission kiseki bar', 'shelisheli commission', 'missionary',\n",
    "            'heri mission', 'german missionary', 'wamissionari wa kikatoriki',\n",
    "            'rc missionary', 'germany missionary', 'missio', 'neemia mission', 'rc missi',\n",
    "            'hydom luthelani', 'luthe', 'lutheran church',  'haydom lutheran hospital',\n",
    "            'village council/ haydom luther', 'lutheran', 'haidomu lutheran church',\n",
    "            'resolute golden pride project', 'resolute mininggolden pride',\n",
    "            'germany cristians'),\n",
    "        value='church', inplace=True)\n",
    "    df['funder'].replace(\n",
    "        to_replace=(\n",
    "            'olgilai village community', 'commu', 'community', 'arab community',\n",
    "            'sekei village community', 'arabs community', 'village community',\n",
    "            'mtuwasa and community', 'ilwilo community', 'igolola community',\n",
    "            'ngiresi village community', 'marumbo community', 'village communi',\n",
    "            'comune di roma', 'comunity construction fund', 'community bank',\n",
    "            \"oak'zion' and bugango b' commu\", 'kitiangare village community',\n",
    "            'oldadai village community', 'tlc/community', 'maseka community',\n",
    "            'islamic community',  'tcrs/village community', 'buluga subvillage community',\n",
    "            'okutu village community'),\n",
    "        value='community', inplace=True)\n",
    "    df['funder'].replace(\n",
    "        to_replace=(\n",
    "            'council', 'wb / district council', 'cdtfdistrict council',\n",
    "            'sangea district council', 'mheza distric counc', 'kyela council',\n",
    "            'kibaha town council', 'swidish', 'mbozi district council', \n",
    "            'village council/ rose kawala',  'songea municipal counci',\n",
    "            'quick win project /council', 'village council', 'villege council',\n",
    "            'tabora municipal council', 'kilindi district co', 'kigoma municipal council',\n",
    "            'district council', 'municipal council', 'district medical',\n",
    "            'sengerema district council', 'town council', 'mkinga  distric cou',\n",
    "            'songea district council', 'district rural project', 'mkinga distric coun',\n",
    "            'dadis'),\n",
    "        value='district', inplace=True)\n",
    "    df['funder'].replace(\n",
    "        to_replace=(\n",
    "            'tcrs.tlc', 'tcrs /care', 'tcrst', 'cipro/care/tcrs', 'tcrs/care', 'tcrs kibondo'),\n",
    "        value='tcrs', inplace=True)\n",
    "    df['funder'].replace(\n",
    "        to_replace=(\n",
    "            'fini water', 'finw', 'fin water', 'finn water', 'finwater'),\n",
    "        value='fini', inplace=True)\n",
    "    df['funder'].replace(\n",
    "        to_replace=(\n",
    "            'islamic', 'the isla', 'islamic found', 'islamic agency tanzania',\n",
    "            'islam', 'muislam', 'the islamic', 'nyabibuye islamic center', 'islamic society', 'african muslim agency',\n",
    "            'muslims', 'answeer muslim grou', 'muslimu society(shia)',\n",
    "            'unicef/african muslim agency', 'muslim world', 'muslimehefen international',\n",
    "            'shear muslim', 'muslim society'),\n",
    "        value='islam', inplace=True)\n",
    "    df['funder'].replace(\n",
    "        to_replace=('danida', 'ms-danish', 'unhcr/danida', 'tassaf/ danida'),\n",
    "        value='danida', inplace=True)\n",
    "    df['funder'].replace(\n",
    "        to_replace=(\n",
    "            'hesawa', 'hesawz', 'hesaw', 'hhesawa', 'hesawwa', 'hesawza', 'hesswa',\n",
    "            'hesawa and concern world wide'),\n",
    "        value='hesawa', inplace=True)\n",
    "    df['funder'].replace(\n",
    "        to_replace=('world vision/adra', 'game division', 'worldvision'),\n",
    "        value='world vision', inplace=True)\n",
    "    df['funder'].replace(\n",
    "        to_replace=(\n",
    "            'germany republi', 'a/co germany', 'aco/germany', 'bingo foundation germany',\n",
    "            'africa project ev germany', 'tree ways german'),\n",
    "        value='germany', inplace=True)\n",
    "    df['funder'].replace(to_replace=('0', 'nan', '-'), value='other', inplace=True)\n",
    "    df_funder_cnt = df.groupby('funder')['funder'].count()\n",
    "    other_list = df_funder_cnt[df_funder_cnt<98].index.tolist()\n",
    "    df['funder'].replace(to_replace=other_list, value='other', inplace=True)    "
   ]
  },
  {
   "cell_type": "code",
   "execution_count": 7,
   "metadata": {},
   "outputs": [
    {
     "data": {
      "text/html": [
       "<pre>✔️ 884 ms (2023-01-04T11:54:33/2023-01-04T11:54:34)</pre>"
      ],
      "text/plain": [
       "<IPython.core.display.HTML object>"
      ]
     },
     "metadata": {},
     "output_type": "display_data"
    },
    {
     "data": {
      "text/html": [
       "<div>\n",
       "<style scoped>\n",
       "    .dataframe tbody tr th:only-of-type {\n",
       "        vertical-align: middle;\n",
       "    }\n",
       "\n",
       "    .dataframe tbody tr th {\n",
       "        vertical-align: top;\n",
       "    }\n",
       "\n",
       "    .dataframe thead th {\n",
       "        text-align: right;\n",
       "    }\n",
       "</style>\n",
       "<table border=\"1\" class=\"dataframe\">\n",
       "  <thead>\n",
       "    <tr style=\"text-align: right;\">\n",
       "      <th></th>\n",
       "      <th>id</th>\n",
       "      <th>amount_tsh</th>\n",
       "      <th>date_recorded</th>\n",
       "      <th>funder</th>\n",
       "      <th>gps_height</th>\n",
       "      <th>installer</th>\n",
       "      <th>longitude</th>\n",
       "      <th>latitude</th>\n",
       "      <th>wpt_name</th>\n",
       "      <th>num_private</th>\n",
       "      <th>...</th>\n",
       "      <th>water_quality</th>\n",
       "      <th>quality_group</th>\n",
       "      <th>quantity</th>\n",
       "      <th>quantity_group</th>\n",
       "      <th>source</th>\n",
       "      <th>source_type</th>\n",
       "      <th>source_class</th>\n",
       "      <th>waterpoint_type</th>\n",
       "      <th>waterpoint_type_group</th>\n",
       "      <th>status_group</th>\n",
       "    </tr>\n",
       "  </thead>\n",
       "  <tbody>\n",
       "    <tr>\n",
       "      <th>0</th>\n",
       "      <td>69572</td>\n",
       "      <td>6000.0</td>\n",
       "      <td>2011-03-14</td>\n",
       "      <td>Roman</td>\n",
       "      <td>1390</td>\n",
       "      <td>Roman</td>\n",
       "      <td>34.938093</td>\n",
       "      <td>-9.856322</td>\n",
       "      <td>none</td>\n",
       "      <td>0</td>\n",
       "      <td>...</td>\n",
       "      <td>soft</td>\n",
       "      <td>good</td>\n",
       "      <td>enough</td>\n",
       "      <td>enough</td>\n",
       "      <td>spring</td>\n",
       "      <td>spring</td>\n",
       "      <td>groundwater</td>\n",
       "      <td>communal standpipe</td>\n",
       "      <td>communal standpipe</td>\n",
       "      <td>functional</td>\n",
       "    </tr>\n",
       "    <tr>\n",
       "      <th>1</th>\n",
       "      <td>8776</td>\n",
       "      <td>0.0</td>\n",
       "      <td>2013-03-06</td>\n",
       "      <td>Grumeti</td>\n",
       "      <td>1399</td>\n",
       "      <td>GRUMETI</td>\n",
       "      <td>34.698766</td>\n",
       "      <td>-2.147466</td>\n",
       "      <td>Zahanati</td>\n",
       "      <td>0</td>\n",
       "      <td>...</td>\n",
       "      <td>soft</td>\n",
       "      <td>good</td>\n",
       "      <td>insufficient</td>\n",
       "      <td>insufficient</td>\n",
       "      <td>rainwater harvesting</td>\n",
       "      <td>rainwater harvesting</td>\n",
       "      <td>surface</td>\n",
       "      <td>communal standpipe</td>\n",
       "      <td>communal standpipe</td>\n",
       "      <td>functional</td>\n",
       "    </tr>\n",
       "    <tr>\n",
       "      <th>2</th>\n",
       "      <td>34310</td>\n",
       "      <td>25.0</td>\n",
       "      <td>2013-02-25</td>\n",
       "      <td>Lottery Club</td>\n",
       "      <td>686</td>\n",
       "      <td>World vision</td>\n",
       "      <td>37.460664</td>\n",
       "      <td>-3.821329</td>\n",
       "      <td>Kwa Mahundi</td>\n",
       "      <td>0</td>\n",
       "      <td>...</td>\n",
       "      <td>soft</td>\n",
       "      <td>good</td>\n",
       "      <td>enough</td>\n",
       "      <td>enough</td>\n",
       "      <td>dam</td>\n",
       "      <td>dam</td>\n",
       "      <td>surface</td>\n",
       "      <td>communal standpipe multiple</td>\n",
       "      <td>communal standpipe</td>\n",
       "      <td>functional</td>\n",
       "    </tr>\n",
       "    <tr>\n",
       "      <th>3</th>\n",
       "      <td>67743</td>\n",
       "      <td>0.0</td>\n",
       "      <td>2013-01-28</td>\n",
       "      <td>Unicef</td>\n",
       "      <td>263</td>\n",
       "      <td>UNICEF</td>\n",
       "      <td>38.486161</td>\n",
       "      <td>-11.155298</td>\n",
       "      <td>Zahanati Ya Nanyumbu</td>\n",
       "      <td>0</td>\n",
       "      <td>...</td>\n",
       "      <td>soft</td>\n",
       "      <td>good</td>\n",
       "      <td>dry</td>\n",
       "      <td>dry</td>\n",
       "      <td>machine dbh</td>\n",
       "      <td>borehole</td>\n",
       "      <td>groundwater</td>\n",
       "      <td>communal standpipe multiple</td>\n",
       "      <td>communal standpipe</td>\n",
       "      <td>non functional</td>\n",
       "    </tr>\n",
       "    <tr>\n",
       "      <th>4</th>\n",
       "      <td>19728</td>\n",
       "      <td>0.0</td>\n",
       "      <td>2011-07-13</td>\n",
       "      <td>Action In A</td>\n",
       "      <td>0</td>\n",
       "      <td>Artisan</td>\n",
       "      <td>31.130847</td>\n",
       "      <td>-1.825359</td>\n",
       "      <td>Shuleni</td>\n",
       "      <td>0</td>\n",
       "      <td>...</td>\n",
       "      <td>soft</td>\n",
       "      <td>good</td>\n",
       "      <td>seasonal</td>\n",
       "      <td>seasonal</td>\n",
       "      <td>rainwater harvesting</td>\n",
       "      <td>rainwater harvesting</td>\n",
       "      <td>surface</td>\n",
       "      <td>communal standpipe</td>\n",
       "      <td>communal standpipe</td>\n",
       "      <td>functional</td>\n",
       "    </tr>\n",
       "  </tbody>\n",
       "</table>\n",
       "<p>5 rows × 41 columns</p>\n",
       "</div>"
      ],
      "text/plain": [
       "      id  amount_tsh date_recorded        funder  gps_height     installer  \\\n",
       "0  69572      6000.0    2011-03-14         Roman        1390         Roman   \n",
       "1   8776         0.0    2013-03-06       Grumeti        1399       GRUMETI   \n",
       "2  34310        25.0    2013-02-25  Lottery Club         686  World vision   \n",
       "3  67743         0.0    2013-01-28        Unicef         263        UNICEF   \n",
       "4  19728         0.0    2011-07-13   Action In A           0       Artisan   \n",
       "\n",
       "   longitude   latitude              wpt_name  num_private  ... water_quality  \\\n",
       "0  34.938093  -9.856322                  none            0  ...          soft   \n",
       "1  34.698766  -2.147466              Zahanati            0  ...          soft   \n",
       "2  37.460664  -3.821329           Kwa Mahundi            0  ...          soft   \n",
       "3  38.486161 -11.155298  Zahanati Ya Nanyumbu            0  ...          soft   \n",
       "4  31.130847  -1.825359               Shuleni            0  ...          soft   \n",
       "\n",
       "  quality_group      quantity  quantity_group                source  \\\n",
       "0          good        enough          enough                spring   \n",
       "1          good  insufficient    insufficient  rainwater harvesting   \n",
       "2          good        enough          enough                   dam   \n",
       "3          good           dry             dry           machine dbh   \n",
       "4          good      seasonal        seasonal  rainwater harvesting   \n",
       "\n",
       "            source_type source_class              waterpoint_type  \\\n",
       "0                spring  groundwater           communal standpipe   \n",
       "1  rainwater harvesting      surface           communal standpipe   \n",
       "2                   dam      surface  communal standpipe multiple   \n",
       "3              borehole  groundwater  communal standpipe multiple   \n",
       "4  rainwater harvesting      surface           communal standpipe   \n",
       "\n",
       "  waterpoint_type_group    status_group  \n",
       "0    communal standpipe      functional  \n",
       "1    communal standpipe      functional  \n",
       "2    communal standpipe      functional  \n",
       "3    communal standpipe  non functional  \n",
       "4    communal standpipe      functional  \n",
       "\n",
       "[5 rows x 41 columns]"
      ]
     },
     "execution_count": 7,
     "metadata": {},
     "output_type": "execute_result"
    }
   ],
   "source": [
    "df_data = pd.read_csv(\"Data_train.csv\")\n",
    "df_labels = pd.read_csv(\"Data_train_labels.csv\")\n",
    "df = pd.merge(df_data,df_labels,how='inner',left_on='id', right_on='id')\n",
    "df.head()"
   ]
  },
  {
   "cell_type": "code",
   "execution_count": 8,
   "metadata": {},
   "outputs": [
    {
     "data": {
      "text/html": [
       "<pre>✔️ 2.36 ms (2023-01-04T11:54:35/2023-01-04T11:54:35)</pre>"
      ],
      "text/plain": [
       "<IPython.core.display.HTML object>"
      ]
     },
     "metadata": {},
     "output_type": "display_data"
    }
   ],
   "source": [
    "df_clean= df"
   ]
  },
  {
   "cell_type": "code",
   "execution_count": 9,
   "metadata": {},
   "outputs": [
    {
     "data": {
      "text/html": [
       "<pre>✔️ 59.9 ms (2023-01-04T11:54:37/2023-01-04T11:54:37)</pre>"
      ],
      "text/plain": [
       "<IPython.core.display.HTML object>"
      ]
     },
     "metadata": {},
     "output_type": "display_data"
    }
   ],
   "source": [
    "from datetime import date\n",
    "from datetime import datetime\n",
    "df_clean['date_recorded']=pd.to_datetime(df_clean['date_recorded'])\n",
    "df_clean['yr_record']=df_clean['date_recorded'].dt.year.astype('int')\n",
    "df_clean['month_record']=df_clean['date_recorded'].dt.month.astype('int')\n",
    "df_clean[['date_recorded','yr_record','month_record']]\n",
    "df_clean['age'] = (2014 - df_clean['construction_year'])\n",
    "df_clean['age'] = df_clean['age'].replace(2014, 60)"
   ]
  },
  {
   "cell_type": "code",
   "execution_count": 10,
   "metadata": {},
   "outputs": [
    {
     "data": {
      "text/html": [
       "<pre>✔️ 22.4 ms (2023-01-04T11:54:39/2023-01-04T11:54:39)</pre>"
      ],
      "text/plain": [
       "<IPython.core.display.HTML object>"
      ]
     },
     "metadata": {},
     "output_type": "display_data"
    }
   ],
   "source": [
    "conditions = [\n",
    "    (df_clean['age'] <=5),\n",
    "    (df_clean['age'] > 5) & (df_clean['age'] <= 10),\n",
    "    (df_clean['age'] > 10) & (df_clean['age'] <= 15),\n",
    "    (df_clean['age'] > 15) & (df_clean['age'] <= 20),\n",
    "    (df_clean['age'] > 20) & (df_clean['age'] <= 25),\n",
    "    (df_clean['age'] > 25) & (df_clean['age'] <= 30),\n",
    "    (df_clean['age'] > 30) & (df_clean['age'] <= 35),\n",
    "    (df_clean['age'] > 35) & (df_clean['age'] <= 40),\n",
    "    (df_clean['age'] > 40) & (df_clean['age'] <= 45),\n",
    "    (df_clean['age'] > 45) & (df_clean['age'] <= 50),\n",
    "    (df_clean['age'] > 50) & (df_clean['age'] <= 55),\n",
    "    (df_clean['age'] > 5) & (df_clean['age'] <= 60),\n",
    "     ]\n",
    "choices =[5,10,15,20,25,30,35,40,45,50,55,60]\n",
    "df_clean['age'] = np.select(conditions,choices, default=0)"
   ]
  },
  {
   "cell_type": "code",
   "execution_count": 11,
   "metadata": {},
   "outputs": [
    {
     "data": {
      "text/html": [
       "<pre>✔️ 2.37 s (2023-01-04T11:54:41/2023-01-04T11:54:43)</pre>"
      ],
      "text/plain": [
       "<IPython.core.display.HTML object>"
      ]
     },
     "metadata": {},
     "output_type": "display_data"
    }
   ],
   "source": [
    "clean_installer(df_clean)"
   ]
  },
  {
   "cell_type": "code",
   "execution_count": 12,
   "metadata": {},
   "outputs": [
    {
     "data": {
      "text/html": [
       "<pre>✔️ 119 ms (2023-01-04T11:54:43/2023-01-04T11:54:43)</pre>"
      ],
      "text/plain": [
       "<IPython.core.display.HTML object>"
      ]
     },
     "metadata": {},
     "output_type": "display_data"
    },
    {
     "data": {
      "text/plain": [
       "0    32259\n",
       "1    22824\n",
       "2     4317\n",
       "Name: status_group, dtype: int64"
      ]
     },
     "execution_count": 12,
     "metadata": {},
     "output_type": "execute_result"
    }
   ],
   "source": [
    "dic = {'functional':0, 'non functional':1,'functional needs repair':2 }\n",
    "df_clean.replace({\"status_group\": dic}, inplace=True)\n",
    "df_clean[\"status_group\"].value_counts()"
   ]
  },
  {
   "cell_type": "code",
   "execution_count": 13,
   "metadata": {},
   "outputs": [
    {
     "data": {
      "text/html": [
       "<pre>✔️ 959 µs (2023-01-04T11:54:59/2023-01-04T11:54:59)</pre>"
      ],
      "text/plain": [
       "<IPython.core.display.HTML object>"
      ]
     },
     "metadata": {},
     "output_type": "display_data"
    }
   ],
   "source": [
    "cols_to_delete = ['id', 'recorded_by','funder', 'installer','yr_record',\n",
    "                'lga', 'ward','scheme_management',\n",
    "                 'wpt_name','scheme_name', 'extraction_type_class',\n",
    "                 'extraction_type_group','management', 'payment_type', \n",
    "                 'quality_group', 'source_type', 'source', \n",
    "                 'waterpoint_type_group', 'quantity_group',\n",
    "                 'num_private','construction_year','date_recorded','month_record','recorded_by']\n",
    "more_cols_to_delete =['public_meeting','amount_tsh','permit','management_group',\\\n",
    "                     'region_code','district_code','basin']"
   ]
  },
  {
   "cell_type": "code",
   "execution_count": 14,
   "metadata": {},
   "outputs": [
    {
     "data": {
      "text/html": [
       "<pre>✔️ 30 ms (2023-01-04T11:55:03/2023-01-04T11:55:03)</pre>"
      ],
      "text/plain": [
       "<IPython.core.display.HTML object>"
      ]
     },
     "metadata": {},
     "output_type": "display_data"
    }
   ],
   "source": [
    "df_clean = df_clean.drop(cols_to_delete,axis=1)\n",
    "df_clean = df_clean.drop(more_cols_to_delete,axis=1)"
   ]
  },
  {
   "cell_type": "code",
   "execution_count": 15,
   "metadata": {},
   "outputs": [
    {
     "data": {
      "text/html": [
       "<pre>✔️ 24.3 ms (2023-01-04T11:55:07/2023-01-04T11:55:07)</pre>"
      ],
      "text/plain": [
       "<IPython.core.display.HTML object>"
      ]
     },
     "metadata": {},
     "output_type": "display_data"
    },
    {
     "data": {
      "text/html": [
       "<div>\n",
       "<style scoped>\n",
       "    .dataframe tbody tr th:only-of-type {\n",
       "        vertical-align: middle;\n",
       "    }\n",
       "\n",
       "    .dataframe tbody tr th {\n",
       "        vertical-align: top;\n",
       "    }\n",
       "\n",
       "    .dataframe thead th {\n",
       "        text-align: right;\n",
       "    }\n",
       "</style>\n",
       "<table border=\"1\" class=\"dataframe\">\n",
       "  <thead>\n",
       "    <tr style=\"text-align: right;\">\n",
       "      <th></th>\n",
       "      <th>gps_height</th>\n",
       "      <th>longitude</th>\n",
       "      <th>latitude</th>\n",
       "      <th>subvillage</th>\n",
       "      <th>region</th>\n",
       "      <th>population</th>\n",
       "      <th>extraction_type</th>\n",
       "      <th>payment</th>\n",
       "      <th>water_quality</th>\n",
       "      <th>quantity</th>\n",
       "      <th>source_class</th>\n",
       "      <th>waterpoint_type</th>\n",
       "      <th>status_group</th>\n",
       "      <th>age</th>\n",
       "    </tr>\n",
       "  </thead>\n",
       "  <tbody>\n",
       "    <tr>\n",
       "      <th>0</th>\n",
       "      <td>1390</td>\n",
       "      <td>34.938093</td>\n",
       "      <td>-9.856322</td>\n",
       "      <td>Mnyusi B</td>\n",
       "      <td>Iringa</td>\n",
       "      <td>109</td>\n",
       "      <td>gravity</td>\n",
       "      <td>pay annually</td>\n",
       "      <td>soft</td>\n",
       "      <td>enough</td>\n",
       "      <td>groundwater</td>\n",
       "      <td>communal standpipe</td>\n",
       "      <td>0</td>\n",
       "      <td>15</td>\n",
       "    </tr>\n",
       "    <tr>\n",
       "      <th>1</th>\n",
       "      <td>1399</td>\n",
       "      <td>34.698766</td>\n",
       "      <td>-2.147466</td>\n",
       "      <td>Nyamara</td>\n",
       "      <td>Mara</td>\n",
       "      <td>280</td>\n",
       "      <td>gravity</td>\n",
       "      <td>never pay</td>\n",
       "      <td>soft</td>\n",
       "      <td>insufficient</td>\n",
       "      <td>surface</td>\n",
       "      <td>communal standpipe</td>\n",
       "      <td>0</td>\n",
       "      <td>5</td>\n",
       "    </tr>\n",
       "    <tr>\n",
       "      <th>2</th>\n",
       "      <td>686</td>\n",
       "      <td>37.460664</td>\n",
       "      <td>-3.821329</td>\n",
       "      <td>Majengo</td>\n",
       "      <td>Manyara</td>\n",
       "      <td>250</td>\n",
       "      <td>gravity</td>\n",
       "      <td>pay per bucket</td>\n",
       "      <td>soft</td>\n",
       "      <td>enough</td>\n",
       "      <td>surface</td>\n",
       "      <td>communal standpipe multiple</td>\n",
       "      <td>0</td>\n",
       "      <td>5</td>\n",
       "    </tr>\n",
       "    <tr>\n",
       "      <th>3</th>\n",
       "      <td>263</td>\n",
       "      <td>38.486161</td>\n",
       "      <td>-11.155298</td>\n",
       "      <td>Mahakamani</td>\n",
       "      <td>Mtwara</td>\n",
       "      <td>58</td>\n",
       "      <td>submersible</td>\n",
       "      <td>never pay</td>\n",
       "      <td>soft</td>\n",
       "      <td>dry</td>\n",
       "      <td>groundwater</td>\n",
       "      <td>communal standpipe multiple</td>\n",
       "      <td>1</td>\n",
       "      <td>30</td>\n",
       "    </tr>\n",
       "    <tr>\n",
       "      <th>4</th>\n",
       "      <td>0</td>\n",
       "      <td>31.130847</td>\n",
       "      <td>-1.825359</td>\n",
       "      <td>Kyanyamisa</td>\n",
       "      <td>Kagera</td>\n",
       "      <td>0</td>\n",
       "      <td>gravity</td>\n",
       "      <td>never pay</td>\n",
       "      <td>soft</td>\n",
       "      <td>seasonal</td>\n",
       "      <td>surface</td>\n",
       "      <td>communal standpipe</td>\n",
       "      <td>0</td>\n",
       "      <td>60</td>\n",
       "    </tr>\n",
       "    <tr>\n",
       "      <th>...</th>\n",
       "      <td>...</td>\n",
       "      <td>...</td>\n",
       "      <td>...</td>\n",
       "      <td>...</td>\n",
       "      <td>...</td>\n",
       "      <td>...</td>\n",
       "      <td>...</td>\n",
       "      <td>...</td>\n",
       "      <td>...</td>\n",
       "      <td>...</td>\n",
       "      <td>...</td>\n",
       "      <td>...</td>\n",
       "      <td>...</td>\n",
       "      <td>...</td>\n",
       "    </tr>\n",
       "    <tr>\n",
       "      <th>59395</th>\n",
       "      <td>1210</td>\n",
       "      <td>37.169807</td>\n",
       "      <td>-3.253847</td>\n",
       "      <td>Kiduruni</td>\n",
       "      <td>Kilimanjaro</td>\n",
       "      <td>125</td>\n",
       "      <td>gravity</td>\n",
       "      <td>pay per bucket</td>\n",
       "      <td>soft</td>\n",
       "      <td>enough</td>\n",
       "      <td>groundwater</td>\n",
       "      <td>communal standpipe</td>\n",
       "      <td>0</td>\n",
       "      <td>15</td>\n",
       "    </tr>\n",
       "    <tr>\n",
       "      <th>59396</th>\n",
       "      <td>1212</td>\n",
       "      <td>35.249991</td>\n",
       "      <td>-9.070629</td>\n",
       "      <td>Igumbilo</td>\n",
       "      <td>Iringa</td>\n",
       "      <td>56</td>\n",
       "      <td>gravity</td>\n",
       "      <td>pay annually</td>\n",
       "      <td>soft</td>\n",
       "      <td>enough</td>\n",
       "      <td>surface</td>\n",
       "      <td>communal standpipe</td>\n",
       "      <td>0</td>\n",
       "      <td>20</td>\n",
       "    </tr>\n",
       "    <tr>\n",
       "      <th>59397</th>\n",
       "      <td>0</td>\n",
       "      <td>34.017087</td>\n",
       "      <td>-8.750434</td>\n",
       "      <td>Madungulu</td>\n",
       "      <td>Mbeya</td>\n",
       "      <td>0</td>\n",
       "      <td>swn 80</td>\n",
       "      <td>pay monthly</td>\n",
       "      <td>fluoride</td>\n",
       "      <td>enough</td>\n",
       "      <td>groundwater</td>\n",
       "      <td>hand pump</td>\n",
       "      <td>0</td>\n",
       "      <td>60</td>\n",
       "    </tr>\n",
       "    <tr>\n",
       "      <th>59398</th>\n",
       "      <td>0</td>\n",
       "      <td>35.861315</td>\n",
       "      <td>-6.378573</td>\n",
       "      <td>Mwinyi</td>\n",
       "      <td>Dodoma</td>\n",
       "      <td>0</td>\n",
       "      <td>nira/tanira</td>\n",
       "      <td>never pay</td>\n",
       "      <td>soft</td>\n",
       "      <td>insufficient</td>\n",
       "      <td>groundwater</td>\n",
       "      <td>hand pump</td>\n",
       "      <td>0</td>\n",
       "      <td>60</td>\n",
       "    </tr>\n",
       "    <tr>\n",
       "      <th>59399</th>\n",
       "      <td>191</td>\n",
       "      <td>38.104048</td>\n",
       "      <td>-6.747464</td>\n",
       "      <td>Kikatanyemba</td>\n",
       "      <td>Morogoro</td>\n",
       "      <td>150</td>\n",
       "      <td>nira/tanira</td>\n",
       "      <td>pay when scheme fails</td>\n",
       "      <td>salty</td>\n",
       "      <td>enough</td>\n",
       "      <td>groundwater</td>\n",
       "      <td>hand pump</td>\n",
       "      <td>0</td>\n",
       "      <td>15</td>\n",
       "    </tr>\n",
       "  </tbody>\n",
       "</table>\n",
       "<p>59400 rows × 14 columns</p>\n",
       "</div>"
      ],
      "text/plain": [
       "       gps_height  longitude   latitude    subvillage       region  \\\n",
       "0            1390  34.938093  -9.856322      Mnyusi B       Iringa   \n",
       "1            1399  34.698766  -2.147466       Nyamara         Mara   \n",
       "2             686  37.460664  -3.821329       Majengo      Manyara   \n",
       "3             263  38.486161 -11.155298    Mahakamani       Mtwara   \n",
       "4               0  31.130847  -1.825359    Kyanyamisa       Kagera   \n",
       "...           ...        ...        ...           ...          ...   \n",
       "59395        1210  37.169807  -3.253847      Kiduruni  Kilimanjaro   \n",
       "59396        1212  35.249991  -9.070629      Igumbilo       Iringa   \n",
       "59397           0  34.017087  -8.750434     Madungulu        Mbeya   \n",
       "59398           0  35.861315  -6.378573        Mwinyi       Dodoma   \n",
       "59399         191  38.104048  -6.747464  Kikatanyemba     Morogoro   \n",
       "\n",
       "       population extraction_type                payment water_quality  \\\n",
       "0             109         gravity           pay annually          soft   \n",
       "1             280         gravity              never pay          soft   \n",
       "2             250         gravity         pay per bucket          soft   \n",
       "3              58     submersible              never pay          soft   \n",
       "4               0         gravity              never pay          soft   \n",
       "...           ...             ...                    ...           ...   \n",
       "59395         125         gravity         pay per bucket          soft   \n",
       "59396          56         gravity           pay annually          soft   \n",
       "59397           0          swn 80            pay monthly      fluoride   \n",
       "59398           0     nira/tanira              never pay          soft   \n",
       "59399         150     nira/tanira  pay when scheme fails         salty   \n",
       "\n",
       "           quantity source_class              waterpoint_type  status_group  \\\n",
       "0            enough  groundwater           communal standpipe             0   \n",
       "1      insufficient      surface           communal standpipe             0   \n",
       "2            enough      surface  communal standpipe multiple             0   \n",
       "3               dry  groundwater  communal standpipe multiple             1   \n",
       "4          seasonal      surface           communal standpipe             0   \n",
       "...             ...          ...                          ...           ...   \n",
       "59395        enough  groundwater           communal standpipe             0   \n",
       "59396        enough      surface           communal standpipe             0   \n",
       "59397        enough  groundwater                    hand pump             0   \n",
       "59398  insufficient  groundwater                    hand pump             0   \n",
       "59399        enough  groundwater                    hand pump             0   \n",
       "\n",
       "       age  \n",
       "0       15  \n",
       "1        5  \n",
       "2        5  \n",
       "3       30  \n",
       "4       60  \n",
       "...    ...  \n",
       "59395   15  \n",
       "59396   20  \n",
       "59397   60  \n",
       "59398   60  \n",
       "59399   15  \n",
       "\n",
       "[59400 rows x 14 columns]"
      ]
     },
     "execution_count": 15,
     "metadata": {},
     "output_type": "execute_result"
    }
   ],
   "source": [
    "df_clean"
   ]
  },
  {
   "cell_type": "code",
   "execution_count": 16,
   "metadata": {},
   "outputs": [
    {
     "data": {
      "text/html": [
       "<pre>✔️ 10.3 ms (2023-01-04T11:55:13/2023-01-04T11:55:13)</pre>"
      ],
      "text/plain": [
       "<IPython.core.display.HTML object>"
      ]
     },
     "metadata": {},
     "output_type": "display_data"
    },
    {
     "data": {
      "text/plain": [
       "{int64: ['gps_height', 'population', 'status_group', 'age'], float64: ['longitude', 'latitude'], object: ['subvillage', 'region', 'extraction_type', 'payment', 'water_quality', 'quantity', 'source_class', 'waterpoint_type']}"
      ]
     },
     "execution_count": 16,
     "metadata": {},
     "output_type": "execute_result"
    }
   ],
   "source": [
    "df_clean.columns.to_series().groupby(df.dtypes).groups"
   ]
  },
  {
   "cell_type": "code",
   "execution_count": 17,
   "metadata": {},
   "outputs": [
    {
     "data": {
      "text/html": [
       "<pre>✔️ 556 µs (2023-01-04T11:55:16/2023-01-04T11:55:16)</pre>"
      ],
      "text/plain": [
       "<IPython.core.display.HTML object>"
      ]
     },
     "metadata": {},
     "output_type": "display_data"
    }
   ],
   "source": [
    "#numeric_columns=['gps_height','population','longitude', 'latitude','age']\n",
    "#cols_cat_binary = ['public_meeting','permit']\n",
    "#cols_categorical = ['basin', 'subvillage', 'extraction_type',\n",
    "#                    'management_group', 'payment', 'water_quality', 'quantity',\n",
    "#                    'source_class', 'waterpoint_type']"
   ]
  },
  {
   "cell_type": "code",
   "execution_count": 18,
   "metadata": {},
   "outputs": [
    {
     "data": {
      "text/html": [
       "<pre>✔️ 815 µs (2023-01-04T11:55:17/2023-01-04T11:55:17)</pre>"
      ],
      "text/plain": [
       "<IPython.core.display.HTML object>"
      ]
     },
     "metadata": {},
     "output_type": "display_data"
    }
   ],
   "source": [
    "numeric_columns=['gps_height', 'population','longitude', 'latitude','age']\n",
    "#cols_cat_binary = ['public_meeting','permit']\n",
    "cols_categorical = ['subvillage', 'region','extraction_type',\n",
    "                     'payment', 'water_quality', 'quantity',\n",
    "                    'source_class', 'waterpoint_type']"
   ]
  },
  {
   "cell_type": "code",
   "execution_count": 19,
   "metadata": {},
   "outputs": [
    {
     "data": {
      "text/html": [
       "<pre>✔️ 7.71 ms (2023-01-04T11:55:19/2023-01-04T11:55:19)</pre>"
      ],
      "text/plain": [
       "<IPython.core.display.HTML object>"
      ]
     },
     "metadata": {},
     "output_type": "display_data"
    }
   ],
   "source": [
    "X = df_clean.drop('status_group',axis=1)\n",
    "y = df_clean.status_group"
   ]
  },
  {
   "cell_type": "code",
   "execution_count": 20,
   "metadata": {},
   "outputs": [
    {
     "data": {
      "text/html": [
       "<pre>✔️ 23.8 ms (2023-01-04T11:55:23/2023-01-04T11:55:23)</pre>"
      ],
      "text/plain": [
       "<IPython.core.display.HTML object>"
      ]
     },
     "metadata": {},
     "output_type": "display_data"
    },
    {
     "data": {
      "text/html": [
       "<div>\n",
       "<style scoped>\n",
       "    .dataframe tbody tr th:only-of-type {\n",
       "        vertical-align: middle;\n",
       "    }\n",
       "\n",
       "    .dataframe tbody tr th {\n",
       "        vertical-align: top;\n",
       "    }\n",
       "\n",
       "    .dataframe thead th {\n",
       "        text-align: right;\n",
       "    }\n",
       "</style>\n",
       "<table border=\"1\" class=\"dataframe\">\n",
       "  <thead>\n",
       "    <tr style=\"text-align: right;\">\n",
       "      <th></th>\n",
       "      <th>subvillage</th>\n",
       "      <th>region</th>\n",
       "      <th>extraction_type</th>\n",
       "      <th>payment</th>\n",
       "      <th>water_quality</th>\n",
       "      <th>quantity</th>\n",
       "      <th>source_class</th>\n",
       "      <th>waterpoint_type</th>\n",
       "    </tr>\n",
       "  </thead>\n",
       "  <tbody>\n",
       "    <tr>\n",
       "      <th>0</th>\n",
       "      <td>Mnyusi B</td>\n",
       "      <td>Iringa</td>\n",
       "      <td>gravity</td>\n",
       "      <td>pay annually</td>\n",
       "      <td>soft</td>\n",
       "      <td>enough</td>\n",
       "      <td>groundwater</td>\n",
       "      <td>communal standpipe</td>\n",
       "    </tr>\n",
       "    <tr>\n",
       "      <th>1</th>\n",
       "      <td>Nyamara</td>\n",
       "      <td>Mara</td>\n",
       "      <td>gravity</td>\n",
       "      <td>never pay</td>\n",
       "      <td>soft</td>\n",
       "      <td>insufficient</td>\n",
       "      <td>surface</td>\n",
       "      <td>communal standpipe</td>\n",
       "    </tr>\n",
       "    <tr>\n",
       "      <th>2</th>\n",
       "      <td>Majengo</td>\n",
       "      <td>Manyara</td>\n",
       "      <td>gravity</td>\n",
       "      <td>pay per bucket</td>\n",
       "      <td>soft</td>\n",
       "      <td>enough</td>\n",
       "      <td>surface</td>\n",
       "      <td>communal standpipe multiple</td>\n",
       "    </tr>\n",
       "    <tr>\n",
       "      <th>3</th>\n",
       "      <td>Mahakamani</td>\n",
       "      <td>Mtwara</td>\n",
       "      <td>submersible</td>\n",
       "      <td>never pay</td>\n",
       "      <td>soft</td>\n",
       "      <td>dry</td>\n",
       "      <td>groundwater</td>\n",
       "      <td>communal standpipe multiple</td>\n",
       "    </tr>\n",
       "    <tr>\n",
       "      <th>4</th>\n",
       "      <td>Kyanyamisa</td>\n",
       "      <td>Kagera</td>\n",
       "      <td>gravity</td>\n",
       "      <td>never pay</td>\n",
       "      <td>soft</td>\n",
       "      <td>seasonal</td>\n",
       "      <td>surface</td>\n",
       "      <td>communal standpipe</td>\n",
       "    </tr>\n",
       "    <tr>\n",
       "      <th>...</th>\n",
       "      <td>...</td>\n",
       "      <td>...</td>\n",
       "      <td>...</td>\n",
       "      <td>...</td>\n",
       "      <td>...</td>\n",
       "      <td>...</td>\n",
       "      <td>...</td>\n",
       "      <td>...</td>\n",
       "    </tr>\n",
       "    <tr>\n",
       "      <th>59395</th>\n",
       "      <td>Kiduruni</td>\n",
       "      <td>Kilimanjaro</td>\n",
       "      <td>gravity</td>\n",
       "      <td>pay per bucket</td>\n",
       "      <td>soft</td>\n",
       "      <td>enough</td>\n",
       "      <td>groundwater</td>\n",
       "      <td>communal standpipe</td>\n",
       "    </tr>\n",
       "    <tr>\n",
       "      <th>59396</th>\n",
       "      <td>Igumbilo</td>\n",
       "      <td>Iringa</td>\n",
       "      <td>gravity</td>\n",
       "      <td>pay annually</td>\n",
       "      <td>soft</td>\n",
       "      <td>enough</td>\n",
       "      <td>surface</td>\n",
       "      <td>communal standpipe</td>\n",
       "    </tr>\n",
       "    <tr>\n",
       "      <th>59397</th>\n",
       "      <td>Madungulu</td>\n",
       "      <td>Mbeya</td>\n",
       "      <td>swn 80</td>\n",
       "      <td>pay monthly</td>\n",
       "      <td>fluoride</td>\n",
       "      <td>enough</td>\n",
       "      <td>groundwater</td>\n",
       "      <td>hand pump</td>\n",
       "    </tr>\n",
       "    <tr>\n",
       "      <th>59398</th>\n",
       "      <td>Mwinyi</td>\n",
       "      <td>Dodoma</td>\n",
       "      <td>nira/tanira</td>\n",
       "      <td>never pay</td>\n",
       "      <td>soft</td>\n",
       "      <td>insufficient</td>\n",
       "      <td>groundwater</td>\n",
       "      <td>hand pump</td>\n",
       "    </tr>\n",
       "    <tr>\n",
       "      <th>59399</th>\n",
       "      <td>Kikatanyemba</td>\n",
       "      <td>Morogoro</td>\n",
       "      <td>nira/tanira</td>\n",
       "      <td>pay when scheme fails</td>\n",
       "      <td>salty</td>\n",
       "      <td>enough</td>\n",
       "      <td>groundwater</td>\n",
       "      <td>hand pump</td>\n",
       "    </tr>\n",
       "  </tbody>\n",
       "</table>\n",
       "<p>59400 rows × 8 columns</p>\n",
       "</div>"
      ],
      "text/plain": [
       "         subvillage       region extraction_type                payment  \\\n",
       "0          Mnyusi B       Iringa         gravity           pay annually   \n",
       "1           Nyamara         Mara         gravity              never pay   \n",
       "2           Majengo      Manyara         gravity         pay per bucket   \n",
       "3        Mahakamani       Mtwara     submersible              never pay   \n",
       "4        Kyanyamisa       Kagera         gravity              never pay   \n",
       "...             ...          ...             ...                    ...   \n",
       "59395      Kiduruni  Kilimanjaro         gravity         pay per bucket   \n",
       "59396      Igumbilo       Iringa         gravity           pay annually   \n",
       "59397     Madungulu        Mbeya          swn 80            pay monthly   \n",
       "59398        Mwinyi       Dodoma     nira/tanira              never pay   \n",
       "59399  Kikatanyemba     Morogoro     nira/tanira  pay when scheme fails   \n",
       "\n",
       "      water_quality      quantity source_class              waterpoint_type  \n",
       "0              soft        enough  groundwater           communal standpipe  \n",
       "1              soft  insufficient      surface           communal standpipe  \n",
       "2              soft        enough      surface  communal standpipe multiple  \n",
       "3              soft           dry  groundwater  communal standpipe multiple  \n",
       "4              soft      seasonal      surface           communal standpipe  \n",
       "...             ...           ...          ...                          ...  \n",
       "59395          soft        enough  groundwater           communal standpipe  \n",
       "59396          soft        enough      surface           communal standpipe  \n",
       "59397      fluoride        enough  groundwater                    hand pump  \n",
       "59398          soft  insufficient  groundwater                    hand pump  \n",
       "59399         salty        enough  groundwater                    hand pump  \n",
       "\n",
       "[59400 rows x 8 columns]"
      ]
     },
     "execution_count": 20,
     "metadata": {},
     "output_type": "execute_result"
    }
   ],
   "source": [
    "df_clean.select_dtypes(include=[object])"
   ]
  },
  {
   "cell_type": "code",
   "execution_count": 21,
   "metadata": {},
   "outputs": [
    {
     "data": {
      "text/html": [
       "<pre>✔️ 47.8 ms (2023-01-04T11:55:26/2023-01-04T11:55:26)</pre>"
      ],
      "text/plain": [
       "<IPython.core.display.HTML object>"
      ]
     },
     "metadata": {},
     "output_type": "display_data"
    }
   ],
   "source": [
    "X_train,X_test,y_train,y_test=train_test_split(X,y,random_state=42,shuffle=True, stratify=y)"
   ]
  },
  {
   "cell_type": "code",
   "execution_count": 22,
   "metadata": {},
   "outputs": [
    {
     "data": {
      "text/html": [
       "<pre>✔️ 871 µs (2023-01-04T11:55:29/2023-01-04T11:55:29)</pre>"
      ],
      "text/plain": [
       "<IPython.core.display.HTML object>"
      ]
     },
     "metadata": {},
     "output_type": "display_data"
    }
   ],
   "source": [
    "def grab_numeric(df):\n",
    "    return df.select_dtypes(exclude=[object])\n",
    "GrabNumeric = FunctionTransformer(grab_numeric)"
   ]
  },
  {
   "cell_type": "code",
   "execution_count": 23,
   "metadata": {},
   "outputs": [
    {
     "data": {
      "text/html": [
       "<pre>✔️ 8.94 ms (2023-01-04T11:55:34/2023-01-04T11:55:34)</pre>"
      ],
      "text/plain": [
       "<IPython.core.display.HTML object>"
      ]
     },
     "metadata": {},
     "output_type": "display_data"
    },
    {
     "name": "stdout",
     "output_type": "stream",
     "text": [
      "X_train shape (44550, 13)\n",
      "cateogorical shape (44550, 8)\n",
      "numeric shape (44550, 5)\n"
     ]
    }
   ],
   "source": [
    "#X_train_binary  = X_train[cols_cat_binary]\n",
    "X_train_cat     = X_train[cols_categorical]\n",
    "X_train_numeric = X_train[numeric_columns]\n",
    "\n",
    "print(\"X_train shape\", X_train.shape)\n",
    "#print(\"binary shape\", X_train_binary.shape)\n",
    "print(\"cateogorical shape\", X_train_cat.shape)\n",
    "print(\"numeric shape\", X_train_numeric.shape)"
   ]
  },
  {
   "cell_type": "code",
   "execution_count": 24,
   "metadata": {},
   "outputs": [
    {
     "data": {
      "text/html": [
       "<pre>✔️ 1.01 ms (2023-01-04T11:55:36/2023-01-04T11:55:36)</pre>"
      ],
      "text/plain": [
       "<IPython.core.display.HTML object>"
      ]
     },
     "metadata": {},
     "output_type": "display_data"
    }
   ],
   "source": [
    "preprocess_numeric = Pipeline(steps=[\n",
    "    ('num', GrabNumeric),\n",
    "    ('ss', StandardScaler())\n",
    "])"
   ]
  },
  {
   "cell_type": "code",
   "execution_count": 25,
   "metadata": {},
   "outputs": [
    {
     "data": {
      "text/html": [
       "<pre>✔️ 1.99 ms (2023-01-04T11:55:39/2023-01-04T11:55:39)</pre>"
      ],
      "text/plain": [
       "<IPython.core.display.HTML object>"
      ]
     },
     "metadata": {},
     "output_type": "display_data"
    }
   ],
   "source": [
    "preprocess_binary = Pipeline(steps=[\n",
    "    ('binary_impute', SimpleImputer(strategy='most_frequent')),\n",
    "    ('ohe', OneHotEncoder(sparse=False, handle_unknown='ignore'))\n",
    "])"
   ]
  },
  {
   "cell_type": "code",
   "execution_count": 26,
   "metadata": {},
   "outputs": [
    {
     "data": {
      "text/html": [
       "<pre>✔️ 1.78 ms (2023-01-04T11:55:40/2023-01-04T11:55:40)</pre>"
      ],
      "text/plain": [
       "<IPython.core.display.HTML object>"
      ]
     },
     "metadata": {},
     "output_type": "display_data"
    }
   ],
   "source": [
    "preprocess_categorical= Pipeline(steps=[\n",
    "    ('cat_impute', SimpleImputer(strategy='constant', fill_value='missing')),\n",
    "    ('ohe', OneHotEncoder(sparse=False,handle_unknown='ignore'))\n",
    "])"
   ]
  },
  {
   "cell_type": "code",
   "execution_count": 27,
   "metadata": {},
   "outputs": [
    {
     "data": {
      "text/html": [
       "<pre>✔️ 842 µs (2023-01-04T11:55:40/2023-01-04T11:55:40)</pre>"
      ],
      "text/plain": [
       "<IPython.core.display.HTML object>"
      ]
     },
     "metadata": {},
     "output_type": "display_data"
    }
   ],
   "source": [
    "preprocessor = ColumnTransformer(transformers=[\n",
    "                                  #('preprocess_binary', preprocess_binary, cols_cat_binary),\n",
    "                                  ('preprocess_categorical', preprocess_categorical,cols_categorical),\n",
    "                                  ('preprocess_numeric',preprocess_numeric,numeric_columns)],\n",
    "                                    remainder='passthrough')#,\n",
    "                           #remainder='passthrough')"
   ]
  },
  {
   "cell_type": "code",
   "execution_count": null,
   "metadata": {},
   "outputs": [],
   "source": [
    "#cat_features_binary=preprocessor.named_transformers_['preprocess_binary']\\\n",
    "#.named_steps['ohe'].get_feature_names(X_train_binary.columns)\n",
    "cat_feature_other = preprocessor.named_transformers_['preprocess_categorical']\\\n",
    ".named_steps['ohe'].get_feature_names(X_train_cat.columns)\n",
    "feature_names     = np.r_[cat_feature_other,X_train_numeric.columns]\n",
    "feature_names\n",
    "#X_train_transformed = pd.DataFrame(preprocessor.fit_transform(X_train), columns= feature_names)\n",
    "#X_train_transformed"
   ]
  },
  {
   "cell_type": "code",
   "execution_count": 26,
   "metadata": {},
   "outputs": [
    {
     "data": {
      "text/html": [
       "<pre>✔️ 19 min 29 s (2023-01-04T08:06:24/2023-01-04T08:25:53)</pre>"
      ],
      "text/plain": [
       "<IPython.core.display.HTML object>"
      ]
     },
     "metadata": {},
     "output_type": "display_data"
    }
   ],
   "source": [
    "baseline_logreg = Pipeline(steps=[\n",
    "    (\"preprocessor\", preprocessor),\n",
    "    (\"estimator\", LogisticRegression(random_state=42))])#,multi_class='multinomial', solver='newton-cg'))]) # use random state so that your model results are reproducable. \n",
    "\n",
    "# Train model\n",
    "baseline_logreg.fit(X_train, y_train);"
   ]
  },
  {
   "cell_type": "code",
   "execution_count": 154,
   "metadata": {},
   "outputs": [
    {
     "data": {
      "text/html": [
       "<pre>✔️ 18 min 59 s (2023-01-04T10:12:58/2023-01-04T10:31:57)</pre>"
      ],
      "text/plain": [
       "<IPython.core.display.HTML object>"
      ]
     },
     "metadata": {},
     "output_type": "display_data"
    }
   ],
   "source": [
    "baseline_logreg = Pipeline(steps=[\n",
    "    (\"preprocessor\", preprocessor),\n",
    "    (\"estimator\", LogisticRegression(random_state=42))])#,multi_class='multinomial', solver='newton-cg'))]) # use random state so that your model results are reproducable. \n",
    "\n",
    "# Train model\n",
    "baseline_logreg.fit(X_train, y_train);"
   ]
  },
  {
   "cell_type": "code",
   "execution_count": 28,
   "metadata": {},
   "outputs": [
    {
     "data": {
      "text/html": [
       "<pre>✔️ 2.41 ms (2023-01-04T11:55:48/2023-01-04T11:55:48)</pre>"
      ],
      "text/plain": [
       "<IPython.core.display.HTML object>"
      ]
     },
     "metadata": {},
     "output_type": "display_data"
    }
   ],
   "source": [
    "def model_performance(model):\n",
    "    plot_confusion_matrix(model, X_test, y_test, normalize = 'true', cmap = 'Blues') \n",
    "    y_train_pred = model.predict(X_train)\n",
    "    y_test_pred  = model.predict(X_test) \n",
    "    training_accuracy = accuracy_score(y_train,y_train_pred)\n",
    "    test_accuracy = accuracy_score(y_test,y_test_pred)\n",
    "    roc_train_score=roc_auc_score(y_train,model.predict_proba(X_train),\n",
    "              average='weighted',multi_class='ovr')\n",
    "    roc_test_score=roc_auc_score(y_test,model.predict_proba(X_test),\n",
    "              average='weighted',multi_class='ovr')\n",
    "    print('')\n",
    "    print('Training Accuracy: {:.4}%'.format(training_accuracy * 100))\n",
    "    print('Validation accuracy: {:.4}%\\n'.format(test_accuracy * 100))\n",
    "    \n",
    "    print('Micro Precision: {:.2f}'.format(precision_score(y_train, y_train_pred, average='micro')))\n",
    "    print('Micro Recall: {:.2f}'.format(recall_score(y_train, y_train_pred, average='micro')))\n",
    "    print('Micro F1-score: {:.2f}\\n'.format(f1_score(y_train, y_train_pred, average='micro')))\n",
    "\n",
    "    print('Macro Precision: {:.2f}'.format(precision_score(y_train, y_train_pred, average='macro')))\n",
    "    print('Macro Recall: {:.2f}'.format(recall_score(y_train, y_train_pred, average='macro')))\n",
    "    print('Macro F1-score: {:.2f}\\n'.format(f1_score(y_train, y_train_pred, average='macro')))\n",
    "\n",
    "    print('Weighted F1-score: {:.2f}'.format(f1_score(y_train,y_train_pred , average='weighted')))\n",
    "    print('Weighted Preciasion: {:.2f}'.format(precision_score(y_train, y_train_pred, average='weighted')))\n",
    "    print('Weighted Recall: {:.2f}\\n'.format(recall_score(y_train, y_train_pred, average='weighted')))\n",
    "    \n",
    "    print(\"ROC Weighted score:train, test\", roc_train_score,roc_test_score)\n",
    "    print(\"Train Score:{:.2f} \".format(model.score(X_train, y_train)))\n",
    "    print(\"Test Score:{:.2f} \".format(model.score(X_test, y_test)))\n",
    "                                       "
   ]
  },
  {
   "cell_type": "code",
   "execution_count": 169,
   "metadata": {},
   "outputs": [
    {
     "data": {
      "text/html": [
       "<pre>✔️ 1 min 34 s (2023-01-04T10:55:00/2023-01-04T10:56:35)</pre>"
      ],
      "text/plain": [
       "<IPython.core.display.HTML object>"
      ]
     },
     "metadata": {},
     "output_type": "display_data"
    },
    {
     "name": "stdout",
     "output_type": "stream",
     "text": [
      "\n",
      "Training Accuracy: 79.59%\n",
      "Validation accuracy: 73.56%\n",
      "\n",
      "Micro Precision: 0.80\n",
      "Micro Recall: 0.80\n",
      "Micro F1-score: 0.80\n",
      "\n",
      "Macro Precision: 0.77\n",
      "Macro Recall: 0.62\n",
      "Macro F1-score: 0.65\n",
      "\n",
      "Weighted F1-score: 0.78\n",
      "Weighted Preciasion: 0.80\n",
      "Weighted Recall: 0.80\n",
      "\n",
      "ROC Weighted score:train, test 0.9093975700164321 0.8377442728436197\n",
      "Train Score:0.80 \n",
      "Test Score:0.74 \n"
     ]
    },
    {
     "data": {
      "image/png": "[encoded data removed]",
      "text/plain": [
       "<Figure size 432x288 with 2 Axes>"
      ]
     },
     "metadata": {
      "needs_background": "light"
     },
     "output_type": "display_data"
    }
   ],
   "source": [
    "model_performance(baseline_logreg)"
   ]
  },
  {
   "cell_type": "code",
   "execution_count": 44,
   "metadata": {},
   "outputs": [
    {
     "data": {
      "text/html": [
       "<pre>✔️ 5 min 3 s (2023-01-04T18:13:49/2023-01-04T18:18:53)</pre>"
      ],
      "text/plain": [
       "<IPython.core.display.HTML object>"
      ]
     },
     "metadata": {},
     "output_type": "display_data"
    }
   ],
   "source": [
    "rfc = RandomForestClassifier(random_state=42,class_weight = 'balanced',\n",
    "                            min_samples_leaf=4)\n",
    "\n",
    "rfc_model_pipe = Pipeline(steps=[\n",
    "    (\"preprocessor\", preprocessor),\n",
    "    (\"estimator\",rfc)\n",
    "])\n",
    "rfc_model_pipe.fit(X_train, y_train);"
   ]
  },
  {
   "cell_type": "code",
   "execution_count": null,
   "metadata": {},
   "outputs": [
    {
     "data": {
      "text/html": [
       "<pre>⌛ 29.3 s (2023-01-04T18:25:22)</pre>"
      ],
      "text/plain": [
       "<IPython.core.display.HTML object>"
      ]
     },
     "metadata": {},
     "output_type": "display_data"
    }
   ],
   "source": [
    "model_performance(rfc_model_pipe)"
   ]
  },
  {
   "cell_type": "code",
   "execution_count": 174,
   "metadata": {},
   "outputs": [
    {
     "data": {
      "text/html": [
       "<pre>✔️ 3 min 21 s (2023-01-04T11:15:02/2023-01-04T11:18:23)</pre>"
      ],
      "text/plain": [
       "<IPython.core.display.HTML object>"
      ]
     },
     "metadata": {},
     "output_type": "display_data"
    }
   ],
   "source": [
    "knn = KNeighborsClassifier()\n",
    "knn_model_pipe = Pipeline(steps=[\n",
    "    (\"preprocessor\", preprocessor),\n",
    "    (\"estimator\",knn)\n",
    "])\n",
    "knn_model_pipe.fit(X_train, y_train);"
   ]
  },
  {
   "cell_type": "code",
   "execution_count": null,
   "metadata": {},
   "outputs": [
    {
     "data": {
      "text/html": [
       "<pre>⌛ 35 min 35 s (2023-01-04T11:18:30)</pre>"
      ],
      "text/plain": [
       "<IPython.core.display.HTML object>"
      ]
     },
     "metadata": {},
     "output_type": "display_data"
    }
   ],
   "source": [
    "model_performance(knn_model_pipe)"
   ]
  },
  {
   "cell_type": "code",
   "execution_count": 29,
   "metadata": {},
   "outputs": [
    {
     "data": {
      "text/html": [
       "<pre>✔️ 2 min 59 s (2023-01-04T11:55:56/2023-01-04T11:58:56)</pre>"
      ],
      "text/plain": [
       "<IPython.core.display.HTML object>"
      ]
     },
     "metadata": {},
     "output_type": "display_data"
    }
   ],
   "source": [
    "dtree= DecisionTreeClassifier(random_state= 42)\n",
    "dtree_model_pipe = Pipeline(steps=[\n",
    "    (\"preprocessor\", preprocessor),\n",
    "    (\"estimator\",dtree)\n",
    "])\n",
    "dtree_model_pipe.fit(X_train, y_train);"
   ]
  },
  {
   "cell_type": "code",
   "execution_count": 30,
   "metadata": {},
   "outputs": [
    {
     "data": {
      "text/html": [
       "<pre>✔️ 1 min 18 s (2023-01-04T11:59:47/2023-01-04T12:01:05)</pre>"
      ],
      "text/plain": [
       "<IPython.core.display.HTML object>"
      ]
     },
     "metadata": {},
     "output_type": "display_data"
    },
    {
     "name": "stdout",
     "output_type": "stream",
     "text": [
      "\n",
      "Training Accuracy: 99.94%\n",
      "Validation accuracy: 76.53%\n",
      "\n",
      "Micro Precision: 1.00\n",
      "Micro Recall: 1.00\n",
      "Micro F1-score: 1.00\n",
      "\n",
      "Macro Precision: 1.00\n",
      "Macro Recall: 1.00\n",
      "Macro F1-score: 1.00\n",
      "\n",
      "Weighted F1-score: 1.00\n",
      "Weighted Preciasion: 1.00\n",
      "Weighted Recall: 1.00\n",
      "\n",
      "ROC Weighted score:train, test 0.9999995517310594 0.786373604418425\n",
      "Train Score:1.00 \n",
      "Test Score:0.77 \n"
     ]
    },
    {
     "data": {
      "image/png": "[encoded data removed]",
      "text/plain": [
       "<Figure size 432x288 with 2 Axes>"
      ]
     },
     "metadata": {
      "needs_background": "light"
     },
     "output_type": "display_data"
    }
   ],
   "source": [
    "model_performance(dtree_model_pipe)"
   ]
  },
  {
   "cell_type": "code",
   "execution_count": 31,
   "metadata": {},
   "outputs": [
    {
     "data": {
      "text/html": [
       "<pre>✔️ 5 h 49 min 14 s (2023-01-04T12:01:19/2023-01-04T17:50:34)</pre>"
      ],
      "text/plain": [
       "<IPython.core.display.HTML object>"
      ]
     },
     "metadata": {},
     "output_type": "display_data"
    }
   ],
   "source": [
    "clf = XGBClassifier()\n",
    "xgb_model_pipe = Pipeline(steps=[\n",
    "    (\"preprocessor\", preprocessor),\n",
    "    (\"estimator\",clf)\n",
    "])\n",
    "xgb_model_pipe.fit(X_train, y_train);"
   ]
  },
  {
   "cell_type": "code",
   "execution_count": 32,
   "metadata": {},
   "outputs": [
    {
     "data": {
      "text/html": [
       "<pre>✔️ 3 min 55 s (2023-01-04T17:59:50/2023-01-04T18:03:45)</pre>"
      ],
      "text/plain": [
       "<IPython.core.display.HTML object>"
      ]
     },
     "metadata": {},
     "output_type": "display_data"
    },
    {
     "name": "stdout",
     "output_type": "stream",
     "text": [
      "\n",
      "Training Accuracy: 80.2%\n",
      "Validation accuracy: 77.41%\n",
      "\n",
      "Micro Precision: 0.80\n",
      "Micro Recall: 0.80\n",
      "Micro F1-score: 0.80\n",
      "\n",
      "Macro Precision: 0.81\n",
      "Macro Recall: 0.63\n",
      "Macro F1-score: 0.67\n",
      "\n",
      "Weighted F1-score: 0.79\n",
      "Weighted Preciasion: 0.81\n",
      "Weighted Recall: 0.80\n",
      "\n",
      "ROC Weighted score:train, test 0.9095065875784736 0.8787711871098268\n",
      "Train Score:0.80 \n",
      "Test Score:0.77 \n"
     ]
    },
    {
     "data": {
      "image/png": "[encoded data removed]",
      "text/plain": [
       "<Figure size 432x288 with 2 Axes>"
      ]
     },
     "metadata": {
      "needs_background": "light"
     },
     "output_type": "display_data"
    }
   ],
   "source": [
    "model_performance(xgb_model_pipe)"
   ]
  },
  {
   "cell_type": "code",
   "execution_count": 39,
   "metadata": {},
   "outputs": [
    {
     "data": {
      "text/html": [
       "<pre>✔️ 1.23 ms (2023-01-04T18:06:22/2023-01-04T18:06:22)</pre>"
      ],
      "text/plain": [
       "<IPython.core.display.HTML object>"
      ]
     },
     "metadata": {},
     "output_type": "display_data"
    }
   ],
   "source": [
    "# visualize feature importance from a pipeline\n",
    "def feature_importance_ML(model, modelname):\n",
    "    feature_importances = model.named_steps['estimator'].feature_importances_\n",
    "    importance = pd.Series(feature_importances, index=feature_names) # always positive value?\n",
    "    with plt.style.context('seaborn-talk'):\n",
    "        fig, ax = plt.subplots(figsize=(10,10))\n",
    "        importance.sort_values().tail(20).plot.barh(ax=ax);\n",
    "        ax.set_title(\"Relative Importance of Features \\n for Predicting Vaccine Status \\n ({}) \\n\".format(modelname), fontsize=18, fontweight='bold') \n",
    "        ax.set_xlabel('Feature importance')\n",
    "        ax.set_ylabel('Features')\n",
    "        plt.tight_layout()\n",
    "        #plt.savefig('./images/{}_FeatureImportance.png'.format(modelname), dpi=300, bbox_inches='tight')\n",
    "        "
   ]
  },
  {
   "cell_type": "code",
   "execution_count": 40,
   "metadata": {},
   "outputs": [
    {
     "data": {
      "text/html": [
       "<pre>✔️ 591 ms (2023-01-04T18:06:24/2023-01-04T18:06:25)</pre>"
      ],
      "text/plain": [
       "<IPython.core.display.HTML object>"
      ]
     },
     "metadata": {},
     "output_type": "display_data"
    },
    {
     "data": {
      "image/png": "[encoded data removed]",
      "text/plain": [
       "<Figure size 720x720 with 1 Axes>"
      ]
     },
     "metadata": {
      "needs_background": "light"
     },
     "output_type": "display_data"
    }
   ],
   "source": [
    "feature_importance_ML(xgb_model_pipe, \"XGBoost\")"
   ]
  },
  {
   "cell_type": "markdown",
   "metadata": {},
   "source": [
    "16749, 16758, 16749"
   ]
  },
  {
   "cell_type": "code",
   "execution_count": 43,
   "metadata": {},
   "outputs": [
    {
     "data": {
      "text/html": [
       "<pre>✔️ 14.1 ms (2023-01-04T18:11:51/2023-01-04T18:11:51)</pre>"
      ],
      "text/plain": [
       "<IPython.core.display.HTML object>"
      ]
     },
     "metadata": {},
     "output_type": "display_data"
    },
    {
     "ename": "NameError",
     "evalue": "name 'baseline_logreg' is not defined",
     "output_type": "error",
     "traceback": [
      "\u001b[0;31m---------------------------------------------------------------------------\u001b[0m",
      "\u001b[0;31mNameError\u001b[0m                                 Traceback (most recent call last)",
      "\u001b[0;32m<ipython-input-43-676262a12c04>\u001b[0m in \u001b[0;36m<module>\u001b[0;34m\u001b[0m\n\u001b[0;32m----> 1\u001b[0;31m \u001b[0mbaseline_logreg\u001b[0m\u001b[0;34m.\u001b[0m\u001b[0mscore\u001b[0m\u001b[0;34m(\u001b[0m\u001b[0mX_test\u001b[0m\u001b[0;34m,\u001b[0m\u001b[0my_test\u001b[0m\u001b[0;34m)\u001b[0m\u001b[0;34m\u001b[0m\u001b[0;34m\u001b[0m\u001b[0m\n\u001b[0m",
      "\u001b[0;31mNameError\u001b[0m: name 'baseline_logreg' is not defined"
     ]
    }
   ],
   "source": []
  },
  {
   "cell_type": "code",
   "execution_count": 159,
   "metadata": {},
   "outputs": [
    {
     "data": {
      "text/html": [
       "<pre>✔️ 574 ms (2023-01-04T10:40:26/2023-01-04T10:40:27)</pre>"
      ],
      "text/plain": [
       "<IPython.core.display.HTML object>"
      ]
     },
     "metadata": {},
     "output_type": "display_data"
    },
    {
     "data": {
      "image/png": "[encoded data removed]",
      "text/plain": [
       "<Figure size 720x720 with 1 Axes>"
      ]
     },
     "metadata": {
      "needs_background": "light"
     },
     "output_type": "display_data"
    }
   ],
   "source": [
    "coeffs = baseline_logreg.named_steps['estimator'].coef_ \n",
    "importance = pd.Series(abs(coeffs[0]), index=feature_names) # logreg_coeffs[0] = getting the one-dim list inside the list\n",
    "with plt.style.context('seaborn-talk'):\n",
    "    fig, ax = plt.subplots(figsize=(10,10))\n",
    "    importance.sort_values().tail(20).plot.barh(ax=ax);        \n",
    "    #ax.set_title(\"Relative Importance of Features \\n for Predicting Vaccine Status \\n ({}) \\n\".format(modelname), fontsize=18, fontweight='bold') \n",
    "    ax.set_xlabel('Feature importance')\n",
    "    ax.set_ylabel('Features')\n",
    "    fig.tight_layout()"
   ]
  },
  {
   "cell_type": "code",
   "execution_count": null,
   "metadata": {},
   "outputs": [],
   "source": [
    "parameters = {\n",
    "    'estimator__penalty' : ['l1','l2'], # default = l2 elasticnet is both\n",
    "    'estimator__fit_intercept':[True, False],\n",
    "    'estimator__C'       : [0.001,0.01,0.1,0.5,1,10,100], #np.logspace(-3,3,7) # default=1.0\n",
    "    'estimator__solver'  : ['newton-cg', 'lbfgs', 'liblinear'], # default = ’lbfgs’\n",
    "    'estimator__max_iter'  : [50,100,200]  # default = 100\n",
    "}\n",
    "      \n",
    "# Create the grid, with \"logreg_pipeline\" as the estimator\n",
    "best_logreg = GridSearchCV(estimator = baseline_logreg,   # model\n",
    "                          param_grid = parameters,     # hyperparameters\n",
    "                          #scoring ='roc_auc',          # metric for scoring\n",
    "                          cv = 3#,                      # number of folds for cross-validation\n",
    "                          #n_jobs = -1                  # 1 job per core of the computer.\n",
    ")                      \n",
    "\n",
    "# Train the pipeline (tranformations & predictor)\n",
    "#best_logreg.fit(X_train, y_train);"
   ]
  }
 ],
 "metadata": {
  "kernelspec": {
   "display_name": "Python 3",
   "language": "python",
   "name": "python3"
  },
  "language_info": {
   "codemirror_mode": {
    "name": "ipython",
    "version": 3
   },
   "file_extension": ".py",
   "mimetype": "text/x-python",
   "name": "python",
   "nbconvert_exporter": "python",
   "pygments_lexer": "ipython3",
   "version": "3.8.5"
  }
 },
 "nbformat": 4,
 "nbformat_minor": 4
}
