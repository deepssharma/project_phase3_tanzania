{
 "cells": [
  {
   "cell_type": "code",
   "execution_count": null,
   "id": "cb18f837",
   "metadata": {},
   "outputs": [],
   "source": [
    "import os, sys, time\n",
    "print(sys.executable)"
   ]
  },
  {
   "cell_type": "code",
   "execution_count": 1,
   "id": "a36ed020",
   "metadata": {},
   "outputs": [],
   "source": [
    "import pandas as pd\n",
    "import matplotlib.pyplot as plt\n",
    "%matplotlib inline\n",
    "from sklearn.preprocessing import MinMaxScaler\n",
    "from sklearn.model_selection import train_test_split\n",
    "from sklearn.metrics import mean_squared_error\n",
    "from sklearn.preprocessing import PolynomialFeatures\n",
    "from sklearn.linear_model import LinearRegression\n",
    "#pd.set_option('display.max_rows', 10)\n",
    "import seaborn as sns\n",
    "#sns.set_style(\"whitegrid\")\n",
    "import numpy as np\n",
    "import warnings\n",
    "warnings.filterwarnings(\"ignore\")\n",
    "#%load_ext autotime"
   ]
  },
  {
   "cell_type": "code",
   "execution_count": 2,
   "id": "418786eb",
   "metadata": {},
   "outputs": [
    {
     "data": {
      "text/html": [
       "<div>\n",
       "<style scoped>\n",
       "    .dataframe tbody tr th:only-of-type {\n",
       "        vertical-align: middle;\n",
       "    }\n",
       "\n",
       "    .dataframe tbody tr th {\n",
       "        vertical-align: top;\n",
       "    }\n",
       "\n",
       "    .dataframe thead th {\n",
       "        text-align: right;\n",
       "    }\n",
       "</style>\n",
       "<table border=\"1\" class=\"dataframe\">\n",
       "  <thead>\n",
       "    <tr style=\"text-align: right;\">\n",
       "      <th></th>\n",
       "      <th>id</th>\n",
       "      <th>amount_tsh</th>\n",
       "      <th>date_recorded</th>\n",
       "      <th>funder</th>\n",
       "      <th>gps_height</th>\n",
       "      <th>installer</th>\n",
       "      <th>longitude</th>\n",
       "      <th>latitude</th>\n",
       "      <th>wpt_name</th>\n",
       "      <th>num_private</th>\n",
       "      <th>...</th>\n",
       "      <th>payment_type</th>\n",
       "      <th>water_quality</th>\n",
       "      <th>quality_group</th>\n",
       "      <th>quantity</th>\n",
       "      <th>quantity_group</th>\n",
       "      <th>source</th>\n",
       "      <th>source_type</th>\n",
       "      <th>source_class</th>\n",
       "      <th>waterpoint_type</th>\n",
       "      <th>waterpoint_type_group</th>\n",
       "    </tr>\n",
       "  </thead>\n",
       "  <tbody>\n",
       "    <tr>\n",
       "      <th>0</th>\n",
       "      <td>69572</td>\n",
       "      <td>6000.0</td>\n",
       "      <td>2011-03-14</td>\n",
       "      <td>Roman</td>\n",
       "      <td>1390</td>\n",
       "      <td>Roman</td>\n",
       "      <td>34.938093</td>\n",
       "      <td>-9.856322</td>\n",
       "      <td>none</td>\n",
       "      <td>0</td>\n",
       "      <td>...</td>\n",
       "      <td>annually</td>\n",
       "      <td>soft</td>\n",
       "      <td>good</td>\n",
       "      <td>enough</td>\n",
       "      <td>enough</td>\n",
       "      <td>spring</td>\n",
       "      <td>spring</td>\n",
       "      <td>groundwater</td>\n",
       "      <td>communal standpipe</td>\n",
       "      <td>communal standpipe</td>\n",
       "    </tr>\n",
       "    <tr>\n",
       "      <th>1</th>\n",
       "      <td>8776</td>\n",
       "      <td>0.0</td>\n",
       "      <td>2013-03-06</td>\n",
       "      <td>Grumeti</td>\n",
       "      <td>1399</td>\n",
       "      <td>GRUMETI</td>\n",
       "      <td>34.698766</td>\n",
       "      <td>-2.147466</td>\n",
       "      <td>Zahanati</td>\n",
       "      <td>0</td>\n",
       "      <td>...</td>\n",
       "      <td>never pay</td>\n",
       "      <td>soft</td>\n",
       "      <td>good</td>\n",
       "      <td>insufficient</td>\n",
       "      <td>insufficient</td>\n",
       "      <td>rainwater harvesting</td>\n",
       "      <td>rainwater harvesting</td>\n",
       "      <td>surface</td>\n",
       "      <td>communal standpipe</td>\n",
       "      <td>communal standpipe</td>\n",
       "    </tr>\n",
       "    <tr>\n",
       "      <th>2</th>\n",
       "      <td>34310</td>\n",
       "      <td>25.0</td>\n",
       "      <td>2013-02-25</td>\n",
       "      <td>Lottery Club</td>\n",
       "      <td>686</td>\n",
       "      <td>World vision</td>\n",
       "      <td>37.460664</td>\n",
       "      <td>-3.821329</td>\n",
       "      <td>Kwa Mahundi</td>\n",
       "      <td>0</td>\n",
       "      <td>...</td>\n",
       "      <td>per bucket</td>\n",
       "      <td>soft</td>\n",
       "      <td>good</td>\n",
       "      <td>enough</td>\n",
       "      <td>enough</td>\n",
       "      <td>dam</td>\n",
       "      <td>dam</td>\n",
       "      <td>surface</td>\n",
       "      <td>communal standpipe multiple</td>\n",
       "      <td>communal standpipe</td>\n",
       "    </tr>\n",
       "    <tr>\n",
       "      <th>3</th>\n",
       "      <td>67743</td>\n",
       "      <td>0.0</td>\n",
       "      <td>2013-01-28</td>\n",
       "      <td>Unicef</td>\n",
       "      <td>263</td>\n",
       "      <td>UNICEF</td>\n",
       "      <td>38.486161</td>\n",
       "      <td>-11.155298</td>\n",
       "      <td>Zahanati Ya Nanyumbu</td>\n",
       "      <td>0</td>\n",
       "      <td>...</td>\n",
       "      <td>never pay</td>\n",
       "      <td>soft</td>\n",
       "      <td>good</td>\n",
       "      <td>dry</td>\n",
       "      <td>dry</td>\n",
       "      <td>machine dbh</td>\n",
       "      <td>borehole</td>\n",
       "      <td>groundwater</td>\n",
       "      <td>communal standpipe multiple</td>\n",
       "      <td>communal standpipe</td>\n",
       "    </tr>\n",
       "    <tr>\n",
       "      <th>4</th>\n",
       "      <td>19728</td>\n",
       "      <td>0.0</td>\n",
       "      <td>2011-07-13</td>\n",
       "      <td>Action In A</td>\n",
       "      <td>0</td>\n",
       "      <td>Artisan</td>\n",
       "      <td>31.130847</td>\n",
       "      <td>-1.825359</td>\n",
       "      <td>Shuleni</td>\n",
       "      <td>0</td>\n",
       "      <td>...</td>\n",
       "      <td>never pay</td>\n",
       "      <td>soft</td>\n",
       "      <td>good</td>\n",
       "      <td>seasonal</td>\n",
       "      <td>seasonal</td>\n",
       "      <td>rainwater harvesting</td>\n",
       "      <td>rainwater harvesting</td>\n",
       "      <td>surface</td>\n",
       "      <td>communal standpipe</td>\n",
       "      <td>communal standpipe</td>\n",
       "    </tr>\n",
       "  </tbody>\n",
       "</table>\n",
       "<p>5 rows × 40 columns</p>\n",
       "</div>"
      ],
      "text/plain": [
       "      id  amount_tsh date_recorded        funder  gps_height     installer  \\\n",
       "0  69572      6000.0    2011-03-14         Roman        1390         Roman   \n",
       "1   8776         0.0    2013-03-06       Grumeti        1399       GRUMETI   \n",
       "2  34310        25.0    2013-02-25  Lottery Club         686  World vision   \n",
       "3  67743         0.0    2013-01-28        Unicef         263        UNICEF   \n",
       "4  19728         0.0    2011-07-13   Action In A           0       Artisan   \n",
       "\n",
       "   longitude   latitude              wpt_name  num_private  ... payment_type  \\\n",
       "0  34.938093  -9.856322                  none            0  ...     annually   \n",
       "1  34.698766  -2.147466              Zahanati            0  ...    never pay   \n",
       "2  37.460664  -3.821329           Kwa Mahundi            0  ...   per bucket   \n",
       "3  38.486161 -11.155298  Zahanati Ya Nanyumbu            0  ...    never pay   \n",
       "4  31.130847  -1.825359               Shuleni            0  ...    never pay   \n",
       "\n",
       "  water_quality quality_group      quantity  quantity_group  \\\n",
       "0          soft          good        enough          enough   \n",
       "1          soft          good  insufficient    insufficient   \n",
       "2          soft          good        enough          enough   \n",
       "3          soft          good           dry             dry   \n",
       "4          soft          good      seasonal        seasonal   \n",
       "\n",
       "                 source           source_type  source_class  \\\n",
       "0                spring                spring   groundwater   \n",
       "1  rainwater harvesting  rainwater harvesting       surface   \n",
       "2                   dam                   dam       surface   \n",
       "3           machine dbh              borehole   groundwater   \n",
       "4  rainwater harvesting  rainwater harvesting       surface   \n",
       "\n",
       "               waterpoint_type waterpoint_type_group  \n",
       "0           communal standpipe    communal standpipe  \n",
       "1           communal standpipe    communal standpipe  \n",
       "2  communal standpipe multiple    communal standpipe  \n",
       "3  communal standpipe multiple    communal standpipe  \n",
       "4           communal standpipe    communal standpipe  \n",
       "\n",
       "[5 rows x 40 columns]"
      ]
     },
     "execution_count": 2,
     "metadata": {},
     "output_type": "execute_result"
    }
   ],
   "source": [
    "df_data = pd.read_csv(\"Data_train.csv\")\n",
    "df_data.head()"
   ]
  },
  {
   "cell_type": "code",
   "execution_count": 3,
   "id": "fab5e3a7",
   "metadata": {},
   "outputs": [
    {
     "data": {
      "text/html": [
       "<div>\n",
       "<style scoped>\n",
       "    .dataframe tbody tr th:only-of-type {\n",
       "        vertical-align: middle;\n",
       "    }\n",
       "\n",
       "    .dataframe tbody tr th {\n",
       "        vertical-align: top;\n",
       "    }\n",
       "\n",
       "    .dataframe thead th {\n",
       "        text-align: right;\n",
       "    }\n",
       "</style>\n",
       "<table border=\"1\" class=\"dataframe\">\n",
       "  <thead>\n",
       "    <tr style=\"text-align: right;\">\n",
       "      <th></th>\n",
       "      <th>id</th>\n",
       "      <th>status_group</th>\n",
       "    </tr>\n",
       "  </thead>\n",
       "  <tbody>\n",
       "    <tr>\n",
       "      <th>0</th>\n",
       "      <td>69572</td>\n",
       "      <td>functional</td>\n",
       "    </tr>\n",
       "    <tr>\n",
       "      <th>1</th>\n",
       "      <td>8776</td>\n",
       "      <td>functional</td>\n",
       "    </tr>\n",
       "    <tr>\n",
       "      <th>2</th>\n",
       "      <td>34310</td>\n",
       "      <td>functional</td>\n",
       "    </tr>\n",
       "    <tr>\n",
       "      <th>3</th>\n",
       "      <td>67743</td>\n",
       "      <td>non functional</td>\n",
       "    </tr>\n",
       "    <tr>\n",
       "      <th>4</th>\n",
       "      <td>19728</td>\n",
       "      <td>functional</td>\n",
       "    </tr>\n",
       "  </tbody>\n",
       "</table>\n",
       "</div>"
      ],
      "text/plain": [
       "      id    status_group\n",
       "0  69572      functional\n",
       "1   8776      functional\n",
       "2  34310      functional\n",
       "3  67743  non functional\n",
       "4  19728      functional"
      ]
     },
     "execution_count": 3,
     "metadata": {},
     "output_type": "execute_result"
    }
   ],
   "source": [
    "df_labels = pd.read_csv(\"Data_train_labels.csv\")\n",
    "df_labels.head()"
   ]
  },
  {
   "cell_type": "code",
   "execution_count": 4,
   "id": "e1c8f53b",
   "metadata": {},
   "outputs": [
    {
     "name": "stdout",
     "output_type": "stream",
     "text": [
      "<class 'pandas.core.frame.DataFrame'>\n",
      "RangeIndex: 59400 entries, 0 to 59399\n",
      "Data columns (total 2 columns):\n",
      " #   Column        Non-Null Count  Dtype \n",
      "---  ------        --------------  ----- \n",
      " 0   id            59400 non-null  int64 \n",
      " 1   status_group  59400 non-null  object\n",
      "dtypes: int64(1), object(1)\n",
      "memory usage: 928.2+ KB\n"
     ]
    }
   ],
   "source": [
    "df_labels.info()"
   ]
  },
  {
   "cell_type": "code",
   "execution_count": 5,
   "id": "67d48e11",
   "metadata": {},
   "outputs": [
    {
     "name": "stdout",
     "output_type": "stream",
     "text": [
      "<class 'pandas.core.frame.DataFrame'>\n",
      "RangeIndex: 59400 entries, 0 to 59399\n",
      "Data columns (total 40 columns):\n",
      " #   Column                 Non-Null Count  Dtype  \n",
      "---  ------                 --------------  -----  \n",
      " 0   id                     59400 non-null  int64  \n",
      " 1   amount_tsh             59400 non-null  float64\n",
      " 2   date_recorded          59400 non-null  object \n",
      " 3   funder                 55765 non-null  object \n",
      " 4   gps_height             59400 non-null  int64  \n",
      " 5   installer              55745 non-null  object \n",
      " 6   longitude              59400 non-null  float64\n",
      " 7   latitude               59400 non-null  float64\n",
      " 8   wpt_name               59400 non-null  object \n",
      " 9   num_private            59400 non-null  int64  \n",
      " 10  basin                  59400 non-null  object \n",
      " 11  subvillage             59029 non-null  object \n",
      " 12  region                 59400 non-null  object \n",
      " 13  region_code            59400 non-null  int64  \n",
      " 14  district_code          59400 non-null  int64  \n",
      " 15  lga                    59400 non-null  object \n",
      " 16  ward                   59400 non-null  object \n",
      " 17  population             59400 non-null  int64  \n",
      " 18  public_meeting         56066 non-null  object \n",
      " 19  recorded_by            59400 non-null  object \n",
      " 20  scheme_management      55523 non-null  object \n",
      " 21  scheme_name            31234 non-null  object \n",
      " 22  permit                 56344 non-null  object \n",
      " 23  construction_year      59400 non-null  int64  \n",
      " 24  extraction_type        59400 non-null  object \n",
      " 25  extraction_type_group  59400 non-null  object \n",
      " 26  extraction_type_class  59400 non-null  object \n",
      " 27  management             59400 non-null  object \n",
      " 28  management_group       59400 non-null  object \n",
      " 29  payment                59400 non-null  object \n",
      " 30  payment_type           59400 non-null  object \n",
      " 31  water_quality          59400 non-null  object \n",
      " 32  quality_group          59400 non-null  object \n",
      " 33  quantity               59400 non-null  object \n",
      " 34  quantity_group         59400 non-null  object \n",
      " 35  source                 59400 non-null  object \n",
      " 36  source_type            59400 non-null  object \n",
      " 37  source_class           59400 non-null  object \n",
      " 38  waterpoint_type        59400 non-null  object \n",
      " 39  waterpoint_type_group  59400 non-null  object \n",
      "dtypes: float64(3), int64(7), object(30)\n",
      "memory usage: 18.1+ MB\n"
     ]
    }
   ],
   "source": [
    "df_data.info()"
   ]
  },
  {
   "cell_type": "code",
   "execution_count": 6,
   "id": "2f2fd790",
   "metadata": {},
   "outputs": [
    {
     "data": {
      "text/html": [
       "<div>\n",
       "<style scoped>\n",
       "    .dataframe tbody tr th:only-of-type {\n",
       "        vertical-align: middle;\n",
       "    }\n",
       "\n",
       "    .dataframe tbody tr th {\n",
       "        vertical-align: top;\n",
       "    }\n",
       "\n",
       "    .dataframe thead th {\n",
       "        text-align: right;\n",
       "    }\n",
       "</style>\n",
       "<table border=\"1\" class=\"dataframe\">\n",
       "  <thead>\n",
       "    <tr style=\"text-align: right;\">\n",
       "      <th></th>\n",
       "      <th>id</th>\n",
       "      <th>amount_tsh</th>\n",
       "      <th>date_recorded</th>\n",
       "      <th>funder</th>\n",
       "      <th>gps_height</th>\n",
       "      <th>installer</th>\n",
       "      <th>longitude</th>\n",
       "      <th>latitude</th>\n",
       "      <th>wpt_name</th>\n",
       "      <th>num_private</th>\n",
       "      <th>...</th>\n",
       "      <th>water_quality</th>\n",
       "      <th>quality_group</th>\n",
       "      <th>quantity</th>\n",
       "      <th>quantity_group</th>\n",
       "      <th>source</th>\n",
       "      <th>source_type</th>\n",
       "      <th>source_class</th>\n",
       "      <th>waterpoint_type</th>\n",
       "      <th>waterpoint_type_group</th>\n",
       "      <th>status_group</th>\n",
       "    </tr>\n",
       "  </thead>\n",
       "  <tbody>\n",
       "    <tr>\n",
       "      <th>0</th>\n",
       "      <td>69572</td>\n",
       "      <td>6000.0</td>\n",
       "      <td>2011-03-14</td>\n",
       "      <td>Roman</td>\n",
       "      <td>1390</td>\n",
       "      <td>Roman</td>\n",
       "      <td>34.938093</td>\n",
       "      <td>-9.856322</td>\n",
       "      <td>none</td>\n",
       "      <td>0</td>\n",
       "      <td>...</td>\n",
       "      <td>soft</td>\n",
       "      <td>good</td>\n",
       "      <td>enough</td>\n",
       "      <td>enough</td>\n",
       "      <td>spring</td>\n",
       "      <td>spring</td>\n",
       "      <td>groundwater</td>\n",
       "      <td>communal standpipe</td>\n",
       "      <td>communal standpipe</td>\n",
       "      <td>functional</td>\n",
       "    </tr>\n",
       "    <tr>\n",
       "      <th>1</th>\n",
       "      <td>8776</td>\n",
       "      <td>0.0</td>\n",
       "      <td>2013-03-06</td>\n",
       "      <td>Grumeti</td>\n",
       "      <td>1399</td>\n",
       "      <td>GRUMETI</td>\n",
       "      <td>34.698766</td>\n",
       "      <td>-2.147466</td>\n",
       "      <td>Zahanati</td>\n",
       "      <td>0</td>\n",
       "      <td>...</td>\n",
       "      <td>soft</td>\n",
       "      <td>good</td>\n",
       "      <td>insufficient</td>\n",
       "      <td>insufficient</td>\n",
       "      <td>rainwater harvesting</td>\n",
       "      <td>rainwater harvesting</td>\n",
       "      <td>surface</td>\n",
       "      <td>communal standpipe</td>\n",
       "      <td>communal standpipe</td>\n",
       "      <td>functional</td>\n",
       "    </tr>\n",
       "    <tr>\n",
       "      <th>2</th>\n",
       "      <td>34310</td>\n",
       "      <td>25.0</td>\n",
       "      <td>2013-02-25</td>\n",
       "      <td>Lottery Club</td>\n",
       "      <td>686</td>\n",
       "      <td>World vision</td>\n",
       "      <td>37.460664</td>\n",
       "      <td>-3.821329</td>\n",
       "      <td>Kwa Mahundi</td>\n",
       "      <td>0</td>\n",
       "      <td>...</td>\n",
       "      <td>soft</td>\n",
       "      <td>good</td>\n",
       "      <td>enough</td>\n",
       "      <td>enough</td>\n",
       "      <td>dam</td>\n",
       "      <td>dam</td>\n",
       "      <td>surface</td>\n",
       "      <td>communal standpipe multiple</td>\n",
       "      <td>communal standpipe</td>\n",
       "      <td>functional</td>\n",
       "    </tr>\n",
       "    <tr>\n",
       "      <th>3</th>\n",
       "      <td>67743</td>\n",
       "      <td>0.0</td>\n",
       "      <td>2013-01-28</td>\n",
       "      <td>Unicef</td>\n",
       "      <td>263</td>\n",
       "      <td>UNICEF</td>\n",
       "      <td>38.486161</td>\n",
       "      <td>-11.155298</td>\n",
       "      <td>Zahanati Ya Nanyumbu</td>\n",
       "      <td>0</td>\n",
       "      <td>...</td>\n",
       "      <td>soft</td>\n",
       "      <td>good</td>\n",
       "      <td>dry</td>\n",
       "      <td>dry</td>\n",
       "      <td>machine dbh</td>\n",
       "      <td>borehole</td>\n",
       "      <td>groundwater</td>\n",
       "      <td>communal standpipe multiple</td>\n",
       "      <td>communal standpipe</td>\n",
       "      <td>non functional</td>\n",
       "    </tr>\n",
       "    <tr>\n",
       "      <th>4</th>\n",
       "      <td>19728</td>\n",
       "      <td>0.0</td>\n",
       "      <td>2011-07-13</td>\n",
       "      <td>Action In A</td>\n",
       "      <td>0</td>\n",
       "      <td>Artisan</td>\n",
       "      <td>31.130847</td>\n",
       "      <td>-1.825359</td>\n",
       "      <td>Shuleni</td>\n",
       "      <td>0</td>\n",
       "      <td>...</td>\n",
       "      <td>soft</td>\n",
       "      <td>good</td>\n",
       "      <td>seasonal</td>\n",
       "      <td>seasonal</td>\n",
       "      <td>rainwater harvesting</td>\n",
       "      <td>rainwater harvesting</td>\n",
       "      <td>surface</td>\n",
       "      <td>communal standpipe</td>\n",
       "      <td>communal standpipe</td>\n",
       "      <td>functional</td>\n",
       "    </tr>\n",
       "    <tr>\n",
       "      <th>...</th>\n",
       "      <td>...</td>\n",
       "      <td>...</td>\n",
       "      <td>...</td>\n",
       "      <td>...</td>\n",
       "      <td>...</td>\n",
       "      <td>...</td>\n",
       "      <td>...</td>\n",
       "      <td>...</td>\n",
       "      <td>...</td>\n",
       "      <td>...</td>\n",
       "      <td>...</td>\n",
       "      <td>...</td>\n",
       "      <td>...</td>\n",
       "      <td>...</td>\n",
       "      <td>...</td>\n",
       "      <td>...</td>\n",
       "      <td>...</td>\n",
       "      <td>...</td>\n",
       "      <td>...</td>\n",
       "      <td>...</td>\n",
       "      <td>...</td>\n",
       "    </tr>\n",
       "    <tr>\n",
       "      <th>59395</th>\n",
       "      <td>60739</td>\n",
       "      <td>10.0</td>\n",
       "      <td>2013-05-03</td>\n",
       "      <td>Germany Republi</td>\n",
       "      <td>1210</td>\n",
       "      <td>CES</td>\n",
       "      <td>37.169807</td>\n",
       "      <td>-3.253847</td>\n",
       "      <td>Area Three Namba 27</td>\n",
       "      <td>0</td>\n",
       "      <td>...</td>\n",
       "      <td>soft</td>\n",
       "      <td>good</td>\n",
       "      <td>enough</td>\n",
       "      <td>enough</td>\n",
       "      <td>spring</td>\n",
       "      <td>spring</td>\n",
       "      <td>groundwater</td>\n",
       "      <td>communal standpipe</td>\n",
       "      <td>communal standpipe</td>\n",
       "      <td>functional</td>\n",
       "    </tr>\n",
       "    <tr>\n",
       "      <th>59396</th>\n",
       "      <td>27263</td>\n",
       "      <td>4700.0</td>\n",
       "      <td>2011-05-07</td>\n",
       "      <td>Cefa-njombe</td>\n",
       "      <td>1212</td>\n",
       "      <td>Cefa</td>\n",
       "      <td>35.249991</td>\n",
       "      <td>-9.070629</td>\n",
       "      <td>Kwa Yahona Kuvala</td>\n",
       "      <td>0</td>\n",
       "      <td>...</td>\n",
       "      <td>soft</td>\n",
       "      <td>good</td>\n",
       "      <td>enough</td>\n",
       "      <td>enough</td>\n",
       "      <td>river</td>\n",
       "      <td>river/lake</td>\n",
       "      <td>surface</td>\n",
       "      <td>communal standpipe</td>\n",
       "      <td>communal standpipe</td>\n",
       "      <td>functional</td>\n",
       "    </tr>\n",
       "    <tr>\n",
       "      <th>59397</th>\n",
       "      <td>37057</td>\n",
       "      <td>0.0</td>\n",
       "      <td>2011-04-11</td>\n",
       "      <td>NaN</td>\n",
       "      <td>0</td>\n",
       "      <td>NaN</td>\n",
       "      <td>34.017087</td>\n",
       "      <td>-8.750434</td>\n",
       "      <td>Mashine</td>\n",
       "      <td>0</td>\n",
       "      <td>...</td>\n",
       "      <td>fluoride</td>\n",
       "      <td>fluoride</td>\n",
       "      <td>enough</td>\n",
       "      <td>enough</td>\n",
       "      <td>machine dbh</td>\n",
       "      <td>borehole</td>\n",
       "      <td>groundwater</td>\n",
       "      <td>hand pump</td>\n",
       "      <td>hand pump</td>\n",
       "      <td>functional</td>\n",
       "    </tr>\n",
       "    <tr>\n",
       "      <th>59398</th>\n",
       "      <td>31282</td>\n",
       "      <td>0.0</td>\n",
       "      <td>2011-03-08</td>\n",
       "      <td>Malec</td>\n",
       "      <td>0</td>\n",
       "      <td>Musa</td>\n",
       "      <td>35.861315</td>\n",
       "      <td>-6.378573</td>\n",
       "      <td>Mshoro</td>\n",
       "      <td>0</td>\n",
       "      <td>...</td>\n",
       "      <td>soft</td>\n",
       "      <td>good</td>\n",
       "      <td>insufficient</td>\n",
       "      <td>insufficient</td>\n",
       "      <td>shallow well</td>\n",
       "      <td>shallow well</td>\n",
       "      <td>groundwater</td>\n",
       "      <td>hand pump</td>\n",
       "      <td>hand pump</td>\n",
       "      <td>functional</td>\n",
       "    </tr>\n",
       "    <tr>\n",
       "      <th>59399</th>\n",
       "      <td>26348</td>\n",
       "      <td>0.0</td>\n",
       "      <td>2011-03-23</td>\n",
       "      <td>World Bank</td>\n",
       "      <td>191</td>\n",
       "      <td>World</td>\n",
       "      <td>38.104048</td>\n",
       "      <td>-6.747464</td>\n",
       "      <td>Kwa Mzee Lugawa</td>\n",
       "      <td>0</td>\n",
       "      <td>...</td>\n",
       "      <td>salty</td>\n",
       "      <td>salty</td>\n",
       "      <td>enough</td>\n",
       "      <td>enough</td>\n",
       "      <td>shallow well</td>\n",
       "      <td>shallow well</td>\n",
       "      <td>groundwater</td>\n",
       "      <td>hand pump</td>\n",
       "      <td>hand pump</td>\n",
       "      <td>functional</td>\n",
       "    </tr>\n",
       "  </tbody>\n",
       "</table>\n",
       "<p>59400 rows × 41 columns</p>\n",
       "</div>"
      ],
      "text/plain": [
       "          id  amount_tsh date_recorded           funder  gps_height  \\\n",
       "0      69572      6000.0    2011-03-14            Roman        1390   \n",
       "1       8776         0.0    2013-03-06          Grumeti        1399   \n",
       "2      34310        25.0    2013-02-25     Lottery Club         686   \n",
       "3      67743         0.0    2013-01-28           Unicef         263   \n",
       "4      19728         0.0    2011-07-13      Action In A           0   \n",
       "...      ...         ...           ...              ...         ...   \n",
       "59395  60739        10.0    2013-05-03  Germany Republi        1210   \n",
       "59396  27263      4700.0    2011-05-07      Cefa-njombe        1212   \n",
       "59397  37057         0.0    2011-04-11              NaN           0   \n",
       "59398  31282         0.0    2011-03-08            Malec           0   \n",
       "59399  26348         0.0    2011-03-23       World Bank         191   \n",
       "\n",
       "          installer  longitude   latitude              wpt_name  num_private  \\\n",
       "0             Roman  34.938093  -9.856322                  none            0   \n",
       "1           GRUMETI  34.698766  -2.147466              Zahanati            0   \n",
       "2      World vision  37.460664  -3.821329           Kwa Mahundi            0   \n",
       "3            UNICEF  38.486161 -11.155298  Zahanati Ya Nanyumbu            0   \n",
       "4           Artisan  31.130847  -1.825359               Shuleni            0   \n",
       "...             ...        ...        ...                   ...          ...   \n",
       "59395           CES  37.169807  -3.253847   Area Three Namba 27            0   \n",
       "59396          Cefa  35.249991  -9.070629     Kwa Yahona Kuvala            0   \n",
       "59397           NaN  34.017087  -8.750434               Mashine            0   \n",
       "59398          Musa  35.861315  -6.378573                Mshoro            0   \n",
       "59399         World  38.104048  -6.747464       Kwa Mzee Lugawa            0   \n",
       "\n",
       "       ... water_quality quality_group      quantity  quantity_group  \\\n",
       "0      ...          soft          good        enough          enough   \n",
       "1      ...          soft          good  insufficient    insufficient   \n",
       "2      ...          soft          good        enough          enough   \n",
       "3      ...          soft          good           dry             dry   \n",
       "4      ...          soft          good      seasonal        seasonal   \n",
       "...    ...           ...           ...           ...             ...   \n",
       "59395  ...          soft          good        enough          enough   \n",
       "59396  ...          soft          good        enough          enough   \n",
       "59397  ...      fluoride      fluoride        enough          enough   \n",
       "59398  ...          soft          good  insufficient    insufficient   \n",
       "59399  ...         salty         salty        enough          enough   \n",
       "\n",
       "                     source           source_type source_class  \\\n",
       "0                    spring                spring  groundwater   \n",
       "1      rainwater harvesting  rainwater harvesting      surface   \n",
       "2                       dam                   dam      surface   \n",
       "3               machine dbh              borehole  groundwater   \n",
       "4      rainwater harvesting  rainwater harvesting      surface   \n",
       "...                     ...                   ...          ...   \n",
       "59395                spring                spring  groundwater   \n",
       "59396                 river            river/lake      surface   \n",
       "59397           machine dbh              borehole  groundwater   \n",
       "59398          shallow well          shallow well  groundwater   \n",
       "59399          shallow well          shallow well  groundwater   \n",
       "\n",
       "                   waterpoint_type waterpoint_type_group    status_group  \n",
       "0               communal standpipe    communal standpipe      functional  \n",
       "1               communal standpipe    communal standpipe      functional  \n",
       "2      communal standpipe multiple    communal standpipe      functional  \n",
       "3      communal standpipe multiple    communal standpipe  non functional  \n",
       "4               communal standpipe    communal standpipe      functional  \n",
       "...                            ...                   ...             ...  \n",
       "59395           communal standpipe    communal standpipe      functional  \n",
       "59396           communal standpipe    communal standpipe      functional  \n",
       "59397                    hand pump             hand pump      functional  \n",
       "59398                    hand pump             hand pump      functional  \n",
       "59399                    hand pump             hand pump      functional  \n",
       "\n",
       "[59400 rows x 41 columns]"
      ]
     },
     "execution_count": 6,
     "metadata": {},
     "output_type": "execute_result"
    }
   ],
   "source": [
    "df = pd.merge(df_data,df_labels,how='inner',left_on='id', right_on='id')\n",
    "df"
   ]
  },
  {
   "cell_type": "code",
   "execution_count": 44,
   "id": "f40c0e21",
   "metadata": {},
   "outputs": [
    {
     "data": {
      "text/plain": [
       "id                           0\n",
       "amount_tsh                   0\n",
       "date_recorded                0\n",
       "funder                    3635\n",
       "gps_height                   0\n",
       "installer                 3655\n",
       "longitude                    0\n",
       "latitude                     0\n",
       "wpt_name                     0\n",
       "num_private                  0\n",
       "basin                        0\n",
       "subvillage                 371\n",
       "region                       0\n",
       "region_code                  0\n",
       "district_code                0\n",
       "lga                          0\n",
       "ward                         0\n",
       "population                   0\n",
       "public_meeting            3334\n",
       "recorded_by                  0\n",
       "scheme_management         3877\n",
       "scheme_name              28166\n",
       "permit                    3056\n",
       "construction_year            0\n",
       "extraction_type              0\n",
       "extraction_type_group        0\n",
       "extraction_type_class        0\n",
       "management                   0\n",
       "management_group             0\n",
       "payment                      0\n",
       "payment_type                 0\n",
       "water_quality                0\n",
       "quality_group                0\n",
       "quantity                     0\n",
       "quantity_group               0\n",
       "source                       0\n",
       "source_type                  0\n",
       "source_class                 0\n",
       "waterpoint_type              0\n",
       "waterpoint_type_group        0\n",
       "status_group                 0\n",
       "dtype: int64"
      ]
     },
     "execution_count": 44,
     "metadata": {},
     "output_type": "execute_result"
    }
   ],
   "source": [
    "df.isna().sum()"
   ]
  },
  {
   "cell_type": "code",
   "execution_count": 8,
   "id": "7803f646",
   "metadata": {},
   "outputs": [
    {
     "data": {
      "text/plain": [
       "id                           0\n",
       "amount_tsh                   0\n",
       "date_recorded                0\n",
       "funder                    3635\n",
       "gps_height                   0\n",
       "installer                 3655\n",
       "longitude                    0\n",
       "latitude                     0\n",
       "wpt_name                     0\n",
       "num_private                  0\n",
       "basin                        0\n",
       "subvillage                 371\n",
       "region                       0\n",
       "region_code                  0\n",
       "district_code                0\n",
       "lga                          0\n",
       "ward                         0\n",
       "population                   0\n",
       "public_meeting            3334\n",
       "recorded_by                  0\n",
       "scheme_management         3877\n",
       "scheme_name              28166\n",
       "permit                    3056\n",
       "construction_year            0\n",
       "extraction_type              0\n",
       "extraction_type_group        0\n",
       "extraction_type_class        0\n",
       "management                   0\n",
       "management_group             0\n",
       "payment                      0\n",
       "payment_type                 0\n",
       "water_quality                0\n",
       "quality_group                0\n",
       "quantity                     0\n",
       "quantity_group               0\n",
       "source                       0\n",
       "source_type                  0\n",
       "source_class                 0\n",
       "waterpoint_type              0\n",
       "waterpoint_type_group        0\n",
       "dtype: int64"
      ]
     },
     "execution_count": 8,
     "metadata": {},
     "output_type": "execute_result"
    }
   ],
   "source": [
    "df_data.isna().sum()"
   ]
  },
  {
   "cell_type": "code",
   "execution_count": 9,
   "id": "33a00283",
   "metadata": {},
   "outputs": [
    {
     "data": {
      "text/plain": [
       "K                       682\n",
       "None                    644\n",
       "Borehole                546\n",
       "Chalinze wate           405\n",
       "M                       400\n",
       "                       ... \n",
       "Kasota                    1\n",
       "Jilimri water supply      1\n",
       "Welela Shallow well       1\n",
       "upper Ruvuv               1\n",
       "RC Msufi                  1\n",
       "Name: scheme_name, Length: 2696, dtype: int64"
      ]
     },
     "execution_count": 9,
     "metadata": {},
     "output_type": "execute_result"
    }
   ],
   "source": [
    "df.scheme_name.value_counts()"
   ]
  },
  {
   "cell_type": "code",
   "execution_count": 10,
   "id": "190e4ee5",
   "metadata": {},
   "outputs": [],
   "source": [
    "#fig, axes = plt.subplots(ncols=5, nrows=8, figsize=(15, 10))\n",
    "#fig.set_tight_layout(True)\n",
    "\n",
    "#for index, col in enumerate(df.columns):\n",
    "#    ax = axes[index//5][index%5]\n",
    "#    ax.hist(df[col], bins='auto')\n",
    "#    ax.set_xlabel(col)\n",
    "#    ax.set_ylabel(\"Counts\")"
   ]
  },
  {
   "cell_type": "code",
   "execution_count": 11,
   "id": "0ccb3d49",
   "metadata": {},
   "outputs": [],
   "source": [
    "#df.hist(bins='auto', edgecolor='none', figsize=(14,14));"
   ]
  },
  {
   "cell_type": "code",
   "execution_count": 13,
   "id": "12e6f82d",
   "metadata": {},
   "outputs": [
    {
     "data": {
      "text/plain": [
       "<AxesSubplot:xlabel='region', ylabel='count'>"
      ]
     },
     "execution_count": 13,
     "metadata": {},
     "output_type": "execute_result"
    },
    {
     "data": {
      "image/png": "[encoded data removed]",
      "text/plain": [
       "<Figure size 1440x360 with 1 Axes>"
      ]
     },
     "metadata": {
      "needs_background": "light"
     },
     "output_type": "display_data"
    }
   ],
   "source": [
    "fig, ax = plt.subplots(figsize=(20, 5))\n",
    "#sns.histplot(df['region_code'])\n",
    "sns.countplot(data=df, x=\"region\")#, hue=\"alive\")"
   ]
  },
  {
   "cell_type": "code",
   "execution_count": 18,
   "id": "c97f5c67",
   "metadata": {},
   "outputs": [
    {
     "data": {
      "text/plain": [
       "Iringa           5294\n",
       "Shinyanga        4982\n",
       "Mbeya            4639\n",
       "Kilimanjaro      4379\n",
       "Morogoro         4006\n",
       "Arusha           3350\n",
       "Kagera           3316\n",
       "Mwanza           3102\n",
       "Kigoma           2816\n",
       "Ruvuma           2640\n",
       "Pwani            2635\n",
       "Tanga            2547\n",
       "Dodoma           2201\n",
       "Singida          2093\n",
       "Mara             1969\n",
       "Tabora           1959\n",
       "Rukwa            1808\n",
       "Mtwara           1730\n",
       "Manyara          1583\n",
       "Lindi            1546\n",
       "Dar es Salaam     805\n",
       "Name: region, dtype: int64"
      ]
     },
     "execution_count": 18,
     "metadata": {},
     "output_type": "execute_result"
    }
   ],
   "source": [
    "df['region'].value_counts()"
   ]
  },
  {
   "cell_type": "code",
   "execution_count": 19,
   "id": "e2468df9",
   "metadata": {},
   "outputs": [
    {
     "data": {
      "text/plain": [
       "functional                 32259\n",
       "non functional             22824\n",
       "functional needs repair     4317\n",
       "Name: status_group, dtype: int64"
      ]
     },
     "execution_count": 19,
     "metadata": {},
     "output_type": "execute_result"
    }
   ],
   "source": [
    "df['status_group'].value_counts()"
   ]
  },
  {
   "cell_type": "code",
   "execution_count": 20,
   "id": "1d1ba190",
   "metadata": {},
   "outputs": [
    {
     "data": {
      "text/plain": [
       "communal standpipe             28522\n",
       "hand pump                      17488\n",
       "other                           6380\n",
       "communal standpipe multiple     6103\n",
       "improved spring                  784\n",
       "cattle trough                    116\n",
       "dam                                7\n",
       "Name: waterpoint_type, dtype: int64"
      ]
     },
     "execution_count": 20,
     "metadata": {},
     "output_type": "execute_result"
    }
   ],
   "source": [
    "df['waterpoint_type'].value_counts()"
   ]
  },
  {
   "cell_type": "code",
   "execution_count": 21,
   "id": "81e1e3f2",
   "metadata": {},
   "outputs": [
    {
     "data": {
      "text/plain": [
       "communal standpipe    34625\n",
       "hand pump             17488\n",
       "other                  6380\n",
       "improved spring         784\n",
       "cattle trough           116\n",
       "dam                       7\n",
       "Name: waterpoint_type_group, dtype: int64"
      ]
     },
     "execution_count": 21,
     "metadata": {},
     "output_type": "execute_result"
    }
   ],
   "source": [
    "df['waterpoint_type_group'].value_counts()"
   ]
  },
  {
   "cell_type": "code",
   "execution_count": 22,
   "id": "210f7fa7",
   "metadata": {},
   "outputs": [
    {
     "data": {
      "text/plain": [
       "id                         int64\n",
       "amount_tsh               float64\n",
       "date_recorded             object\n",
       "funder                    object\n",
       "gps_height                 int64\n",
       "installer                 object\n",
       "longitude                float64\n",
       "latitude                 float64\n",
       "wpt_name                  object\n",
       "num_private                int64\n",
       "basin                     object\n",
       "subvillage                object\n",
       "region                    object\n",
       "region_code                int64\n",
       "district_code              int64\n",
       "lga                       object\n",
       "ward                      object\n",
       "population                 int64\n",
       "public_meeting            object\n",
       "recorded_by               object\n",
       "scheme_management         object\n",
       "scheme_name               object\n",
       "permit                    object\n",
       "construction_year          int64\n",
       "extraction_type           object\n",
       "extraction_type_group     object\n",
       "extraction_type_class     object\n",
       "management                object\n",
       "management_group          object\n",
       "payment                   object\n",
       "payment_type              object\n",
       "water_quality             object\n",
       "quality_group             object\n",
       "quantity                  object\n",
       "quantity_group            object\n",
       "source                    object\n",
       "source_type               object\n",
       "source_class              object\n",
       "waterpoint_type           object\n",
       "waterpoint_type_group     object\n",
       "status_group              object\n",
       "dtype: object"
      ]
     },
     "execution_count": 22,
     "metadata": {},
     "output_type": "execute_result"
    }
   ],
   "source": [
    "df.dtypes"
   ]
  },
  {
   "cell_type": "code",
   "execution_count": 24,
   "id": "dad6a718",
   "metadata": {},
   "outputs": [
    {
     "data": {
      "text/plain": [
       "{int64: ['id', 'gps_height', 'num_private', 'region_code', 'district_code', 'population', 'construction_year'], float64: ['amount_tsh', 'longitude', 'latitude'], object: ['date_recorded', 'funder', 'installer', 'wpt_name', 'basin', 'subvillage', 'region', 'lga', 'ward', 'public_meeting', 'recorded_by', 'scheme_management', 'scheme_name', 'permit', 'extraction_type', 'extraction_type_group', 'extraction_type_class', 'management', 'management_group', 'payment', 'payment_type', 'water_quality', 'quality_group', 'quantity', 'quantity_group', 'source', 'source_type', 'source_class', 'waterpoint_type', 'waterpoint_type_group', 'status_group']}"
      ]
     },
     "execution_count": 24,
     "metadata": {},
     "output_type": "execute_result"
    }
   ],
   "source": [
    "# Which one of these variables are encoded in string format?\n",
    "df.columns.to_series().groupby(df.dtypes).groups"
   ]
  },
  {
   "cell_type": "code",
   "execution_count": 29,
   "id": "306b52bd",
   "metadata": {},
   "outputs": [],
   "source": [
    "df_ana = df.copy()"
   ]
  },
  {
   "cell_type": "code",
   "execution_count": 35,
   "id": "da0de6e9",
   "metadata": {},
   "outputs": [],
   "source": [
    "df_ana=df_ana.drop(columns=['num_private','waterpoint_type_group'],axis=1)"
   ]
  },
  {
   "cell_type": "code",
   "execution_count": 36,
   "id": "34c33856",
   "metadata": {},
   "outputs": [
    {
     "name": "stdout",
     "output_type": "stream",
     "text": [
      "<class 'pandas.core.frame.DataFrame'>\n",
      "Int64Index: 59400 entries, 0 to 59399\n",
      "Data columns (total 39 columns):\n",
      " #   Column                 Non-Null Count  Dtype  \n",
      "---  ------                 --------------  -----  \n",
      " 0   id                     59400 non-null  int64  \n",
      " 1   amount_tsh             59400 non-null  float64\n",
      " 2   date_recorded          59400 non-null  object \n",
      " 3   funder                 55765 non-null  object \n",
      " 4   gps_height             59400 non-null  int64  \n",
      " 5   installer              55745 non-null  object \n",
      " 6   longitude              59400 non-null  float64\n",
      " 7   latitude               59400 non-null  float64\n",
      " 8   wpt_name               59400 non-null  object \n",
      " 9   basin                  59400 non-null  object \n",
      " 10  subvillage             59029 non-null  object \n",
      " 11  region                 59400 non-null  object \n",
      " 12  region_code            59400 non-null  int64  \n",
      " 13  district_code          59400 non-null  int64  \n",
      " 14  lga                    59400 non-null  object \n",
      " 15  ward                   59400 non-null  object \n",
      " 16  population             59400 non-null  int64  \n",
      " 17  public_meeting         56066 non-null  object \n",
      " 18  recorded_by            59400 non-null  object \n",
      " 19  scheme_management      55523 non-null  object \n",
      " 20  scheme_name            31234 non-null  object \n",
      " 21  permit                 56344 non-null  object \n",
      " 22  construction_year      59400 non-null  int64  \n",
      " 23  extraction_type        59400 non-null  object \n",
      " 24  extraction_type_group  59400 non-null  object \n",
      " 25  extraction_type_class  59400 non-null  object \n",
      " 26  management             59400 non-null  object \n",
      " 27  management_group       59400 non-null  object \n",
      " 28  payment                59400 non-null  object \n",
      " 29  payment_type           59400 non-null  object \n",
      " 30  water_quality          59400 non-null  object \n",
      " 31  quality_group          59400 non-null  object \n",
      " 32  quantity               59400 non-null  object \n",
      " 33  quantity_group         59400 non-null  object \n",
      " 34  source                 59400 non-null  object \n",
      " 35  source_type            59400 non-null  object \n",
      " 36  source_class           59400 non-null  object \n",
      " 37  waterpoint_type        59400 non-null  object \n",
      " 38  status_group           59400 non-null  object \n",
      "dtypes: float64(3), int64(6), object(30)\n",
      "memory usage: 20.6+ MB\n"
     ]
    }
   ],
   "source": [
    "df_ana.info()"
   ]
  },
  {
   "cell_type": "code",
   "execution_count": 37,
   "id": "fdcb2bcf",
   "metadata": {},
   "outputs": [
    {
     "data": {
      "text/plain": [
       "VWC                 36793\n",
       "WUG                  5206\n",
       "Water authority      3153\n",
       "WUA                  2883\n",
       "Water Board          2748\n",
       "Parastatal           1680\n",
       "Private operator     1063\n",
       "Company              1061\n",
       "Other                 766\n",
       "SWC                    97\n",
       "Trust                  72\n",
       "None                    1\n",
       "Name: scheme_management, dtype: int64"
      ]
     },
     "execution_count": 37,
     "metadata": {},
     "output_type": "execute_result"
    }
   ],
   "source": [
    "df['scheme_management'].value_counts()"
   ]
  },
  {
   "cell_type": "code",
   "execution_count": 38,
   "id": "8802d8bd",
   "metadata": {},
   "outputs": [
    {
     "data": {
      "text/plain": [
       "K                       682\n",
       "None                    644\n",
       "Borehole                546\n",
       "Chalinze wate           405\n",
       "M                       400\n",
       "                       ... \n",
       "Kasota                    1\n",
       "Jilimri water supply      1\n",
       "Welela Shallow well       1\n",
       "upper Ruvuv               1\n",
       "RC Msufi                  1\n",
       "Name: scheme_name, Length: 2696, dtype: int64"
      ]
     },
     "execution_count": 38,
     "metadata": {},
     "output_type": "execute_result"
    }
   ],
   "source": [
    "df['scheme_name'].value_counts()"
   ]
  },
  {
   "cell_type": "code",
   "execution_count": 45,
   "id": "83b298c3",
   "metadata": {},
   "outputs": [
    {
     "data": {
      "text/plain": [
       "Government Of Tanzania    9084\n",
       "Danida                    3114\n",
       "Hesawa                    2202\n",
       "Rwssp                     1374\n",
       "World Bank                1349\n",
       "                          ... \n",
       "Wbk                          1\n",
       "World Bank/government        1\n",
       "Islamic Society              1\n",
       "Ndm                          1\n",
       "Unicrf                       1\n",
       "Name: funder, Length: 1897, dtype: int64"
      ]
     },
     "execution_count": 45,
     "metadata": {},
     "output_type": "execute_result"
    }
   ],
   "source": [
    "df['funder'].value_counts()"
   ]
  },
  {
   "cell_type": "code",
   "execution_count": 46,
   "id": "5ae343e1",
   "metadata": {},
   "outputs": [
    {
     "data": {
      "text/plain": [
       "DWE                          17402\n",
       "Government                    1825\n",
       "RWE                           1206\n",
       "Commu                         1060\n",
       "DANIDA                        1050\n",
       "                             ...  \n",
       "TCRS/CARE                        1\n",
       "Gerald Mila                      1\n",
       "DAR ES SALAAM ROUND TABLE        1\n",
       "TMP                              1\n",
       "JESHI LA WOKOVU                  1\n",
       "Name: installer, Length: 2145, dtype: int64"
      ]
     },
     "execution_count": 46,
     "metadata": {},
     "output_type": "execute_result"
    }
   ],
   "source": [
    "df['installer'].value_counts()"
   ]
  },
  {
   "cell_type": "code",
   "execution_count": 47,
   "id": "9835cbaf",
   "metadata": {},
   "outputs": [],
   "source": [
    "df_ana=df_ana.drop(columns=['scheme_name'],axis=1)# drop for now as too many misssing values"
   ]
  },
  {
   "cell_type": "code",
   "execution_count": 52,
   "id": "620e86c2",
   "metadata": {},
   "outputs": [
    {
     "name": "stdout",
     "output_type": "stream",
     "text": [
      "7 3\n"
     ]
    }
   ],
   "source": [
    "print(38//5,38%5)"
   ]
  },
  {
   "cell_type": "code",
   "execution_count": 53,
   "id": "ab7532ff",
   "metadata": {},
   "outputs": [
    {
     "data": {
      "image/png": "[encoded data removed]",
      "text/plain": [
       "<Figure size 1080x720 with 40 Axes>"
      ]
     },
     "metadata": {
      "needs_background": "light"
     },
     "output_type": "display_data"
    }
   ],
   "source": [
    "fig, axes = plt.subplots(ncols=5, nrows=8, figsize=(15, 10))\n",
    "fig.set_tight_layout(True)\n",
    "\n",
    "for index, col in enumerate(df_ana.columns):\n",
    "    ax = axes[index//5][index%5]\n",
    "    ax.hist(df_ana[col], bins='auto')\n",
    "    ax.set_xlabel(col)\n",
    "    ax.set_ylabel(\"Counts\")"
   ]
  },
  {
   "cell_type": "code",
   "execution_count": 54,
   "id": "8d7f499a",
   "metadata": {},
   "outputs": [],
   "source": [
    "plt.show()"
   ]
  },
  {
   "cell_type": "code",
   "execution_count": null,
   "id": "7fd80cef",
   "metadata": {},
   "outputs": [],
   "source": [
    "nrow = 8\n",
    "ncol = 5\n",
    "fig, axs = plt.subplots(nrow, ncol)\n",
    "for i, ax in enumerate(fig.axes):\n",
    "    ax.set_ylabel(str(i))\n",
    "    ax.hist(df_ana[col], bins='auto')\n",
    "    ax.set_xlabel(col)\n",
    "plt.show()    "
   ]
  },
  {
   "cell_type": "code",
   "execution_count": 59,
   "id": "7dfee84d",
   "metadata": {},
   "outputs": [
    {
     "data": {
      "text/plain": [
       "0    32259\n",
       "1    22824\n",
       "2     4317\n",
       "Name: status_group, dtype: int64"
      ]
     },
     "execution_count": 59,
     "metadata": {},
     "output_type": "execute_result"
    }
   ],
   "source": [
    "dic = {'functional':0, 'non functional':1,'functional needs repair':2 }\n",
    "#dic = {\"NO\":0, \"YES\":1}\n",
    "#df_ana.replace({\"status_group\": dic}, inplace=True)\n",
    "df_ana[\"status_group\"].value_counts()"
   ]
  },
  {
   "cell_type": "code",
   "execution_count": 62,
   "id": "5fcdd285",
   "metadata": {},
   "outputs": [
    {
     "data": {
      "text/plain": [
       "0"
      ]
     },
     "execution_count": 62,
     "metadata": {},
     "output_type": "execute_result"
    }
   ],
   "source": [
    "df_ana[\"status_group\"].isna().sum()"
   ]
  },
  {
   "cell_type": "code",
   "execution_count": null,
   "id": "333edc32",
   "metadata": {},
   "outputs": [],
   "source": [
    "# Scatterplot of longitude and latitude with a hue of price, city names are superimposed to the map:\n",
    "# Superimposed data is from: https://www.communitiescount.org/king-county-geographies\n",
    "# The shape is the shape of King County, WA\n",
    "\n",
    "with plt.style.context('seaborn-talk'):\n",
    "    \n",
    "    fig, ax = plt.subplots(figsize=(12, 10))\n",
    "    sns.scatterplot(data=dfzip_table, x='lng', y='lat',  alpha = .5, ax=ax)\n",
    "    [plt.text(x=row['lng'], y=row['lat'], s=row['city'], size='large', color='black') for k,row in dfzip_table.iterrows()]\n",
    "\n",
    "    sns.scatterplot(data=df_new, x='long', y='lat', hue='price', size=\"price\",sizes=(20, 200),  alpha = .5, ax=ax) \n",
    "    ax.axhline(y= 47.48, xmin=0, xmax=1, color='y', linestyle='--')\n",
    "    ax.axvline(x= -122.25, ymin=0.52, ymax=0.9, color='y', linestyle='--')\n",
    "    ax.axvline(x= -122.085, ymin=0.52, ymax=0.9, color='y', linestyle='--')\n",
    "    ax.axhline(y= 47.745, xmin=0, xmax=1, color='y', linestyle='--')\n",
    "    plt.xticks(np.arange(-122.6, -121.5, 0.1))\n",
    "    \n",
    "    plt.xlim(-122.6, -121.5)\n",
    "    ax.set_title('Relationship Between Location and Price',fontsize=18)\n",
    "    ax.set_xlabel(\"Longitude\",fontsize=16)\n",
    "    ax.set_ylabel(\"Latitude\",fontsize=16)\n",
    "    fig.tight_layout();\n",
    "    \n",
    "    fig.savefig('./images/LocationMap.png', dpi=300);\n"
   ]
  },
  {
   "cell_type": "code",
   "execution_count": 63,
   "id": "f8183f21",
   "metadata": {},
   "outputs": [
    {
     "data": {
      "image/png": "[encoded data removed]",
      "text/plain": [
       "<Figure size 864x720 with 2 Axes>"
      ]
     },
     "metadata": {
      "needs_background": "light"
     },
     "output_type": "display_data"
    }
   ],
   "source": [
    "# Create a df with the target as the first column,\n",
    "# then compute the correlation matrix\n",
    "#heatmap_data = df[features_numeric]\n",
    "corr = df_ana.corr()\n",
    "\n",
    "# Set up figure and axes\n",
    "fig, ax = plt.subplots(figsize=(12, 10))\n",
    "\n",
    "# Plot a heatmap of the correlation matrix, with both\n",
    "# numbers and colors indicating the correlations\n",
    "sns.heatmap(\n",
    "    # Specifies the data to be plotted\n",
    "    data=corr,\n",
    "    # The mask means we only show half the values,\n",
    "    # instead of showing duplicates. It's optional.\n",
    "    mask=np.triu(np.ones_like(corr, dtype=bool)),\n",
    "    # Specifies that we should use the existing axes\n",
    "    ax=ax,\n",
    "    # Specifies that we want labels, not just colors\n",
    "    annot=True,\n",
    "    # Customizes colorbar appearance\n",
    "    cbar_kws={\"label\": \"Correlation\", \"orientation\": \"horizontal\", \"pad\": .2, \"extend\": \"both\"}\n",
    ")\n",
    "\n",
    "# Customize the plot appearance\n",
    "ax.set_title(\"Heatmap of Correlation Between Attributes (Including status)\");"
   ]
  },
  {
   "cell_type": "code",
   "execution_count": 64,
   "id": "02ab7aae",
   "metadata": {},
   "outputs": [
    {
     "data": {
      "text/plain": [
       "{int64: ['id', 'gps_height', 'region_code', 'district_code', 'population', 'construction_year'], float64: ['amount_tsh', 'longitude', 'latitude'], object: ['date_recorded', 'funder', 'installer', 'wpt_name', 'basin', 'subvillage', 'region', 'lga', 'ward', 'public_meeting', 'recorded_by', 'scheme_management', 'permit', 'extraction_type', 'extraction_type_group', 'extraction_type_class', 'management', 'management_group', 'payment', 'payment_type', 'water_quality', 'quality_group', 'quantity', 'quantity_group', 'source', 'source_type', 'source_class', 'waterpoint_type', 'status_group']}"
      ]
     },
     "execution_count": 64,
     "metadata": {},
     "output_type": "execute_result"
    }
   ],
   "source": [
    "df_ana.columns.to_series().groupby(df.dtypes).groups"
   ]
  },
  {
   "cell_type": "code",
   "execution_count": null,
   "id": "9407acb0",
   "metadata": {},
   "outputs": [],
   "source": [
    "features_numerical=['id', 'gps_height', 'region_code', 'district_code',\\\n",
    "                    'population', 'construction_year','amount_tsh',\\\n",
    "                    'longitude', 'latitude']"
   ]
  },
  {
   "cell_type": "code",
   "execution_count": 71,
   "id": "7bdd6741",
   "metadata": {},
   "outputs": [],
   "source": [
    "features_categorical=['date_recorded', 'funder', 'installer', 'wpt_name', 'basin']#,\\\n",
    "                      #'subvillage', 'region', 'lga', 'ward', 'public_meeting',\\\n",
    "                      #'recorded_by', 'scheme_management', 'permit', 'extraction_type',\\\n",
    "                      #'extraction_type_group', 'extraction_type_class', 'management',\\\n",
    "                      #'management_group', 'payment', 'payment_type', 'water_quality',\\\n",
    "                      #'quality_group', 'quantity', 'quantity_group', 'source',\\\n",
    "                      #'source_type', 'source_class', 'waterpoint_type', 'status_group']"
   ]
  },
  {
   "cell_type": "code",
   "execution_count": null,
   "id": "24dc31d0",
   "metadata": {},
   "outputs": [],
   "source": []
  },
  {
   "cell_type": "code",
   "execution_count": 73,
   "id": "3d7a5d4d",
   "metadata": {},
   "outputs": [
    {
     "data": {
      "image/png": "[encoded data removed]",
      "text/plain": [
       "<Figure size 720x576 with 16 Axes>"
      ]
     },
     "metadata": {
      "needs_background": "light"
     },
     "output_type": "display_data"
    }
   ],
   "source": [
    "fig, axes = plt.subplots(nrows=4, ncols=4, figsize=(10,8))#,constrained_layout=True)\n",
    "\n",
    "for col, ax in zip(features_categorical, axes.flatten()):\n",
    "    (df_ana.groupby(col)               # group values together by column of interest\n",
    "         .count()['status_group']        # take the mean of the saleprice for each group\n",
    "         .sort_values()              # sort the groups in ascending order\n",
    "         .plot\n",
    "         .bar(ax=ax))                # create a bar graph on the ax\n",
    "    \n",
    "    ax.set_title(col)              # Make the title the name of the column\n",
    "    ax.grid(True, color = 'DarkTurquoise', alpha=1, linestyle = '--', linewidth = 0.5)\n",
    "    \n",
    "fig.tight_layout()"
   ]
  },
  {
   "cell_type": "code",
   "execution_count": null,
   "id": "43519732",
   "metadata": {},
   "outputs": [],
   "source": [
    "fig, axes = plt.subplots(nrows=4, ncols=4, figsize=(10,8),constrained_layout=True)\n",
    "\n",
    "for col, ax in zip(features_numerical, axes.flatten()):\n",
    "    (df_ana.groupby(col)               # group values together by column of interest\n",
    "         .count()['status_group']        # take the mean of the saleprice for each group\n",
    "         .sort_values()              # sort the groups in ascending order\n",
    "         .plot\n",
    "         .hist(ax=ax))                # create a bar graph on the ax\n",
    "    \n",
    "    ax.set_title(col)              # Make the title the name of the column\n",
    "    ax.grid(True, color = 'DarkTurquoise', alpha=1, linestyle = '--', linewidth = 0.5)\n",
    "    \n",
    "fig.tight_layout()"
   ]
  },
  {
   "cell_type": "code",
   "execution_count": 79,
   "id": "6d3f57f3",
   "metadata": {},
   "outputs": [
    {
     "data": {
      "text/html": [
       "<div>\n",
       "<style scoped>\n",
       "    .dataframe tbody tr th:only-of-type {\n",
       "        vertical-align: middle;\n",
       "    }\n",
       "\n",
       "    .dataframe tbody tr th {\n",
       "        vertical-align: top;\n",
       "    }\n",
       "\n",
       "    .dataframe thead tr th {\n",
       "        text-align: left;\n",
       "    }\n",
       "\n",
       "    .dataframe thead tr:last-of-type th {\n",
       "        text-align: right;\n",
       "    }\n",
       "</style>\n",
       "<table border=\"1\" class=\"dataframe\">\n",
       "  <thead>\n",
       "    <tr>\n",
       "      <th></th>\n",
       "      <th></th>\n",
       "      <th>status_group</th>\n",
       "    </tr>\n",
       "    <tr>\n",
       "      <th></th>\n",
       "      <th></th>\n",
       "      <th>count</th>\n",
       "    </tr>\n",
       "    <tr>\n",
       "      <th>region</th>\n",
       "      <th>status_group</th>\n",
       "      <th></th>\n",
       "    </tr>\n",
       "  </thead>\n",
       "  <tbody>\n",
       "    <tr>\n",
       "      <th rowspan=\"3\" valign=\"top\">Arusha</th>\n",
       "      <th>0</th>\n",
       "      <td>2294</td>\n",
       "    </tr>\n",
       "    <tr>\n",
       "      <th>1</th>\n",
       "      <td>881</td>\n",
       "    </tr>\n",
       "    <tr>\n",
       "      <th>2</th>\n",
       "      <td>175</td>\n",
       "    </tr>\n",
       "    <tr>\n",
       "      <th rowspan=\"2\" valign=\"top\">Dar es Salaam</th>\n",
       "      <th>0</th>\n",
       "      <td>461</td>\n",
       "    </tr>\n",
       "    <tr>\n",
       "      <th>1</th>\n",
       "      <td>341</td>\n",
       "    </tr>\n",
       "    <tr>\n",
       "      <th>...</th>\n",
       "      <th>...</th>\n",
       "      <td>...</td>\n",
       "    </tr>\n",
       "    <tr>\n",
       "      <th rowspan=\"2\" valign=\"top\">Tabora</th>\n",
       "      <th>1</th>\n",
       "      <td>1066</td>\n",
       "    </tr>\n",
       "    <tr>\n",
       "      <th>2</th>\n",
       "      <td>45</td>\n",
       "    </tr>\n",
       "    <tr>\n",
       "      <th rowspan=\"3\" valign=\"top\">Tanga</th>\n",
       "      <th>0</th>\n",
       "      <td>1436</td>\n",
       "    </tr>\n",
       "    <tr>\n",
       "      <th>1</th>\n",
       "      <td>1038</td>\n",
       "    </tr>\n",
       "    <tr>\n",
       "      <th>2</th>\n",
       "      <td>73</td>\n",
       "    </tr>\n",
       "  </tbody>\n",
       "</table>\n",
       "<p>63 rows × 1 columns</p>\n",
       "</div>"
      ],
      "text/plain": [
       "                           status_group\n",
       "                                  count\n",
       "region        status_group             \n",
       "Arusha        0                    2294\n",
       "              1                     881\n",
       "              2                     175\n",
       "Dar es Salaam 0                     461\n",
       "              1                     341\n",
       "...                                 ...\n",
       "Tabora        1                    1066\n",
       "              2                      45\n",
       "Tanga         0                    1436\n",
       "              1                    1038\n",
       "              2                      73\n",
       "\n",
       "[63 rows x 1 columns]"
      ]
     },
     "execution_count": 79,
     "metadata": {},
     "output_type": "execute_result"
    }
   ],
   "source": [
    "df_test=pd.DataFrame(df_ana[['region','status_group']].groupby(['region','status_group']).agg(({'status_group': ['count']})))\n",
    "df_test"
   ]
  },
  {
   "cell_type": "code",
   "execution_count": 80,
   "id": "e8c3f14d",
   "metadata": {},
   "outputs": [],
   "source": [
    "df_test.columns = ['_'.join(col) for col in df_test.columns.values]\n",
    "df_test= df_test.reset_index()"
   ]
  },
  {
   "cell_type": "code",
   "execution_count": 81,
   "id": "49c29e4f",
   "metadata": {},
   "outputs": [
    {
     "data": {
      "text/html": [
       "<div>\n",
       "<style scoped>\n",
       "    .dataframe tbody tr th:only-of-type {\n",
       "        vertical-align: middle;\n",
       "    }\n",
       "\n",
       "    .dataframe tbody tr th {\n",
       "        vertical-align: top;\n",
       "    }\n",
       "\n",
       "    .dataframe thead th {\n",
       "        text-align: right;\n",
       "    }\n",
       "</style>\n",
       "<table border=\"1\" class=\"dataframe\">\n",
       "  <thead>\n",
       "    <tr style=\"text-align: right;\">\n",
       "      <th></th>\n",
       "      <th>region</th>\n",
       "      <th>status_group</th>\n",
       "      <th>status_group_count</th>\n",
       "    </tr>\n",
       "  </thead>\n",
       "  <tbody>\n",
       "    <tr>\n",
       "      <th>0</th>\n",
       "      <td>Arusha</td>\n",
       "      <td>0</td>\n",
       "      <td>2294</td>\n",
       "    </tr>\n",
       "    <tr>\n",
       "      <th>1</th>\n",
       "      <td>Arusha</td>\n",
       "      <td>1</td>\n",
       "      <td>881</td>\n",
       "    </tr>\n",
       "    <tr>\n",
       "      <th>2</th>\n",
       "      <td>Arusha</td>\n",
       "      <td>2</td>\n",
       "      <td>175</td>\n",
       "    </tr>\n",
       "    <tr>\n",
       "      <th>3</th>\n",
       "      <td>Dar es Salaam</td>\n",
       "      <td>0</td>\n",
       "      <td>461</td>\n",
       "    </tr>\n",
       "    <tr>\n",
       "      <th>4</th>\n",
       "      <td>Dar es Salaam</td>\n",
       "      <td>1</td>\n",
       "      <td>341</td>\n",
       "    </tr>\n",
       "    <tr>\n",
       "      <th>...</th>\n",
       "      <td>...</td>\n",
       "      <td>...</td>\n",
       "      <td>...</td>\n",
       "    </tr>\n",
       "    <tr>\n",
       "      <th>58</th>\n",
       "      <td>Tabora</td>\n",
       "      <td>1</td>\n",
       "      <td>1066</td>\n",
       "    </tr>\n",
       "    <tr>\n",
       "      <th>59</th>\n",
       "      <td>Tabora</td>\n",
       "      <td>2</td>\n",
       "      <td>45</td>\n",
       "    </tr>\n",
       "    <tr>\n",
       "      <th>60</th>\n",
       "      <td>Tanga</td>\n",
       "      <td>0</td>\n",
       "      <td>1436</td>\n",
       "    </tr>\n",
       "    <tr>\n",
       "      <th>61</th>\n",
       "      <td>Tanga</td>\n",
       "      <td>1</td>\n",
       "      <td>1038</td>\n",
       "    </tr>\n",
       "    <tr>\n",
       "      <th>62</th>\n",
       "      <td>Tanga</td>\n",
       "      <td>2</td>\n",
       "      <td>73</td>\n",
       "    </tr>\n",
       "  </tbody>\n",
       "</table>\n",
       "<p>63 rows × 3 columns</p>\n",
       "</div>"
      ],
      "text/plain": [
       "           region  status_group  status_group_count\n",
       "0          Arusha             0                2294\n",
       "1          Arusha             1                 881\n",
       "2          Arusha             2                 175\n",
       "3   Dar es Salaam             0                 461\n",
       "4   Dar es Salaam             1                 341\n",
       "..            ...           ...                 ...\n",
       "58         Tabora             1                1066\n",
       "59         Tabora             2                  45\n",
       "60          Tanga             0                1436\n",
       "61          Tanga             1                1038\n",
       "62          Tanga             2                  73\n",
       "\n",
       "[63 rows x 3 columns]"
      ]
     },
     "execution_count": 81,
     "metadata": {},
     "output_type": "execute_result"
    }
   ],
   "source": [
    "df_test"
   ]
  },
  {
   "cell_type": "code",
   "execution_count": 89,
   "id": "0d8353c5",
   "metadata": {},
   "outputs": [
    {
     "data": {
      "text/html": [
       "<div>\n",
       "<style scoped>\n",
       "    .dataframe tbody tr th:only-of-type {\n",
       "        vertical-align: middle;\n",
       "    }\n",
       "\n",
       "    .dataframe tbody tr th {\n",
       "        vertical-align: top;\n",
       "    }\n",
       "\n",
       "    .dataframe thead th {\n",
       "        text-align: right;\n",
       "    }\n",
       "</style>\n",
       "<table border=\"1\" class=\"dataframe\">\n",
       "  <thead>\n",
       "    <tr style=\"text-align: right;\">\n",
       "      <th></th>\n",
       "      <th>region</th>\n",
       "      <th>status_group</th>\n",
       "      <th>status_group_count</th>\n",
       "    </tr>\n",
       "  </thead>\n",
       "  <tbody>\n",
       "    <tr>\n",
       "      <th>9</th>\n",
       "      <td>Iringa</td>\n",
       "      <td>0</td>\n",
       "      <td>4141</td>\n",
       "    </tr>\n",
       "    <tr>\n",
       "      <th>51</th>\n",
       "      <td>Shinyanga</td>\n",
       "      <td>0</td>\n",
       "      <td>2789</td>\n",
       "    </tr>\n",
       "    <tr>\n",
       "      <th>18</th>\n",
       "      <td>Kilimanjaro</td>\n",
       "      <td>0</td>\n",
       "      <td>2640</td>\n",
       "    </tr>\n",
       "    <tr>\n",
       "      <th>30</th>\n",
       "      <td>Mbeya</td>\n",
       "      <td>0</td>\n",
       "      <td>2319</td>\n",
       "    </tr>\n",
       "    <tr>\n",
       "      <th>0</th>\n",
       "      <td>Arusha</td>\n",
       "      <td>0</td>\n",
       "      <td>2294</td>\n",
       "    </tr>\n",
       "    <tr>\n",
       "      <th>...</th>\n",
       "      <td>...</td>\n",
       "      <td>...</td>\n",
       "      <td>...</td>\n",
       "    </tr>\n",
       "    <tr>\n",
       "      <th>62</th>\n",
       "      <td>Tanga</td>\n",
       "      <td>2</td>\n",
       "      <td>73</td>\n",
       "    </tr>\n",
       "    <tr>\n",
       "      <th>29</th>\n",
       "      <td>Mara</td>\n",
       "      <td>2</td>\n",
       "      <td>60</td>\n",
       "    </tr>\n",
       "    <tr>\n",
       "      <th>59</th>\n",
       "      <td>Tabora</td>\n",
       "      <td>2</td>\n",
       "      <td>45</td>\n",
       "    </tr>\n",
       "    <tr>\n",
       "      <th>44</th>\n",
       "      <td>Pwani</td>\n",
       "      <td>2</td>\n",
       "      <td>36</td>\n",
       "    </tr>\n",
       "    <tr>\n",
       "      <th>5</th>\n",
       "      <td>Dar es Salaam</td>\n",
       "      <td>2</td>\n",
       "      <td>3</td>\n",
       "    </tr>\n",
       "  </tbody>\n",
       "</table>\n",
       "<p>63 rows × 3 columns</p>\n",
       "</div>"
      ],
      "text/plain": [
       "           region  status_group  status_group_count\n",
       "9          Iringa             0                4141\n",
       "51      Shinyanga             0                2789\n",
       "18    Kilimanjaro             0                2640\n",
       "30          Mbeya             0                2319\n",
       "0          Arusha             0                2294\n",
       "..            ...           ...                 ...\n",
       "62          Tanga             2                  73\n",
       "29           Mara             2                  60\n",
       "59         Tabora             2                  45\n",
       "44          Pwani             2                  36\n",
       "5   Dar es Salaam             2                   3\n",
       "\n",
       "[63 rows x 3 columns]"
      ]
     },
     "execution_count": 89,
     "metadata": {},
     "output_type": "execute_result"
    }
   ],
   "source": [
    "sortedDF=df_test.sort_values('status_group_count', ascending=False)\n",
    "sortedDF"
   ]
  },
  {
   "cell_type": "code",
   "execution_count": 111,
   "id": "2298df90",
   "metadata": {},
   "outputs": [
    {
     "data": {
      "image/png": "[encoded data removed]",
      "text/plain": [
       "<Figure size 504x576 with 1 Axes>"
      ]
     },
     "metadata": {},
     "output_type": "display_data"
    }
   ],
   "source": [
    "#sns.set_theme(style='whitegrid')\n",
    "plt.rcParams.update({'font.size': 20})\n",
    "fig,ax = plt.subplots(figsize=(7,8))\n",
    "ax=sns.barplot(y='region', x='status_group_count', data=sortedDF, hue='status_group',orient='h')\n",
    "#sns.despine(left=True, bottom=True)"
   ]
  },
  {
   "cell_type": "code",
   "execution_count": 112,
   "id": "6d5202a3",
   "metadata": {},
   "outputs": [
    {
     "data": {
      "text/plain": [
       "gravity                      26780\n",
       "nira/tanira                   8154\n",
       "other                         6430\n",
       "submersible                   4764\n",
       "swn 80                        3670\n",
       "mono                          2865\n",
       "india mark ii                 2400\n",
       "afridev                       1770\n",
       "ksb                           1415\n",
       "other - rope pump              451\n",
       "other - swn 81                 229\n",
       "windmill                       117\n",
       "india mark iii                  98\n",
       "cemo                            90\n",
       "other - play pump               85\n",
       "walimi                          48\n",
       "climax                          32\n",
       "other - mkulima/shinyanga        2\n",
       "Name: extraction_type, dtype: int64"
      ]
     },
     "execution_count": 112,
     "metadata": {},
     "output_type": "execute_result"
    }
   ],
   "source": [
    "df_ana.extraction_type.value_counts()"
   ]
  },
  {
   "cell_type": "code",
   "execution_count": 113,
   "id": "fb456dce",
   "metadata": {},
   "outputs": [
    {
     "data": {
      "text/plain": [
       "gravity         26780\n",
       "handpump        16456\n",
       "other            6430\n",
       "submersible      6179\n",
       "motorpump        2987\n",
       "rope pump         451\n",
       "wind-powered      117\n",
       "Name: extraction_type_class, dtype: int64"
      ]
     },
     "execution_count": 113,
     "metadata": {},
     "output_type": "execute_result"
    }
   ],
   "source": [
    "df_ana.extraction_type_class.value_counts()"
   ]
  },
  {
   "cell_type": "code",
   "execution_count": 116,
   "id": "39cc6959",
   "metadata": {},
   "outputs": [
    {
     "data": {
      "text/plain": [
       "gravity            26780\n",
       "nira/tanira         8154\n",
       "other               6430\n",
       "submersible         6179\n",
       "swn 80              3670\n",
       "mono                2865\n",
       "india mark ii       2400\n",
       "afridev             1770\n",
       "rope pump            451\n",
       "other handpump       364\n",
       "other motorpump      122\n",
       "wind-powered         117\n",
       "india mark iii        98\n",
       "Name: extraction_type_group, dtype: int64"
      ]
     },
     "execution_count": 116,
     "metadata": {},
     "output_type": "execute_result"
    }
   ],
   "source": [
    "df_ana.extraction_type_group.value_counts()"
   ]
  },
  {
   "cell_type": "code",
   "execution_count": 118,
   "id": "08746219",
   "metadata": {},
   "outputs": [],
   "source": [
    "df_ana=df_ana.drop('extraction_type_group',axis=1)"
   ]
  },
  {
   "cell_type": "code",
   "execution_count": 119,
   "id": "ed971bfe",
   "metadata": {},
   "outputs": [
    {
     "data": {
      "text/html": [
       "<div>\n",
       "<style scoped>\n",
       "    .dataframe tbody tr th:only-of-type {\n",
       "        vertical-align: middle;\n",
       "    }\n",
       "\n",
       "    .dataframe tbody tr th {\n",
       "        vertical-align: top;\n",
       "    }\n",
       "\n",
       "    .dataframe thead tr th {\n",
       "        text-align: left;\n",
       "    }\n",
       "\n",
       "    .dataframe thead tr:last-of-type th {\n",
       "        text-align: right;\n",
       "    }\n",
       "</style>\n",
       "<table border=\"1\" class=\"dataframe\">\n",
       "  <thead>\n",
       "    <tr>\n",
       "      <th></th>\n",
       "      <th></th>\n",
       "      <th>status_group</th>\n",
       "    </tr>\n",
       "    <tr>\n",
       "      <th></th>\n",
       "      <th></th>\n",
       "      <th>count</th>\n",
       "    </tr>\n",
       "    <tr>\n",
       "      <th>extraction_type_class</th>\n",
       "      <th>status_group</th>\n",
       "      <th></th>\n",
       "    </tr>\n",
       "  </thead>\n",
       "  <tbody>\n",
       "    <tr>\n",
       "      <th rowspan=\"3\" valign=\"top\">gravity</th>\n",
       "      <th>0</th>\n",
       "      <td>16048</td>\n",
       "    </tr>\n",
       "    <tr>\n",
       "      <th>1</th>\n",
       "      <td>8031</td>\n",
       "    </tr>\n",
       "    <tr>\n",
       "      <th>2</th>\n",
       "      <td>2701</td>\n",
       "    </tr>\n",
       "    <tr>\n",
       "      <th rowspan=\"3\" valign=\"top\">handpump</th>\n",
       "      <th>0</th>\n",
       "      <td>10375</td>\n",
       "    </tr>\n",
       "    <tr>\n",
       "      <th>1</th>\n",
       "      <td>5086</td>\n",
       "    </tr>\n",
       "    <tr>\n",
       "      <th>2</th>\n",
       "      <td>995</td>\n",
       "    </tr>\n",
       "    <tr>\n",
       "      <th rowspan=\"3\" valign=\"top\">motorpump</th>\n",
       "      <th>0</th>\n",
       "      <td>1135</td>\n",
       "    </tr>\n",
       "    <tr>\n",
       "      <th>1</th>\n",
       "      <td>1714</td>\n",
       "    </tr>\n",
       "    <tr>\n",
       "      <th>2</th>\n",
       "      <td>138</td>\n",
       "    </tr>\n",
       "    <tr>\n",
       "      <th rowspan=\"3\" valign=\"top\">other</th>\n",
       "      <th>0</th>\n",
       "      <td>1029</td>\n",
       "    </tr>\n",
       "    <tr>\n",
       "      <th>1</th>\n",
       "      <td>5195</td>\n",
       "    </tr>\n",
       "    <tr>\n",
       "      <th>2</th>\n",
       "      <td>206</td>\n",
       "    </tr>\n",
       "    <tr>\n",
       "      <th rowspan=\"3\" valign=\"top\">rope pump</th>\n",
       "      <th>0</th>\n",
       "      <td>293</td>\n",
       "    </tr>\n",
       "    <tr>\n",
       "      <th>1</th>\n",
       "      <td>141</td>\n",
       "    </tr>\n",
       "    <tr>\n",
       "      <th>2</th>\n",
       "      <td>17</td>\n",
       "    </tr>\n",
       "    <tr>\n",
       "      <th rowspan=\"3\" valign=\"top\">submersible</th>\n",
       "      <th>0</th>\n",
       "      <td>3329</td>\n",
       "    </tr>\n",
       "    <tr>\n",
       "      <th>1</th>\n",
       "      <td>2597</td>\n",
       "    </tr>\n",
       "    <tr>\n",
       "      <th>2</th>\n",
       "      <td>253</td>\n",
       "    </tr>\n",
       "    <tr>\n",
       "      <th rowspan=\"3\" valign=\"top\">wind-powered</th>\n",
       "      <th>0</th>\n",
       "      <td>50</td>\n",
       "    </tr>\n",
       "    <tr>\n",
       "      <th>1</th>\n",
       "      <td>60</td>\n",
       "    </tr>\n",
       "    <tr>\n",
       "      <th>2</th>\n",
       "      <td>7</td>\n",
       "    </tr>\n",
       "  </tbody>\n",
       "</table>\n",
       "</div>"
      ],
      "text/plain": [
       "                                   status_group\n",
       "                                          count\n",
       "extraction_type_class status_group             \n",
       "gravity               0                   16048\n",
       "                      1                    8031\n",
       "                      2                    2701\n",
       "handpump              0                   10375\n",
       "                      1                    5086\n",
       "                      2                     995\n",
       "motorpump             0                    1135\n",
       "                      1                    1714\n",
       "                      2                     138\n",
       "other                 0                    1029\n",
       "                      1                    5195\n",
       "                      2                     206\n",
       "rope pump             0                     293\n",
       "                      1                     141\n",
       "                      2                      17\n",
       "submersible           0                    3329\n",
       "                      1                    2597\n",
       "                      2                     253\n",
       "wind-powered          0                      50\n",
       "                      1                      60\n",
       "                      2                       7"
      ]
     },
     "execution_count": 119,
     "metadata": {},
     "output_type": "execute_result"
    }
   ],
   "source": [
    "df_ext = pd.DataFrame(df_ana[['extraction_type_class','status_group']]\\\n",
    "                      .groupby(['extraction_type_class','status_group'])\\\n",
    "                      .agg(({'status_group': ['count']})))\n",
    "df_ext"
   ]
  },
  {
   "cell_type": "code",
   "execution_count": 120,
   "id": "fbf6a3d3",
   "metadata": {},
   "outputs": [],
   "source": [
    "df_ext.columns = ['_'.join(col) for col in df_ext.columns.values]\n",
    "df_ext= df_ext.reset_index()"
   ]
  },
  {
   "cell_type": "code",
   "execution_count": 121,
   "id": "663acd9b",
   "metadata": {},
   "outputs": [
    {
     "data": {
      "text/html": [
       "<div>\n",
       "<style scoped>\n",
       "    .dataframe tbody tr th:only-of-type {\n",
       "        vertical-align: middle;\n",
       "    }\n",
       "\n",
       "    .dataframe tbody tr th {\n",
       "        vertical-align: top;\n",
       "    }\n",
       "\n",
       "    .dataframe thead th {\n",
       "        text-align: right;\n",
       "    }\n",
       "</style>\n",
       "<table border=\"1\" class=\"dataframe\">\n",
       "  <thead>\n",
       "    <tr style=\"text-align: right;\">\n",
       "      <th></th>\n",
       "      <th>extraction_type_class</th>\n",
       "      <th>status_group</th>\n",
       "      <th>status_group_count</th>\n",
       "    </tr>\n",
       "  </thead>\n",
       "  <tbody>\n",
       "    <tr>\n",
       "      <th>0</th>\n",
       "      <td>gravity</td>\n",
       "      <td>0</td>\n",
       "      <td>16048</td>\n",
       "    </tr>\n",
       "    <tr>\n",
       "      <th>1</th>\n",
       "      <td>gravity</td>\n",
       "      <td>1</td>\n",
       "      <td>8031</td>\n",
       "    </tr>\n",
       "    <tr>\n",
       "      <th>2</th>\n",
       "      <td>gravity</td>\n",
       "      <td>2</td>\n",
       "      <td>2701</td>\n",
       "    </tr>\n",
       "    <tr>\n",
       "      <th>3</th>\n",
       "      <td>handpump</td>\n",
       "      <td>0</td>\n",
       "      <td>10375</td>\n",
       "    </tr>\n",
       "    <tr>\n",
       "      <th>4</th>\n",
       "      <td>handpump</td>\n",
       "      <td>1</td>\n",
       "      <td>5086</td>\n",
       "    </tr>\n",
       "    <tr>\n",
       "      <th>5</th>\n",
       "      <td>handpump</td>\n",
       "      <td>2</td>\n",
       "      <td>995</td>\n",
       "    </tr>\n",
       "    <tr>\n",
       "      <th>6</th>\n",
       "      <td>motorpump</td>\n",
       "      <td>0</td>\n",
       "      <td>1135</td>\n",
       "    </tr>\n",
       "    <tr>\n",
       "      <th>7</th>\n",
       "      <td>motorpump</td>\n",
       "      <td>1</td>\n",
       "      <td>1714</td>\n",
       "    </tr>\n",
       "    <tr>\n",
       "      <th>8</th>\n",
       "      <td>motorpump</td>\n",
       "      <td>2</td>\n",
       "      <td>138</td>\n",
       "    </tr>\n",
       "    <tr>\n",
       "      <th>9</th>\n",
       "      <td>other</td>\n",
       "      <td>0</td>\n",
       "      <td>1029</td>\n",
       "    </tr>\n",
       "    <tr>\n",
       "      <th>10</th>\n",
       "      <td>other</td>\n",
       "      <td>1</td>\n",
       "      <td>5195</td>\n",
       "    </tr>\n",
       "    <tr>\n",
       "      <th>11</th>\n",
       "      <td>other</td>\n",
       "      <td>2</td>\n",
       "      <td>206</td>\n",
       "    </tr>\n",
       "    <tr>\n",
       "      <th>12</th>\n",
       "      <td>rope pump</td>\n",
       "      <td>0</td>\n",
       "      <td>293</td>\n",
       "    </tr>\n",
       "    <tr>\n",
       "      <th>13</th>\n",
       "      <td>rope pump</td>\n",
       "      <td>1</td>\n",
       "      <td>141</td>\n",
       "    </tr>\n",
       "    <tr>\n",
       "      <th>14</th>\n",
       "      <td>rope pump</td>\n",
       "      <td>2</td>\n",
       "      <td>17</td>\n",
       "    </tr>\n",
       "    <tr>\n",
       "      <th>15</th>\n",
       "      <td>submersible</td>\n",
       "      <td>0</td>\n",
       "      <td>3329</td>\n",
       "    </tr>\n",
       "    <tr>\n",
       "      <th>16</th>\n",
       "      <td>submersible</td>\n",
       "      <td>1</td>\n",
       "      <td>2597</td>\n",
       "    </tr>\n",
       "    <tr>\n",
       "      <th>17</th>\n",
       "      <td>submersible</td>\n",
       "      <td>2</td>\n",
       "      <td>253</td>\n",
       "    </tr>\n",
       "    <tr>\n",
       "      <th>18</th>\n",
       "      <td>wind-powered</td>\n",
       "      <td>0</td>\n",
       "      <td>50</td>\n",
       "    </tr>\n",
       "    <tr>\n",
       "      <th>19</th>\n",
       "      <td>wind-powered</td>\n",
       "      <td>1</td>\n",
       "      <td>60</td>\n",
       "    </tr>\n",
       "    <tr>\n",
       "      <th>20</th>\n",
       "      <td>wind-powered</td>\n",
       "      <td>2</td>\n",
       "      <td>7</td>\n",
       "    </tr>\n",
       "  </tbody>\n",
       "</table>\n",
       "</div>"
      ],
      "text/plain": [
       "   extraction_type_class  status_group  status_group_count\n",
       "0                gravity             0               16048\n",
       "1                gravity             1                8031\n",
       "2                gravity             2                2701\n",
       "3               handpump             0               10375\n",
       "4               handpump             1                5086\n",
       "5               handpump             2                 995\n",
       "6              motorpump             0                1135\n",
       "7              motorpump             1                1714\n",
       "8              motorpump             2                 138\n",
       "9                  other             0                1029\n",
       "10                 other             1                5195\n",
       "11                 other             2                 206\n",
       "12             rope pump             0                 293\n",
       "13             rope pump             1                 141\n",
       "14             rope pump             2                  17\n",
       "15           submersible             0                3329\n",
       "16           submersible             1                2597\n",
       "17           submersible             2                 253\n",
       "18          wind-powered             0                  50\n",
       "19          wind-powered             1                  60\n",
       "20          wind-powered             2                   7"
      ]
     },
     "execution_count": 121,
     "metadata": {},
     "output_type": "execute_result"
    }
   ],
   "source": [
    "df_ext"
   ]
  },
  {
   "cell_type": "code",
   "execution_count": 123,
   "id": "c168a1ac",
   "metadata": {},
   "outputs": [
    {
     "data": {
      "text/html": [
       "<div>\n",
       "<style scoped>\n",
       "    .dataframe tbody tr th:only-of-type {\n",
       "        vertical-align: middle;\n",
       "    }\n",
       "\n",
       "    .dataframe tbody tr th {\n",
       "        vertical-align: top;\n",
       "    }\n",
       "\n",
       "    .dataframe thead th {\n",
       "        text-align: right;\n",
       "    }\n",
       "</style>\n",
       "<table border=\"1\" class=\"dataframe\">\n",
       "  <thead>\n",
       "    <tr style=\"text-align: right;\">\n",
       "      <th></th>\n",
       "      <th>extraction_type_class</th>\n",
       "      <th>status_group</th>\n",
       "      <th>status_group_count</th>\n",
       "    </tr>\n",
       "  </thead>\n",
       "  <tbody>\n",
       "    <tr>\n",
       "      <th>0</th>\n",
       "      <td>gravity</td>\n",
       "      <td>0</td>\n",
       "      <td>16048</td>\n",
       "    </tr>\n",
       "    <tr>\n",
       "      <th>3</th>\n",
       "      <td>handpump</td>\n",
       "      <td>0</td>\n",
       "      <td>10375</td>\n",
       "    </tr>\n",
       "    <tr>\n",
       "      <th>1</th>\n",
       "      <td>gravity</td>\n",
       "      <td>1</td>\n",
       "      <td>8031</td>\n",
       "    </tr>\n",
       "    <tr>\n",
       "      <th>10</th>\n",
       "      <td>other</td>\n",
       "      <td>1</td>\n",
       "      <td>5195</td>\n",
       "    </tr>\n",
       "    <tr>\n",
       "      <th>4</th>\n",
       "      <td>handpump</td>\n",
       "      <td>1</td>\n",
       "      <td>5086</td>\n",
       "    </tr>\n",
       "    <tr>\n",
       "      <th>15</th>\n",
       "      <td>submersible</td>\n",
       "      <td>0</td>\n",
       "      <td>3329</td>\n",
       "    </tr>\n",
       "    <tr>\n",
       "      <th>2</th>\n",
       "      <td>gravity</td>\n",
       "      <td>2</td>\n",
       "      <td>2701</td>\n",
       "    </tr>\n",
       "    <tr>\n",
       "      <th>16</th>\n",
       "      <td>submersible</td>\n",
       "      <td>1</td>\n",
       "      <td>2597</td>\n",
       "    </tr>\n",
       "    <tr>\n",
       "      <th>7</th>\n",
       "      <td>motorpump</td>\n",
       "      <td>1</td>\n",
       "      <td>1714</td>\n",
       "    </tr>\n",
       "    <tr>\n",
       "      <th>6</th>\n",
       "      <td>motorpump</td>\n",
       "      <td>0</td>\n",
       "      <td>1135</td>\n",
       "    </tr>\n",
       "    <tr>\n",
       "      <th>9</th>\n",
       "      <td>other</td>\n",
       "      <td>0</td>\n",
       "      <td>1029</td>\n",
       "    </tr>\n",
       "    <tr>\n",
       "      <th>5</th>\n",
       "      <td>handpump</td>\n",
       "      <td>2</td>\n",
       "      <td>995</td>\n",
       "    </tr>\n",
       "    <tr>\n",
       "      <th>12</th>\n",
       "      <td>rope pump</td>\n",
       "      <td>0</td>\n",
       "      <td>293</td>\n",
       "    </tr>\n",
       "    <tr>\n",
       "      <th>17</th>\n",
       "      <td>submersible</td>\n",
       "      <td>2</td>\n",
       "      <td>253</td>\n",
       "    </tr>\n",
       "    <tr>\n",
       "      <th>11</th>\n",
       "      <td>other</td>\n",
       "      <td>2</td>\n",
       "      <td>206</td>\n",
       "    </tr>\n",
       "    <tr>\n",
       "      <th>13</th>\n",
       "      <td>rope pump</td>\n",
       "      <td>1</td>\n",
       "      <td>141</td>\n",
       "    </tr>\n",
       "    <tr>\n",
       "      <th>8</th>\n",
       "      <td>motorpump</td>\n",
       "      <td>2</td>\n",
       "      <td>138</td>\n",
       "    </tr>\n",
       "    <tr>\n",
       "      <th>19</th>\n",
       "      <td>wind-powered</td>\n",
       "      <td>1</td>\n",
       "      <td>60</td>\n",
       "    </tr>\n",
       "    <tr>\n",
       "      <th>18</th>\n",
       "      <td>wind-powered</td>\n",
       "      <td>0</td>\n",
       "      <td>50</td>\n",
       "    </tr>\n",
       "    <tr>\n",
       "      <th>14</th>\n",
       "      <td>rope pump</td>\n",
       "      <td>2</td>\n",
       "      <td>17</td>\n",
       "    </tr>\n",
       "    <tr>\n",
       "      <th>20</th>\n",
       "      <td>wind-powered</td>\n",
       "      <td>2</td>\n",
       "      <td>7</td>\n",
       "    </tr>\n",
       "  </tbody>\n",
       "</table>\n",
       "</div>"
      ],
      "text/plain": [
       "   extraction_type_class  status_group  status_group_count\n",
       "0                gravity             0               16048\n",
       "3               handpump             0               10375\n",
       "1                gravity             1                8031\n",
       "10                 other             1                5195\n",
       "4               handpump             1                5086\n",
       "15           submersible             0                3329\n",
       "2                gravity             2                2701\n",
       "16           submersible             1                2597\n",
       "7              motorpump             1                1714\n",
       "6              motorpump             0                1135\n",
       "9                  other             0                1029\n",
       "5               handpump             2                 995\n",
       "12             rope pump             0                 293\n",
       "17           submersible             2                 253\n",
       "11                 other             2                 206\n",
       "13             rope pump             1                 141\n",
       "8              motorpump             2                 138\n",
       "19          wind-powered             1                  60\n",
       "18          wind-powered             0                  50\n",
       "14             rope pump             2                  17\n",
       "20          wind-powered             2                   7"
      ]
     },
     "execution_count": 123,
     "metadata": {},
     "output_type": "execute_result"
    }
   ],
   "source": [
    "sortedEX=df_ext.sort_values('status_group_count', ascending=False)\n",
    "sortedEX"
   ]
  },
  {
   "cell_type": "code",
   "execution_count": 133,
   "id": "81ca8c71",
   "metadata": {},
   "outputs": [
    {
     "data": {
      "image/png": "[encoded data removed]",
      "text/plain": [
       "<Figure size 720x360 with 1 Axes>"
      ]
     },
     "metadata": {},
     "output_type": "display_data"
    }
   ],
   "source": [
    "fig,ax1 = plt.subplots(figsize=(10,5))\n",
    "ax1=sns.barplot(x='extraction_type_class', y='status_group_count',\\\n",
    "               data=sortedEX, hue='status_group')"
   ]
  },
  {
   "cell_type": "code",
   "execution_count": 128,
   "id": "682dce9f",
   "metadata": {},
   "outputs": [
    {
     "data": {
      "text/plain": [
       "VWC                 36793\n",
       "WUG                  5206\n",
       "Water authority      3153\n",
       "WUA                  2883\n",
       "Water Board          2748\n",
       "Parastatal           1680\n",
       "Private operator     1063\n",
       "Company              1061\n",
       "Other                 766\n",
       "SWC                    97\n",
       "Trust                  72\n",
       "None                    1\n",
       "Name: scheme_management, dtype: int64"
      ]
     },
     "execution_count": 128,
     "metadata": {},
     "output_type": "execute_result"
    }
   ],
   "source": [
    "df.scheme_management.value_counts()"
   ]
  },
  {
   "cell_type": "code",
   "execution_count": 127,
   "id": "ab56fd49",
   "metadata": {},
   "outputs": [
    {
     "name": "stdout",
     "output_type": "stream",
     "text": [
      "<class 'pandas.core.frame.DataFrame'>\n",
      "Int64Index: 59400 entries, 0 to 59399\n",
      "Data columns (total 37 columns):\n",
      " #   Column                 Non-Null Count  Dtype  \n",
      "---  ------                 --------------  -----  \n",
      " 0   id                     59400 non-null  int64  \n",
      " 1   amount_tsh             59400 non-null  float64\n",
      " 2   date_recorded          59400 non-null  object \n",
      " 3   funder                 55765 non-null  object \n",
      " 4   gps_height             59400 non-null  int64  \n",
      " 5   installer              55745 non-null  object \n",
      " 6   longitude              59400 non-null  float64\n",
      " 7   latitude               59400 non-null  float64\n",
      " 8   wpt_name               59400 non-null  object \n",
      " 9   basin                  59400 non-null  object \n",
      " 10  subvillage             59029 non-null  object \n",
      " 11  region                 59400 non-null  object \n",
      " 12  region_code            59400 non-null  int64  \n",
      " 13  district_code          59400 non-null  int64  \n",
      " 14  lga                    59400 non-null  object \n",
      " 15  ward                   59400 non-null  object \n",
      " 16  population             59400 non-null  int64  \n",
      " 17  public_meeting         56066 non-null  object \n",
      " 18  recorded_by            59400 non-null  object \n",
      " 19  scheme_management      55523 non-null  object \n",
      " 20  permit                 56344 non-null  object \n",
      " 21  construction_year      59400 non-null  int64  \n",
      " 22  extraction_type        59400 non-null  object \n",
      " 23  extraction_type_class  59400 non-null  object \n",
      " 24  management             59400 non-null  object \n",
      " 25  management_group       59400 non-null  object \n",
      " 26  payment                59400 non-null  object \n",
      " 27  payment_type           59400 non-null  object \n",
      " 28  water_quality          59400 non-null  object \n",
      " 29  quality_group          59400 non-null  object \n",
      " 30  quantity               59400 non-null  object \n",
      " 31  quantity_group         59400 non-null  object \n",
      " 32  source                 59400 non-null  object \n",
      " 33  source_type            59400 non-null  object \n",
      " 34  source_class           59400 non-null  object \n",
      " 35  waterpoint_type        59400 non-null  object \n",
      " 36  status_group           59400 non-null  int64  \n",
      "dtypes: float64(3), int64(7), object(27)\n",
      "memory usage: 19.7+ MB\n"
     ]
    }
   ],
   "source": [
    "df_ana.info()"
   ]
  },
  {
   "cell_type": "code",
   "execution_count": 134,
   "id": "6229a27b",
   "metadata": {},
   "outputs": [
    {
     "data": {
      "text/plain": [
       "enough          33186\n",
       "insufficient    15129\n",
       "dry              6246\n",
       "seasonal         4050\n",
       "unknown           789\n",
       "Name: quantity, dtype: int64"
      ]
     },
     "execution_count": 134,
     "metadata": {},
     "output_type": "execute_result"
    }
   ],
   "source": [
    "df_ana.quantity.value_counts()"
   ]
  },
  {
   "cell_type": "code",
   "execution_count": 135,
   "id": "78404d3f",
   "metadata": {},
   "outputs": [
    {
     "data": {
      "text/plain": [
       "enough          33186\n",
       "insufficient    15129\n",
       "dry              6246\n",
       "seasonal         4050\n",
       "unknown           789\n",
       "Name: quantity_group, dtype: int64"
      ]
     },
     "execution_count": 135,
     "metadata": {},
     "output_type": "execute_result"
    }
   ],
   "source": [
    "df_ana.quantity_group.value_counts()"
   ]
  },
  {
   "cell_type": "code",
   "execution_count": 136,
   "id": "b9b219e2",
   "metadata": {},
   "outputs": [],
   "source": [
    "df_ana=df_ana.drop('quantity_group',axis=1)"
   ]
  },
  {
   "cell_type": "code",
   "execution_count": 137,
   "id": "132a1740",
   "metadata": {},
   "outputs": [
    {
     "data": {
      "text/plain": [
       "soft                  50818\n",
       "salty                  4856\n",
       "unknown                1876\n",
       "milky                   804\n",
       "coloured                490\n",
       "salty abandoned         339\n",
       "fluoride                200\n",
       "fluoride abandoned       17\n",
       "Name: water_quality, dtype: int64"
      ]
     },
     "execution_count": 137,
     "metadata": {},
     "output_type": "execute_result"
    }
   ],
   "source": [
    "df_ana.water_quality.value_counts()"
   ]
  },
  {
   "cell_type": "code",
   "execution_count": 138,
   "id": "89b2c1b5",
   "metadata": {},
   "outputs": [
    {
     "data": {
      "text/plain": [
       "good        50818\n",
       "salty        5195\n",
       "unknown      1876\n",
       "milky         804\n",
       "colored       490\n",
       "fluoride      217\n",
       "Name: quality_group, dtype: int64"
      ]
     },
     "execution_count": 138,
     "metadata": {},
     "output_type": "execute_result"
    }
   ],
   "source": [
    "df_ana.quality_group.value_counts()"
   ]
  },
  {
   "cell_type": "code",
   "execution_count": 140,
   "id": "43693014",
   "metadata": {},
   "outputs": [],
   "source": [
    "df_ana=df_ana.drop('quality_group',axis=1)"
   ]
  },
  {
   "cell_type": "code",
   "execution_count": 141,
   "id": "5eb003be",
   "metadata": {},
   "outputs": [
    {
     "name": "stdout",
     "output_type": "stream",
     "text": [
      "<class 'pandas.core.frame.DataFrame'>\n",
      "Int64Index: 59400 entries, 0 to 59399\n",
      "Data columns (total 35 columns):\n",
      " #   Column                 Non-Null Count  Dtype  \n",
      "---  ------                 --------------  -----  \n",
      " 0   id                     59400 non-null  int64  \n",
      " 1   amount_tsh             59400 non-null  float64\n",
      " 2   date_recorded          59400 non-null  object \n",
      " 3   funder                 55765 non-null  object \n",
      " 4   gps_height             59400 non-null  int64  \n",
      " 5   installer              55745 non-null  object \n",
      " 6   longitude              59400 non-null  float64\n",
      " 7   latitude               59400 non-null  float64\n",
      " 8   wpt_name               59400 non-null  object \n",
      " 9   basin                  59400 non-null  object \n",
      " 10  subvillage             59029 non-null  object \n",
      " 11  region                 59400 non-null  object \n",
      " 12  region_code            59400 non-null  int64  \n",
      " 13  district_code          59400 non-null  int64  \n",
      " 14  lga                    59400 non-null  object \n",
      " 15  ward                   59400 non-null  object \n",
      " 16  population             59400 non-null  int64  \n",
      " 17  public_meeting         56066 non-null  object \n",
      " 18  recorded_by            59400 non-null  object \n",
      " 19  scheme_management      55523 non-null  object \n",
      " 20  permit                 56344 non-null  object \n",
      " 21  construction_year      59400 non-null  int64  \n",
      " 22  extraction_type        59400 non-null  object \n",
      " 23  extraction_type_class  59400 non-null  object \n",
      " 24  management             59400 non-null  object \n",
      " 25  management_group       59400 non-null  object \n",
      " 26  payment                59400 non-null  object \n",
      " 27  payment_type           59400 non-null  object \n",
      " 28  water_quality          59400 non-null  object \n",
      " 29  quantity               59400 non-null  object \n",
      " 30  source                 59400 non-null  object \n",
      " 31  source_type            59400 non-null  object \n",
      " 32  source_class           59400 non-null  object \n",
      " 33  waterpoint_type        59400 non-null  object \n",
      " 34  status_group           59400 non-null  int64  \n",
      "dtypes: float64(3), int64(7), object(25)\n",
      "memory usage: 18.8+ MB\n"
     ]
    }
   ],
   "source": [
    "df_ana.info()"
   ]
  },
  {
   "cell_type": "code",
   "execution_count": 143,
   "id": "c4493d46",
   "metadata": {},
   "outputs": [
    {
     "data": {
      "text/plain": [
       "communal standpipe             28522\n",
       "hand pump                      17488\n",
       "other                           6380\n",
       "communal standpipe multiple     6103\n",
       "improved spring                  784\n",
       "cattle trough                    116\n",
       "dam                                7\n",
       "Name: waterpoint_type, dtype: int64"
      ]
     },
     "execution_count": 143,
     "metadata": {},
     "output_type": "execute_result"
    }
   ],
   "source": [
    "df_ana['waterpoint_type'].value_counts()"
   ]
  },
  {
   "cell_type": "code",
   "execution_count": 144,
   "id": "1969dbaf",
   "metadata": {},
   "outputs": [
    {
     "data": {
      "text/plain": [
       "never pay                25348\n",
       "pay per bucket            8985\n",
       "pay monthly               8300\n",
       "unknown                   8157\n",
       "pay when scheme fails     3914\n",
       "pay annually              3642\n",
       "other                     1054\n",
       "Name: payment, dtype: int64"
      ]
     },
     "execution_count": 144,
     "metadata": {},
     "output_type": "execute_result"
    }
   ],
   "source": [
    "df_ana.payment.value_counts()"
   ]
  },
  {
   "cell_type": "code",
   "execution_count": 145,
   "id": "1f7179ce",
   "metadata": {},
   "outputs": [
    {
     "data": {
      "text/plain": [
       "never pay     25348\n",
       "per bucket     8985\n",
       "monthly        8300\n",
       "unknown        8157\n",
       "on failure     3914\n",
       "annually       3642\n",
       "other          1054\n",
       "Name: payment_type, dtype: int64"
      ]
     },
     "execution_count": 145,
     "metadata": {},
     "output_type": "execute_result"
    }
   ],
   "source": [
    "df_ana.payment_type.value_counts()"
   ]
  },
  {
   "cell_type": "code",
   "execution_count": 147,
   "id": "f17a42b3",
   "metadata": {},
   "outputs": [],
   "source": [
    "df_ana= df_ana.drop('payment_type',axis=1)"
   ]
  },
  {
   "cell_type": "code",
   "execution_count": 148,
   "id": "1012ce59",
   "metadata": {},
   "outputs": [
    {
     "data": {
      "text/plain": [
       "vwc                 40507\n",
       "wug                  6515\n",
       "water board          2933\n",
       "wua                  2535\n",
       "private operator     1971\n",
       "parastatal           1768\n",
       "water authority       904\n",
       "other                 844\n",
       "company               685\n",
       "unknown               561\n",
       "other - school         99\n",
       "trust                  78\n",
       "Name: management, dtype: int64"
      ]
     },
     "execution_count": 148,
     "metadata": {},
     "output_type": "execute_result"
    }
   ],
   "source": [
    "df_ana['management'].value_counts()"
   ]
  },
  {
   "cell_type": "code",
   "execution_count": 149,
   "id": "4e474c86",
   "metadata": {},
   "outputs": [
    {
     "data": {
      "text/plain": [
       "user-group    52490\n",
       "commercial     3638\n",
       "parastatal     1768\n",
       "other           943\n",
       "unknown         561\n",
       "Name: management_group, dtype: int64"
      ]
     },
     "execution_count": 149,
     "metadata": {},
     "output_type": "execute_result"
    }
   ],
   "source": [
    "df_ana.management_group.value_counts()"
   ]
  },
  {
   "cell_type": "code",
   "execution_count": 151,
   "id": "45d66c10",
   "metadata": {},
   "outputs": [
    {
     "data": {
      "text/plain": [
       "spring                  17021\n",
       "shallow well            16824\n",
       "machine dbh             11075\n",
       "river                    9612\n",
       "rainwater harvesting     2295\n",
       "hand dtw                  874\n",
       "lake                      765\n",
       "dam                       656\n",
       "other                     212\n",
       "unknown                    66\n",
       "Name: source, dtype: int64"
      ]
     },
     "execution_count": 151,
     "metadata": {},
     "output_type": "execute_result"
    }
   ],
   "source": [
    "df.source.value_counts()"
   ]
  },
  {
   "cell_type": "code",
   "execution_count": 154,
   "id": "d1a70487",
   "metadata": {},
   "outputs": [
    {
     "data": {
      "text/plain": [
       "11949"
      ]
     },
     "execution_count": 154,
     "metadata": {},
     "output_type": "execute_result"
    }
   ],
   "source": [
    "11075+874"
   ]
  },
  {
   "cell_type": "code",
   "execution_count": 152,
   "id": "6ac8d141",
   "metadata": {},
   "outputs": [
    {
     "data": {
      "text/plain": [
       "spring                  17021\n",
       "shallow well            16824\n",
       "borehole                11949\n",
       "river/lake              10377\n",
       "rainwater harvesting     2295\n",
       "dam                       656\n",
       "other                     278\n",
       "Name: source_type, dtype: int64"
      ]
     },
     "execution_count": 152,
     "metadata": {},
     "output_type": "execute_result"
    }
   ],
   "source": [
    "df.source_type.value_counts()"
   ]
  },
  {
   "cell_type": "code",
   "execution_count": 153,
   "id": "169bbd70",
   "metadata": {},
   "outputs": [
    {
     "data": {
      "text/plain": [
       "groundwater    45794\n",
       "surface        13328\n",
       "unknown          278\n",
       "Name: source_class, dtype: int64"
      ]
     },
     "execution_count": 153,
     "metadata": {},
     "output_type": "execute_result"
    }
   ],
   "source": [
    "df.source_class.value_counts()"
   ]
  },
  {
   "cell_type": "code",
   "execution_count": 155,
   "id": "69bbba3a",
   "metadata": {},
   "outputs": [],
   "source": [
    "df_ana=df_ana.drop('source_type',axis=1)"
   ]
  },
  {
   "cell_type": "code",
   "execution_count": 156,
   "id": "a2a84cb2",
   "metadata": {},
   "outputs": [
    {
     "data": {
      "text/plain": [
       "Iringa           5294\n",
       "Shinyanga        4982\n",
       "Mbeya            4639\n",
       "Kilimanjaro      4379\n",
       "Morogoro         4006\n",
       "Arusha           3350\n",
       "Kagera           3316\n",
       "Mwanza           3102\n",
       "Kigoma           2816\n",
       "Ruvuma           2640\n",
       "Pwani            2635\n",
       "Tanga            2547\n",
       "Dodoma           2201\n",
       "Singida          2093\n",
       "Mara             1969\n",
       "Tabora           1959\n",
       "Rukwa            1808\n",
       "Mtwara           1730\n",
       "Manyara          1583\n",
       "Lindi            1546\n",
       "Dar es Salaam     805\n",
       "Name: region, dtype: int64"
      ]
     },
     "execution_count": 156,
     "metadata": {},
     "output_type": "execute_result"
    }
   ],
   "source": [
    "df_ana.region.value_counts()"
   ]
  },
  {
   "cell_type": "code",
   "execution_count": 157,
   "id": "427da724",
   "metadata": {},
   "outputs": [
    {
     "data": {
      "text/plain": [
       "11    5300\n",
       "17    5011\n",
       "12    4639\n",
       "3     4379\n",
       "5     4040\n",
       "18    3324\n",
       "19    3047\n",
       "2     3024\n",
       "16    2816\n",
       "10    2640\n",
       "4     2513\n",
       "1     2201\n",
       "13    2093\n",
       "14    1979\n",
       "20    1969\n",
       "15    1808\n",
       "6     1609\n",
       "21    1583\n",
       "80    1238\n",
       "60    1025\n",
       "90     917\n",
       "7      805\n",
       "99     423\n",
       "9      390\n",
       "24     326\n",
       "8      300\n",
       "40       1\n",
       "Name: region_code, dtype: int64"
      ]
     },
     "execution_count": 157,
     "metadata": {},
     "output_type": "execute_result"
    }
   ],
   "source": [
    "df_ana.region_code.value_counts()"
   ]
  },
  {
   "cell_type": "code",
   "execution_count": 158,
   "id": "d6abe1fa",
   "metadata": {},
   "outputs": [
    {
     "name": "stdout",
     "output_type": "stream",
     "text": [
      "<class 'pandas.core.frame.DataFrame'>\n",
      "Int64Index: 59400 entries, 0 to 59399\n",
      "Data columns (total 33 columns):\n",
      " #   Column                 Non-Null Count  Dtype  \n",
      "---  ------                 --------------  -----  \n",
      " 0   id                     59400 non-null  int64  \n",
      " 1   amount_tsh             59400 non-null  float64\n",
      " 2   date_recorded          59400 non-null  object \n",
      " 3   funder                 55765 non-null  object \n",
      " 4   gps_height             59400 non-null  int64  \n",
      " 5   installer              55745 non-null  object \n",
      " 6   longitude              59400 non-null  float64\n",
      " 7   latitude               59400 non-null  float64\n",
      " 8   wpt_name               59400 non-null  object \n",
      " 9   basin                  59400 non-null  object \n",
      " 10  subvillage             59029 non-null  object \n",
      " 11  region                 59400 non-null  object \n",
      " 12  region_code            59400 non-null  int64  \n",
      " 13  district_code          59400 non-null  int64  \n",
      " 14  lga                    59400 non-null  object \n",
      " 15  ward                   59400 non-null  object \n",
      " 16  population             59400 non-null  int64  \n",
      " 17  public_meeting         56066 non-null  object \n",
      " 18  recorded_by            59400 non-null  object \n",
      " 19  scheme_management      55523 non-null  object \n",
      " 20  permit                 56344 non-null  object \n",
      " 21  construction_year      59400 non-null  int64  \n",
      " 22  extraction_type        59400 non-null  object \n",
      " 23  extraction_type_class  59400 non-null  object \n",
      " 24  management             59400 non-null  object \n",
      " 25  management_group       59400 non-null  object \n",
      " 26  payment                59400 non-null  object \n",
      " 27  water_quality          59400 non-null  object \n",
      " 28  quantity               59400 non-null  object \n",
      " 29  source                 59400 non-null  object \n",
      " 30  source_class           59400 non-null  object \n",
      " 31  waterpoint_type        59400 non-null  object \n",
      " 32  status_group           59400 non-null  int64  \n",
      "dtypes: float64(3), int64(7), object(23)\n",
      "memory usage: 17.9+ MB\n"
     ]
    }
   ],
   "source": [
    "df_ana.info()"
   ]
  },
  {
   "cell_type": "code",
   "execution_count": 285,
   "id": "91b35039",
   "metadata": {},
   "outputs": [
    {
     "data": {
      "text/plain": [
       "37400"
      ]
     },
     "execution_count": 285,
     "metadata": {},
     "output_type": "execute_result"
    }
   ],
   "source": [
    "df_ana.wpt_name.value_counts().count()"
   ]
  },
  {
   "cell_type": "code",
   "execution_count": 248,
   "id": "0bc697d8",
   "metadata": {},
   "outputs": [
    {
     "data": {
      "image/png": "[encoded data removed]",
      "text/plain": [
       "<Figure size 1008x288 with 1 Axes>"
      ]
     },
     "metadata": {},
     "output_type": "display_data"
    }
   ],
   "source": [
    "with plt.style.context('seaborn-talk'):\n",
    "    fig, ax  = plt.subplots(figsize=(14, 4))\n",
    "    sns.boxplot(x = df_ana['gps_height'], ax=ax);"
   ]
  },
  {
   "cell_type": "code",
   "execution_count": 215,
   "id": "1fc20b74",
   "metadata": {},
   "outputs": [
    {
     "data": {
      "image/png": "[encoded data removed]",
      "text/plain": [
       "<Figure size 1008x288 with 1 Axes>"
      ]
     },
     "metadata": {},
     "output_type": "display_data"
    }
   ],
   "source": [
    "#df_ana.amount_tsh.hist(bins='auto')\n",
    "with plt.style.context('seaborn-talk'):\n",
    "    fig, ax  = plt.subplots(figsize=(14, 4))\n",
    "    sns.boxplot(x = df_ana['amount_tsh'], ax=ax);"
   ]
  },
  {
   "cell_type": "code",
   "execution_count": 216,
   "id": "6bb31717",
   "metadata": {},
   "outputs": [
    {
     "data": {
      "text/html": [
       "<div>\n",
       "<style scoped>\n",
       "    .dataframe tbody tr th:only-of-type {\n",
       "        vertical-align: middle;\n",
       "    }\n",
       "\n",
       "    .dataframe tbody tr th {\n",
       "        vertical-align: top;\n",
       "    }\n",
       "\n",
       "    .dataframe thead th {\n",
       "        text-align: right;\n",
       "    }\n",
       "</style>\n",
       "<table border=\"1\" class=\"dataframe\">\n",
       "  <thead>\n",
       "    <tr style=\"text-align: right;\">\n",
       "      <th></th>\n",
       "      <th>id</th>\n",
       "      <th>amount_tsh</th>\n",
       "      <th>gps_height</th>\n",
       "      <th>longitude</th>\n",
       "      <th>latitude</th>\n",
       "      <th>region_code</th>\n",
       "      <th>district_code</th>\n",
       "      <th>population</th>\n",
       "      <th>construction_year</th>\n",
       "      <th>status_group</th>\n",
       "    </tr>\n",
       "  </thead>\n",
       "  <tbody>\n",
       "    <tr>\n",
       "      <th>count</th>\n",
       "      <td>59400.000000</td>\n",
       "      <td>59400.000000</td>\n",
       "      <td>59400.000000</td>\n",
       "      <td>59400.000000</td>\n",
       "      <td>5.940000e+04</td>\n",
       "      <td>59400.000000</td>\n",
       "      <td>59400.000000</td>\n",
       "      <td>59400.000000</td>\n",
       "      <td>59400.000000</td>\n",
       "      <td>59400.000000</td>\n",
       "    </tr>\n",
       "    <tr>\n",
       "      <th>mean</th>\n",
       "      <td>37115.131768</td>\n",
       "      <td>317.650385</td>\n",
       "      <td>668.297239</td>\n",
       "      <td>34.077427</td>\n",
       "      <td>-5.706033e+00</td>\n",
       "      <td>15.297003</td>\n",
       "      <td>5.629747</td>\n",
       "      <td>179.909983</td>\n",
       "      <td>1300.652475</td>\n",
       "      <td>0.529596</td>\n",
       "    </tr>\n",
       "    <tr>\n",
       "      <th>std</th>\n",
       "      <td>21453.128371</td>\n",
       "      <td>2997.574558</td>\n",
       "      <td>693.116350</td>\n",
       "      <td>6.567432</td>\n",
       "      <td>2.946019e+00</td>\n",
       "      <td>17.587406</td>\n",
       "      <td>9.633649</td>\n",
       "      <td>471.482176</td>\n",
       "      <td>951.620547</td>\n",
       "      <td>0.628080</td>\n",
       "    </tr>\n",
       "    <tr>\n",
       "      <th>min</th>\n",
       "      <td>0.000000</td>\n",
       "      <td>0.000000</td>\n",
       "      <td>-90.000000</td>\n",
       "      <td>0.000000</td>\n",
       "      <td>-1.164944e+01</td>\n",
       "      <td>1.000000</td>\n",
       "      <td>0.000000</td>\n",
       "      <td>0.000000</td>\n",
       "      <td>0.000000</td>\n",
       "      <td>0.000000</td>\n",
       "    </tr>\n",
       "    <tr>\n",
       "      <th>25%</th>\n",
       "      <td>18519.750000</td>\n",
       "      <td>0.000000</td>\n",
       "      <td>0.000000</td>\n",
       "      <td>33.090347</td>\n",
       "      <td>-8.540621e+00</td>\n",
       "      <td>5.000000</td>\n",
       "      <td>2.000000</td>\n",
       "      <td>0.000000</td>\n",
       "      <td>0.000000</td>\n",
       "      <td>0.000000</td>\n",
       "    </tr>\n",
       "    <tr>\n",
       "      <th>50%</th>\n",
       "      <td>37061.500000</td>\n",
       "      <td>0.000000</td>\n",
       "      <td>369.000000</td>\n",
       "      <td>34.908743</td>\n",
       "      <td>-5.021597e+00</td>\n",
       "      <td>12.000000</td>\n",
       "      <td>3.000000</td>\n",
       "      <td>25.000000</td>\n",
       "      <td>1986.000000</td>\n",
       "      <td>0.000000</td>\n",
       "    </tr>\n",
       "    <tr>\n",
       "      <th>75%</th>\n",
       "      <td>55656.500000</td>\n",
       "      <td>20.000000</td>\n",
       "      <td>1319.250000</td>\n",
       "      <td>37.178387</td>\n",
       "      <td>-3.326156e+00</td>\n",
       "      <td>17.000000</td>\n",
       "      <td>5.000000</td>\n",
       "      <td>215.000000</td>\n",
       "      <td>2004.000000</td>\n",
       "      <td>1.000000</td>\n",
       "    </tr>\n",
       "    <tr>\n",
       "      <th>max</th>\n",
       "      <td>74247.000000</td>\n",
       "      <td>350000.000000</td>\n",
       "      <td>2770.000000</td>\n",
       "      <td>40.345193</td>\n",
       "      <td>-2.000000e-08</td>\n",
       "      <td>99.000000</td>\n",
       "      <td>80.000000</td>\n",
       "      <td>30500.000000</td>\n",
       "      <td>2013.000000</td>\n",
       "      <td>2.000000</td>\n",
       "    </tr>\n",
       "  </tbody>\n",
       "</table>\n",
       "</div>"
      ],
      "text/plain": [
       "                 id     amount_tsh    gps_height     longitude      latitude  \\\n",
       "count  59400.000000   59400.000000  59400.000000  59400.000000  5.940000e+04   \n",
       "mean   37115.131768     317.650385    668.297239     34.077427 -5.706033e+00   \n",
       "std    21453.128371    2997.574558    693.116350      6.567432  2.946019e+00   \n",
       "min        0.000000       0.000000    -90.000000      0.000000 -1.164944e+01   \n",
       "25%    18519.750000       0.000000      0.000000     33.090347 -8.540621e+00   \n",
       "50%    37061.500000       0.000000    369.000000     34.908743 -5.021597e+00   \n",
       "75%    55656.500000      20.000000   1319.250000     37.178387 -3.326156e+00   \n",
       "max    74247.000000  350000.000000   2770.000000     40.345193 -2.000000e-08   \n",
       "\n",
       "        region_code  district_code    population  construction_year  \\\n",
       "count  59400.000000   59400.000000  59400.000000       59400.000000   \n",
       "mean      15.297003       5.629747    179.909983        1300.652475   \n",
       "std       17.587406       9.633649    471.482176         951.620547   \n",
       "min        1.000000       0.000000      0.000000           0.000000   \n",
       "25%        5.000000       2.000000      0.000000           0.000000   \n",
       "50%       12.000000       3.000000     25.000000        1986.000000   \n",
       "75%       17.000000       5.000000    215.000000        2004.000000   \n",
       "max       99.000000      80.000000  30500.000000        2013.000000   \n",
       "\n",
       "       status_group  \n",
       "count  59400.000000  \n",
       "mean       0.529596  \n",
       "std        0.628080  \n",
       "min        0.000000  \n",
       "25%        0.000000  \n",
       "50%        0.000000  \n",
       "75%        1.000000  \n",
       "max        2.000000  "
      ]
     },
     "execution_count": 216,
     "metadata": {},
     "output_type": "execute_result"
    }
   ],
   "source": [
    "df_ana.describe()"
   ]
  },
  {
   "cell_type": "code",
   "execution_count": 241,
   "id": "4aaf4076",
   "metadata": {},
   "outputs": [
    {
     "data": {
      "text/plain": [
       "5000.0"
      ]
     },
     "execution_count": 241,
     "metadata": {},
     "output_type": "execute_result"
    }
   ],
   "source": [
    "df_ana['amount_tsh'].quantile(.99)"
   ]
  },
  {
   "cell_type": "code",
   "execution_count": 251,
   "id": "ab75e80d",
   "metadata": {},
   "outputs": [],
   "source": [
    "# Code copied from: https://stackoverflow.com/questions/61330427/set-y-axis-in-millions and modified a bit. \n",
    "# Use the function below to get rid of 1e8s etc on graphs and to format numbers in thousands, millions, etc in visualizations..:\n",
    "\n",
    "from matplotlib.ticker import FuncFormatter\n",
    "\n",
    "def human_format(num, pos):\n",
    "    magnitude = 0\n",
    "    while abs(num) >= 1000:\n",
    "        magnitude += 1\n",
    "        num /= 1000.0\n",
    "    return '$%.0f%s' % (num, ['', 'K', 'M', 'B', 'T', 'P'][magnitude])\n",
    "\n",
    "formatter = FuncFormatter(human_format)\n"
   ]
  },
  {
   "cell_type": "code",
   "execution_count": 279,
   "id": "c25206ed",
   "metadata": {},
   "outputs": [
    {
     "data": {
      "image/png": "[encoded data removed]",
      "text/plain": [
       "<Figure size 576x432 with 1 Axes>"
      ]
     },
     "metadata": {},
     "output_type": "display_data"
    }
   ],
   "source": [
    "with plt.style.context('seaborn-talk'):\n",
    "    fig, ax  = plt.subplots(figsize=(8, 6))\n",
    "\n",
    "    sns.histplot(x = df_ana_new['amount_tsh'], bins=50, ax=ax, kde =True)\n",
    "    #ax.xaxis.set_major_formatter(formatter)\n",
    "    #plt.ylim(0, 7000)\n",
    "    ax.set_title('Static  water Head', fontsize=16)\n",
    "    ax.set_xlabel(\"Static Water Height\", fontsize=14)\n",
    "    ax.set_ylabel(\"Count\", fontsize=14)\n",
    "    ax.vlines(df_ana_new['amount_tsh'].quantile(0.997), 0, 6900, color= 'orange', linestyle='--', label = \"Top .3 % of the data\")\n",
    "    ax.legend(loc = 'upper right')\n",
    "    fig.tight_layout();\n",
    "    \n",
    "    #fig.savefig('./images/Histogram_DependentMeasure.png', dpi=300)"
   ]
  },
  {
   "cell_type": "code",
   "execution_count": 282,
   "id": "cfba3333",
   "metadata": {},
   "outputs": [
    {
     "data": {
      "image/png": "[encoded data removed]",
      "text/plain": [
       "<Figure size 576x432 with 1 Axes>"
      ]
     },
     "metadata": {},
     "output_type": "display_data"
    }
   ],
   "source": [
    "with plt.style.context('seaborn-talk'):\n",
    "    fig, ax  = plt.subplots(figsize=(8, 6))\n",
    "\n",
    "    sns.histplot(x = df_ana_new['gps_height'], bins=50, ax=ax, kde =True)\n",
    "    #ax.xaxis.set_major_formatter(formatter)\n",
    "    #plt.ylim(0, 7000)\n",
    "    ax.set_title('GPS Height Installer Plot', fontsize=16)\n",
    "    ax.set_xlabel(\"GPS Height\", fontsize=14)\n",
    "    ax.set_ylabel(\"Count\", fontsize=14)\n",
    "    ax.vlines(df_ana_new['gps_height'].quantile(0.997), 0, 6900, color= 'orange', linestyle='--', label = \"Top .3 % of the data\")\n",
    "    ax.legend(loc = 'upper right')\n",
    "    fig.tight_layout();\n",
    "    \n",
    "    #fig.savefig('./images/Histogram_DependentMeasure.png', dpi=300)"
   ]
  },
  {
   "cell_type": "code",
   "execution_count": 277,
   "id": "b4e5f87b",
   "metadata": {},
   "outputs": [
    {
     "name": "stdout",
     "output_type": "stream",
     "text": [
      "old shape (59400, 33)\n",
      "newshape (59220, 33)\n",
      "Data Loss is (%): 0.30303030303030304\n"
     ]
    }
   ],
   "source": [
    "oldshape=df_ana.shape\n",
    "print('old shape', oldshape)\n",
    "df_ana_new = df_ana[(df_ana['amount_tsh']<df_ana['amount_tsh'].quantile(.997))]\n",
    "newshape=df_ana_new.shape\n",
    "print('newshape', df_ana_new.shape)\n",
    "print(\"Data Loss is (%):\", (oldshape[0]- newshape[0])/oldshape[0]*100)"
   ]
  },
  {
   "cell_type": "code",
   "execution_count": 247,
   "id": "3a6c5e99",
   "metadata": {},
   "outputs": [
    {
     "data": {
      "text/html": [
       "<div>\n",
       "<style scoped>\n",
       "    .dataframe tbody tr th:only-of-type {\n",
       "        vertical-align: middle;\n",
       "    }\n",
       "\n",
       "    .dataframe tbody tr th {\n",
       "        vertical-align: top;\n",
       "    }\n",
       "\n",
       "    .dataframe thead th {\n",
       "        text-align: right;\n",
       "    }\n",
       "</style>\n",
       "<table border=\"1\" class=\"dataframe\">\n",
       "  <thead>\n",
       "    <tr style=\"text-align: right;\">\n",
       "      <th></th>\n",
       "      <th>id</th>\n",
       "      <th>amount_tsh</th>\n",
       "      <th>date_recorded</th>\n",
       "      <th>funder</th>\n",
       "      <th>gps_height</th>\n",
       "      <th>installer</th>\n",
       "      <th>longitude</th>\n",
       "      <th>latitude</th>\n",
       "      <th>wpt_name</th>\n",
       "      <th>basin</th>\n",
       "      <th>...</th>\n",
       "      <th>extraction_type_class</th>\n",
       "      <th>management</th>\n",
       "      <th>management_group</th>\n",
       "      <th>payment</th>\n",
       "      <th>water_quality</th>\n",
       "      <th>quantity</th>\n",
       "      <th>source</th>\n",
       "      <th>source_class</th>\n",
       "      <th>waterpoint_type</th>\n",
       "      <th>status_group</th>\n",
       "    </tr>\n",
       "  </thead>\n",
       "  <tbody>\n",
       "    <tr>\n",
       "      <th>1</th>\n",
       "      <td>8776</td>\n",
       "      <td>0.0</td>\n",
       "      <td>2013-03-06</td>\n",
       "      <td>Grumeti</td>\n",
       "      <td>1399</td>\n",
       "      <td>GRUMETI</td>\n",
       "      <td>34.698766</td>\n",
       "      <td>-2.147466</td>\n",
       "      <td>Zahanati</td>\n",
       "      <td>Lake Victoria</td>\n",
       "      <td>...</td>\n",
       "      <td>gravity</td>\n",
       "      <td>wug</td>\n",
       "      <td>user-group</td>\n",
       "      <td>never pay</td>\n",
       "      <td>soft</td>\n",
       "      <td>insufficient</td>\n",
       "      <td>rainwater harvesting</td>\n",
       "      <td>surface</td>\n",
       "      <td>communal standpipe</td>\n",
       "      <td>0</td>\n",
       "    </tr>\n",
       "    <tr>\n",
       "      <th>3</th>\n",
       "      <td>67743</td>\n",
       "      <td>0.0</td>\n",
       "      <td>2013-01-28</td>\n",
       "      <td>Unicef</td>\n",
       "      <td>263</td>\n",
       "      <td>UNICEF</td>\n",
       "      <td>38.486161</td>\n",
       "      <td>-11.155298</td>\n",
       "      <td>Zahanati Ya Nanyumbu</td>\n",
       "      <td>Ruvuma / Southern Coast</td>\n",
       "      <td>...</td>\n",
       "      <td>submersible</td>\n",
       "      <td>vwc</td>\n",
       "      <td>user-group</td>\n",
       "      <td>never pay</td>\n",
       "      <td>soft</td>\n",
       "      <td>dry</td>\n",
       "      <td>machine dbh</td>\n",
       "      <td>groundwater</td>\n",
       "      <td>communal standpipe multiple</td>\n",
       "      <td>1</td>\n",
       "    </tr>\n",
       "    <tr>\n",
       "      <th>4</th>\n",
       "      <td>19728</td>\n",
       "      <td>0.0</td>\n",
       "      <td>2011-07-13</td>\n",
       "      <td>Action In A</td>\n",
       "      <td>0</td>\n",
       "      <td>Artisan</td>\n",
       "      <td>31.130847</td>\n",
       "      <td>-1.825359</td>\n",
       "      <td>Shuleni</td>\n",
       "      <td>Lake Victoria</td>\n",
       "      <td>...</td>\n",
       "      <td>gravity</td>\n",
       "      <td>other</td>\n",
       "      <td>other</td>\n",
       "      <td>never pay</td>\n",
       "      <td>soft</td>\n",
       "      <td>seasonal</td>\n",
       "      <td>rainwater harvesting</td>\n",
       "      <td>surface</td>\n",
       "      <td>communal standpipe</td>\n",
       "      <td>0</td>\n",
       "    </tr>\n",
       "    <tr>\n",
       "      <th>6</th>\n",
       "      <td>19816</td>\n",
       "      <td>0.0</td>\n",
       "      <td>2012-10-01</td>\n",
       "      <td>Dwsp</td>\n",
       "      <td>0</td>\n",
       "      <td>DWSP</td>\n",
       "      <td>33.362410</td>\n",
       "      <td>-3.766365</td>\n",
       "      <td>Kwa Ngomho</td>\n",
       "      <td>Internal</td>\n",
       "      <td>...</td>\n",
       "      <td>handpump</td>\n",
       "      <td>vwc</td>\n",
       "      <td>user-group</td>\n",
       "      <td>never pay</td>\n",
       "      <td>soft</td>\n",
       "      <td>enough</td>\n",
       "      <td>machine dbh</td>\n",
       "      <td>groundwater</td>\n",
       "      <td>hand pump</td>\n",
       "      <td>1</td>\n",
       "    </tr>\n",
       "    <tr>\n",
       "      <th>7</th>\n",
       "      <td>54551</td>\n",
       "      <td>0.0</td>\n",
       "      <td>2012-10-09</td>\n",
       "      <td>Rwssp</td>\n",
       "      <td>0</td>\n",
       "      <td>DWE</td>\n",
       "      <td>32.620617</td>\n",
       "      <td>-4.226198</td>\n",
       "      <td>Tushirikiane</td>\n",
       "      <td>Lake Tanganyika</td>\n",
       "      <td>...</td>\n",
       "      <td>handpump</td>\n",
       "      <td>wug</td>\n",
       "      <td>user-group</td>\n",
       "      <td>unknown</td>\n",
       "      <td>milky</td>\n",
       "      <td>enough</td>\n",
       "      <td>shallow well</td>\n",
       "      <td>groundwater</td>\n",
       "      <td>hand pump</td>\n",
       "      <td>1</td>\n",
       "    </tr>\n",
       "    <tr>\n",
       "      <th>...</th>\n",
       "      <td>...</td>\n",
       "      <td>...</td>\n",
       "      <td>...</td>\n",
       "      <td>...</td>\n",
       "      <td>...</td>\n",
       "      <td>...</td>\n",
       "      <td>...</td>\n",
       "      <td>...</td>\n",
       "      <td>...</td>\n",
       "      <td>...</td>\n",
       "      <td>...</td>\n",
       "      <td>...</td>\n",
       "      <td>...</td>\n",
       "      <td>...</td>\n",
       "      <td>...</td>\n",
       "      <td>...</td>\n",
       "      <td>...</td>\n",
       "      <td>...</td>\n",
       "      <td>...</td>\n",
       "      <td>...</td>\n",
       "      <td>...</td>\n",
       "    </tr>\n",
       "    <tr>\n",
       "      <th>59392</th>\n",
       "      <td>40607</td>\n",
       "      <td>0.0</td>\n",
       "      <td>2011-04-15</td>\n",
       "      <td>Government Of Tanzania</td>\n",
       "      <td>0</td>\n",
       "      <td>Government</td>\n",
       "      <td>33.009440</td>\n",
       "      <td>-8.520888</td>\n",
       "      <td>Benard Charles</td>\n",
       "      <td>Lake Rukwa</td>\n",
       "      <td>...</td>\n",
       "      <td>gravity</td>\n",
       "      <td>vwc</td>\n",
       "      <td>user-group</td>\n",
       "      <td>never pay</td>\n",
       "      <td>soft</td>\n",
       "      <td>enough</td>\n",
       "      <td>spring</td>\n",
       "      <td>groundwater</td>\n",
       "      <td>communal standpipe</td>\n",
       "      <td>1</td>\n",
       "    </tr>\n",
       "    <tr>\n",
       "      <th>59393</th>\n",
       "      <td>48348</td>\n",
       "      <td>0.0</td>\n",
       "      <td>2012-10-27</td>\n",
       "      <td>Private</td>\n",
       "      <td>0</td>\n",
       "      <td>Private</td>\n",
       "      <td>33.866852</td>\n",
       "      <td>-4.287410</td>\n",
       "      <td>Kwa Peter</td>\n",
       "      <td>Internal</td>\n",
       "      <td>...</td>\n",
       "      <td>gravity</td>\n",
       "      <td>private operator</td>\n",
       "      <td>commercial</td>\n",
       "      <td>pay per bucket</td>\n",
       "      <td>soft</td>\n",
       "      <td>insufficient</td>\n",
       "      <td>dam</td>\n",
       "      <td>surface</td>\n",
       "      <td>other</td>\n",
       "      <td>0</td>\n",
       "    </tr>\n",
       "    <tr>\n",
       "      <th>59397</th>\n",
       "      <td>37057</td>\n",
       "      <td>0.0</td>\n",
       "      <td>2011-04-11</td>\n",
       "      <td>NaN</td>\n",
       "      <td>0</td>\n",
       "      <td>NaN</td>\n",
       "      <td>34.017087</td>\n",
       "      <td>-8.750434</td>\n",
       "      <td>Mashine</td>\n",
       "      <td>Rufiji</td>\n",
       "      <td>...</td>\n",
       "      <td>handpump</td>\n",
       "      <td>vwc</td>\n",
       "      <td>user-group</td>\n",
       "      <td>pay monthly</td>\n",
       "      <td>fluoride</td>\n",
       "      <td>enough</td>\n",
       "      <td>machine dbh</td>\n",
       "      <td>groundwater</td>\n",
       "      <td>hand pump</td>\n",
       "      <td>0</td>\n",
       "    </tr>\n",
       "    <tr>\n",
       "      <th>59398</th>\n",
       "      <td>31282</td>\n",
       "      <td>0.0</td>\n",
       "      <td>2011-03-08</td>\n",
       "      <td>Malec</td>\n",
       "      <td>0</td>\n",
       "      <td>Musa</td>\n",
       "      <td>35.861315</td>\n",
       "      <td>-6.378573</td>\n",
       "      <td>Mshoro</td>\n",
       "      <td>Rufiji</td>\n",
       "      <td>...</td>\n",
       "      <td>handpump</td>\n",
       "      <td>vwc</td>\n",
       "      <td>user-group</td>\n",
       "      <td>never pay</td>\n",
       "      <td>soft</td>\n",
       "      <td>insufficient</td>\n",
       "      <td>shallow well</td>\n",
       "      <td>groundwater</td>\n",
       "      <td>hand pump</td>\n",
       "      <td>0</td>\n",
       "    </tr>\n",
       "    <tr>\n",
       "      <th>59399</th>\n",
       "      <td>26348</td>\n",
       "      <td>0.0</td>\n",
       "      <td>2011-03-23</td>\n",
       "      <td>World Bank</td>\n",
       "      <td>191</td>\n",
       "      <td>World</td>\n",
       "      <td>38.104048</td>\n",
       "      <td>-6.747464</td>\n",
       "      <td>Kwa Mzee Lugawa</td>\n",
       "      <td>Wami / Ruvu</td>\n",
       "      <td>...</td>\n",
       "      <td>handpump</td>\n",
       "      <td>vwc</td>\n",
       "      <td>user-group</td>\n",
       "      <td>pay when scheme fails</td>\n",
       "      <td>salty</td>\n",
       "      <td>enough</td>\n",
       "      <td>shallow well</td>\n",
       "      <td>groundwater</td>\n",
       "      <td>hand pump</td>\n",
       "      <td>0</td>\n",
       "    </tr>\n",
       "  </tbody>\n",
       "</table>\n",
       "<p>41643 rows × 33 columns</p>\n",
       "</div>"
      ],
      "text/plain": [
       "          id  amount_tsh date_recorded                  funder  gps_height  \\\n",
       "1       8776         0.0    2013-03-06                 Grumeti        1399   \n",
       "3      67743         0.0    2013-01-28                  Unicef         263   \n",
       "4      19728         0.0    2011-07-13             Action In A           0   \n",
       "6      19816         0.0    2012-10-01                    Dwsp           0   \n",
       "7      54551         0.0    2012-10-09                   Rwssp           0   \n",
       "...      ...         ...           ...                     ...         ...   \n",
       "59392  40607         0.0    2011-04-15  Government Of Tanzania           0   \n",
       "59393  48348         0.0    2012-10-27                 Private           0   \n",
       "59397  37057         0.0    2011-04-11                     NaN           0   \n",
       "59398  31282         0.0    2011-03-08                   Malec           0   \n",
       "59399  26348         0.0    2011-03-23              World Bank         191   \n",
       "\n",
       "        installer  longitude   latitude              wpt_name  \\\n",
       "1         GRUMETI  34.698766  -2.147466              Zahanati   \n",
       "3          UNICEF  38.486161 -11.155298  Zahanati Ya Nanyumbu   \n",
       "4         Artisan  31.130847  -1.825359               Shuleni   \n",
       "6            DWSP  33.362410  -3.766365            Kwa Ngomho   \n",
       "7             DWE  32.620617  -4.226198          Tushirikiane   \n",
       "...           ...        ...        ...                   ...   \n",
       "59392  Government  33.009440  -8.520888        Benard Charles   \n",
       "59393     Private  33.866852  -4.287410             Kwa Peter   \n",
       "59397         NaN  34.017087  -8.750434               Mashine   \n",
       "59398        Musa  35.861315  -6.378573                Mshoro   \n",
       "59399       World  38.104048  -6.747464       Kwa Mzee Lugawa   \n",
       "\n",
       "                         basin  ... extraction_type_class        management  \\\n",
       "1                Lake Victoria  ...               gravity               wug   \n",
       "3      Ruvuma / Southern Coast  ...           submersible               vwc   \n",
       "4                Lake Victoria  ...               gravity             other   \n",
       "6                     Internal  ...              handpump               vwc   \n",
       "7              Lake Tanganyika  ...              handpump               wug   \n",
       "...                        ...  ...                   ...               ...   \n",
       "59392               Lake Rukwa  ...               gravity               vwc   \n",
       "59393                 Internal  ...               gravity  private operator   \n",
       "59397                   Rufiji  ...              handpump               vwc   \n",
       "59398                   Rufiji  ...              handpump               vwc   \n",
       "59399              Wami / Ruvu  ...              handpump               vwc   \n",
       "\n",
       "       management_group                payment water_quality      quantity  \\\n",
       "1            user-group              never pay          soft  insufficient   \n",
       "3            user-group              never pay          soft           dry   \n",
       "4                 other              never pay          soft      seasonal   \n",
       "6            user-group              never pay          soft        enough   \n",
       "7            user-group                unknown         milky        enough   \n",
       "...                 ...                    ...           ...           ...   \n",
       "59392        user-group              never pay          soft        enough   \n",
       "59393        commercial         pay per bucket          soft  insufficient   \n",
       "59397        user-group            pay monthly      fluoride        enough   \n",
       "59398        user-group              never pay          soft  insufficient   \n",
       "59399        user-group  pay when scheme fails         salty        enough   \n",
       "\n",
       "                     source source_class              waterpoint_type  \\\n",
       "1      rainwater harvesting      surface           communal standpipe   \n",
       "3               machine dbh  groundwater  communal standpipe multiple   \n",
       "4      rainwater harvesting      surface           communal standpipe   \n",
       "6               machine dbh  groundwater                    hand pump   \n",
       "7              shallow well  groundwater                    hand pump   \n",
       "...                     ...          ...                          ...   \n",
       "59392                spring  groundwater           communal standpipe   \n",
       "59393                   dam      surface                        other   \n",
       "59397           machine dbh  groundwater                    hand pump   \n",
       "59398          shallow well  groundwater                    hand pump   \n",
       "59399          shallow well  groundwater                    hand pump   \n",
       "\n",
       "      status_group  \n",
       "1                0  \n",
       "3                1  \n",
       "4                0  \n",
       "6                1  \n",
       "7                1  \n",
       "...            ...  \n",
       "59392            1  \n",
       "59393            0  \n",
       "59397            0  \n",
       "59398            0  \n",
       "59399            0  \n",
       "\n",
       "[41643 rows x 33 columns]"
      ]
     },
     "execution_count": 247,
     "metadata": {},
     "output_type": "execute_result"
    }
   ],
   "source": [
    "#df_ana_new.amount_tsh.hist(bins=100)\n",
    "df_ana[(df_ana['amount_tsh']<1)]"
   ]
  },
  {
   "cell_type": "code",
   "execution_count": 171,
   "id": "88e24be8",
   "metadata": {},
   "outputs": [
    {
     "data": {
      "text/plain": [
       "2145"
      ]
     },
     "execution_count": 171,
     "metadata": {},
     "output_type": "execute_result"
    }
   ],
   "source": [
    "df_ana.installer.value_counts().count()"
   ]
  },
  {
   "cell_type": "code",
   "execution_count": 174,
   "id": "c8315d7a",
   "metadata": {},
   "outputs": [
    {
     "data": {
      "text/html": [
       "<div>\n",
       "<style scoped>\n",
       "    .dataframe tbody tr th:only-of-type {\n",
       "        vertical-align: middle;\n",
       "    }\n",
       "\n",
       "    .dataframe tbody tr th {\n",
       "        vertical-align: top;\n",
       "    }\n",
       "\n",
       "    .dataframe thead th {\n",
       "        text-align: right;\n",
       "    }\n",
       "</style>\n",
       "<table border=\"1\" class=\"dataframe\">\n",
       "  <thead>\n",
       "    <tr style=\"text-align: right;\">\n",
       "      <th></th>\n",
       "      <th>id</th>\n",
       "      <th>amount_tsh</th>\n",
       "      <th>date_recorded</th>\n",
       "      <th>funder</th>\n",
       "      <th>gps_height</th>\n",
       "      <th>installer</th>\n",
       "      <th>longitude</th>\n",
       "      <th>latitude</th>\n",
       "      <th>wpt_name</th>\n",
       "      <th>basin</th>\n",
       "      <th>...</th>\n",
       "      <th>extraction_type_class</th>\n",
       "      <th>management</th>\n",
       "      <th>management_group</th>\n",
       "      <th>payment</th>\n",
       "      <th>water_quality</th>\n",
       "      <th>quantity</th>\n",
       "      <th>source</th>\n",
       "      <th>source_class</th>\n",
       "      <th>waterpoint_type</th>\n",
       "      <th>status_group</th>\n",
       "    </tr>\n",
       "  </thead>\n",
       "  <tbody>\n",
       "    <tr>\n",
       "      <th>34</th>\n",
       "      <td>41583</td>\n",
       "      <td>0.0</td>\n",
       "      <td>2011-02-23</td>\n",
       "      <td>NaN</td>\n",
       "      <td>-41</td>\n",
       "      <td>NaN</td>\n",
       "      <td>39.812912</td>\n",
       "      <td>-7.889986</td>\n",
       "      <td>Msikitini Wa Ijumaa</td>\n",
       "      <td>Rufiji</td>\n",
       "      <td>...</td>\n",
       "      <td>handpump</td>\n",
       "      <td>vwc</td>\n",
       "      <td>user-group</td>\n",
       "      <td>never pay</td>\n",
       "      <td>salty</td>\n",
       "      <td>enough</td>\n",
       "      <td>shallow well</td>\n",
       "      <td>groundwater</td>\n",
       "      <td>hand pump</td>\n",
       "      <td>0</td>\n",
       "    </tr>\n",
       "    <tr>\n",
       "      <th>43</th>\n",
       "      <td>19282</td>\n",
       "      <td>0.0</td>\n",
       "      <td>2013-01-15</td>\n",
       "      <td>NaN</td>\n",
       "      <td>1642</td>\n",
       "      <td>NaN</td>\n",
       "      <td>34.967789</td>\n",
       "      <td>-4.628921</td>\n",
       "      <td>Mvae Primary</td>\n",
       "      <td>Internal</td>\n",
       "      <td>...</td>\n",
       "      <td>motorpump</td>\n",
       "      <td>vwc</td>\n",
       "      <td>user-group</td>\n",
       "      <td>unknown</td>\n",
       "      <td>unknown</td>\n",
       "      <td>dry</td>\n",
       "      <td>machine dbh</td>\n",
       "      <td>groundwater</td>\n",
       "      <td>communal standpipe</td>\n",
       "      <td>1</td>\n",
       "    </tr>\n",
       "    <tr>\n",
       "      <th>47</th>\n",
       "      <td>13620</td>\n",
       "      <td>0.0</td>\n",
       "      <td>2011-07-27</td>\n",
       "      <td>NaN</td>\n",
       "      <td>0</td>\n",
       "      <td>NaN</td>\n",
       "      <td>33.540607</td>\n",
       "      <td>-9.172905</td>\n",
       "      <td>Mahakamani</td>\n",
       "      <td>Lake Nyasa</td>\n",
       "      <td>...</td>\n",
       "      <td>gravity</td>\n",
       "      <td>vwc</td>\n",
       "      <td>user-group</td>\n",
       "      <td>never pay</td>\n",
       "      <td>soft</td>\n",
       "      <td>enough</td>\n",
       "      <td>spring</td>\n",
       "      <td>groundwater</td>\n",
       "      <td>communal standpipe</td>\n",
       "      <td>0</td>\n",
       "    </tr>\n",
       "    <tr>\n",
       "      <th>65</th>\n",
       "      <td>51072</td>\n",
       "      <td>0.0</td>\n",
       "      <td>2013-02-09</td>\n",
       "      <td>NaN</td>\n",
       "      <td>1415</td>\n",
       "      <td>NaN</td>\n",
       "      <td>34.621598</td>\n",
       "      <td>-5.173136</td>\n",
       "      <td>Nyambi</td>\n",
       "      <td>Internal</td>\n",
       "      <td>...</td>\n",
       "      <td>motorpump</td>\n",
       "      <td>vwc</td>\n",
       "      <td>user-group</td>\n",
       "      <td>unknown</td>\n",
       "      <td>unknown</td>\n",
       "      <td>dry</td>\n",
       "      <td>machine dbh</td>\n",
       "      <td>groundwater</td>\n",
       "      <td>communal standpipe</td>\n",
       "      <td>1</td>\n",
       "    </tr>\n",
       "    <tr>\n",
       "      <th>71</th>\n",
       "      <td>17386</td>\n",
       "      <td>0.0</td>\n",
       "      <td>2011-03-31</td>\n",
       "      <td>NaN</td>\n",
       "      <td>0</td>\n",
       "      <td>NaN</td>\n",
       "      <td>34.462228</td>\n",
       "      <td>-8.575780</td>\n",
       "      <td>Kwa Manyusi Mlilo</td>\n",
       "      <td>Rufiji</td>\n",
       "      <td>...</td>\n",
       "      <td>gravity</td>\n",
       "      <td>vwc</td>\n",
       "      <td>user-group</td>\n",
       "      <td>never pay</td>\n",
       "      <td>soft</td>\n",
       "      <td>insufficient</td>\n",
       "      <td>river</td>\n",
       "      <td>surface</td>\n",
       "      <td>communal standpipe</td>\n",
       "      <td>1</td>\n",
       "    </tr>\n",
       "    <tr>\n",
       "      <th>...</th>\n",
       "      <td>...</td>\n",
       "      <td>...</td>\n",
       "      <td>...</td>\n",
       "      <td>...</td>\n",
       "      <td>...</td>\n",
       "      <td>...</td>\n",
       "      <td>...</td>\n",
       "      <td>...</td>\n",
       "      <td>...</td>\n",
       "      <td>...</td>\n",
       "      <td>...</td>\n",
       "      <td>...</td>\n",
       "      <td>...</td>\n",
       "      <td>...</td>\n",
       "      <td>...</td>\n",
       "      <td>...</td>\n",
       "      <td>...</td>\n",
       "      <td>...</td>\n",
       "      <td>...</td>\n",
       "      <td>...</td>\n",
       "      <td>...</td>\n",
       "    </tr>\n",
       "    <tr>\n",
       "      <th>59357</th>\n",
       "      <td>46563</td>\n",
       "      <td>0.0</td>\n",
       "      <td>2013-02-19</td>\n",
       "      <td>NaN</td>\n",
       "      <td>1635</td>\n",
       "      <td>NaN</td>\n",
       "      <td>34.971841</td>\n",
       "      <td>-5.098362</td>\n",
       "      <td>Shabani</td>\n",
       "      <td>Internal</td>\n",
       "      <td>...</td>\n",
       "      <td>handpump</td>\n",
       "      <td>vwc</td>\n",
       "      <td>user-group</td>\n",
       "      <td>unknown</td>\n",
       "      <td>unknown</td>\n",
       "      <td>dry</td>\n",
       "      <td>shallow well</td>\n",
       "      <td>groundwater</td>\n",
       "      <td>hand pump</td>\n",
       "      <td>1</td>\n",
       "    </tr>\n",
       "    <tr>\n",
       "      <th>59366</th>\n",
       "      <td>55232</td>\n",
       "      <td>0.0</td>\n",
       "      <td>2013-02-02</td>\n",
       "      <td>NaN</td>\n",
       "      <td>1541</td>\n",
       "      <td>NaN</td>\n",
       "      <td>34.765729</td>\n",
       "      <td>-5.027725</td>\n",
       "      <td>Joshoni</td>\n",
       "      <td>Internal</td>\n",
       "      <td>...</td>\n",
       "      <td>handpump</td>\n",
       "      <td>vwc</td>\n",
       "      <td>user-group</td>\n",
       "      <td>never pay</td>\n",
       "      <td>soft</td>\n",
       "      <td>insufficient</td>\n",
       "      <td>shallow well</td>\n",
       "      <td>groundwater</td>\n",
       "      <td>hand pump</td>\n",
       "      <td>0</td>\n",
       "    </tr>\n",
       "    <tr>\n",
       "      <th>59370</th>\n",
       "      <td>14796</td>\n",
       "      <td>200.0</td>\n",
       "      <td>2013-01-29</td>\n",
       "      <td>NaN</td>\n",
       "      <td>1154</td>\n",
       "      <td>NaN</td>\n",
       "      <td>30.058731</td>\n",
       "      <td>-4.902633</td>\n",
       "      <td>Village Office</td>\n",
       "      <td>Lake Tanganyika</td>\n",
       "      <td>...</td>\n",
       "      <td>other</td>\n",
       "      <td>unknown</td>\n",
       "      <td>unknown</td>\n",
       "      <td>pay monthly</td>\n",
       "      <td>unknown</td>\n",
       "      <td>unknown</td>\n",
       "      <td>unknown</td>\n",
       "      <td>unknown</td>\n",
       "      <td>other</td>\n",
       "      <td>0</td>\n",
       "    </tr>\n",
       "    <tr>\n",
       "      <th>59376</th>\n",
       "      <td>34716</td>\n",
       "      <td>0.0</td>\n",
       "      <td>2013-02-03</td>\n",
       "      <td>NaN</td>\n",
       "      <td>1581</td>\n",
       "      <td>NaN</td>\n",
       "      <td>34.821039</td>\n",
       "      <td>-5.076258</td>\n",
       "      <td>Nasingo</td>\n",
       "      <td>Internal</td>\n",
       "      <td>...</td>\n",
       "      <td>other</td>\n",
       "      <td>vwc</td>\n",
       "      <td>user-group</td>\n",
       "      <td>unknown</td>\n",
       "      <td>unknown</td>\n",
       "      <td>dry</td>\n",
       "      <td>shallow well</td>\n",
       "      <td>groundwater</td>\n",
       "      <td>other</td>\n",
       "      <td>1</td>\n",
       "    </tr>\n",
       "    <tr>\n",
       "      <th>59397</th>\n",
       "      <td>37057</td>\n",
       "      <td>0.0</td>\n",
       "      <td>2011-04-11</td>\n",
       "      <td>NaN</td>\n",
       "      <td>0</td>\n",
       "      <td>NaN</td>\n",
       "      <td>34.017087</td>\n",
       "      <td>-8.750434</td>\n",
       "      <td>Mashine</td>\n",
       "      <td>Rufiji</td>\n",
       "      <td>...</td>\n",
       "      <td>handpump</td>\n",
       "      <td>vwc</td>\n",
       "      <td>user-group</td>\n",
       "      <td>pay monthly</td>\n",
       "      <td>fluoride</td>\n",
       "      <td>enough</td>\n",
       "      <td>machine dbh</td>\n",
       "      <td>groundwater</td>\n",
       "      <td>hand pump</td>\n",
       "      <td>0</td>\n",
       "    </tr>\n",
       "  </tbody>\n",
       "</table>\n",
       "<p>3655 rows × 33 columns</p>\n",
       "</div>"
      ],
      "text/plain": [
       "          id  amount_tsh date_recorded funder  gps_height installer  \\\n",
       "34     41583         0.0    2011-02-23    NaN         -41       NaN   \n",
       "43     19282         0.0    2013-01-15    NaN        1642       NaN   \n",
       "47     13620         0.0    2011-07-27    NaN           0       NaN   \n",
       "65     51072         0.0    2013-02-09    NaN        1415       NaN   \n",
       "71     17386         0.0    2011-03-31    NaN           0       NaN   \n",
       "...      ...         ...           ...    ...         ...       ...   \n",
       "59357  46563         0.0    2013-02-19    NaN        1635       NaN   \n",
       "59366  55232         0.0    2013-02-02    NaN        1541       NaN   \n",
       "59370  14796       200.0    2013-01-29    NaN        1154       NaN   \n",
       "59376  34716         0.0    2013-02-03    NaN        1581       NaN   \n",
       "59397  37057         0.0    2011-04-11    NaN           0       NaN   \n",
       "\n",
       "       longitude  latitude             wpt_name            basin  ...  \\\n",
       "34     39.812912 -7.889986  Msikitini Wa Ijumaa           Rufiji  ...   \n",
       "43     34.967789 -4.628921         Mvae Primary         Internal  ...   \n",
       "47     33.540607 -9.172905           Mahakamani       Lake Nyasa  ...   \n",
       "65     34.621598 -5.173136               Nyambi         Internal  ...   \n",
       "71     34.462228 -8.575780    Kwa Manyusi Mlilo           Rufiji  ...   \n",
       "...          ...       ...                  ...              ...  ...   \n",
       "59357  34.971841 -5.098362              Shabani         Internal  ...   \n",
       "59366  34.765729 -5.027725              Joshoni         Internal  ...   \n",
       "59370  30.058731 -4.902633       Village Office  Lake Tanganyika  ...   \n",
       "59376  34.821039 -5.076258              Nasingo         Internal  ...   \n",
       "59397  34.017087 -8.750434              Mashine           Rufiji  ...   \n",
       "\n",
       "      extraction_type_class management  management_group      payment  \\\n",
       "34                 handpump        vwc        user-group    never pay   \n",
       "43                motorpump        vwc        user-group      unknown   \n",
       "47                  gravity        vwc        user-group    never pay   \n",
       "65                motorpump        vwc        user-group      unknown   \n",
       "71                  gravity        vwc        user-group    never pay   \n",
       "...                     ...        ...               ...          ...   \n",
       "59357              handpump        vwc        user-group      unknown   \n",
       "59366              handpump        vwc        user-group    never pay   \n",
       "59370                 other    unknown           unknown  pay monthly   \n",
       "59376                 other        vwc        user-group      unknown   \n",
       "59397              handpump        vwc        user-group  pay monthly   \n",
       "\n",
       "      water_quality      quantity        source source_class  \\\n",
       "34            salty        enough  shallow well  groundwater   \n",
       "43          unknown           dry   machine dbh  groundwater   \n",
       "47             soft        enough        spring  groundwater   \n",
       "65          unknown           dry   machine dbh  groundwater   \n",
       "71             soft  insufficient         river      surface   \n",
       "...             ...           ...           ...          ...   \n",
       "59357       unknown           dry  shallow well  groundwater   \n",
       "59366          soft  insufficient  shallow well  groundwater   \n",
       "59370       unknown       unknown       unknown      unknown   \n",
       "59376       unknown           dry  shallow well  groundwater   \n",
       "59397      fluoride        enough   machine dbh  groundwater   \n",
       "\n",
       "          waterpoint_type status_group  \n",
       "34              hand pump            0  \n",
       "43     communal standpipe            1  \n",
       "47     communal standpipe            0  \n",
       "65     communal standpipe            1  \n",
       "71     communal standpipe            1  \n",
       "...                   ...          ...  \n",
       "59357           hand pump            1  \n",
       "59366           hand pump            0  \n",
       "59370               other            0  \n",
       "59376               other            1  \n",
       "59397           hand pump            0  \n",
       "\n",
       "[3655 rows x 33 columns]"
      ]
     },
     "execution_count": 174,
     "metadata": {},
     "output_type": "execute_result"
    }
   ],
   "source": [
    "df_ana[df_ana['installer'].isna()]"
   ]
  },
  {
   "cell_type": "code",
   "execution_count": 175,
   "id": "3c33871f",
   "metadata": {},
   "outputs": [
    {
     "data": {
      "text/plain": [
       "55745"
      ]
     },
     "execution_count": 175,
     "metadata": {},
     "output_type": "execute_result"
    }
   ],
   "source": [
    "59400-3655"
   ]
  },
  {
   "cell_type": "code",
   "execution_count": 176,
   "id": "4871e9a9",
   "metadata": {},
   "outputs": [
    {
     "data": {
      "text/plain": [
       "vwc                 40507\n",
       "wug                  6515\n",
       "water board          2933\n",
       "wua                  2535\n",
       "private operator     1971\n",
       "parastatal           1768\n",
       "water authority       904\n",
       "other                 844\n",
       "company               685\n",
       "unknown               561\n",
       "other - school         99\n",
       "trust                  78\n",
       "Name: management, dtype: int64"
      ]
     },
     "execution_count": 176,
     "metadata": {},
     "output_type": "execute_result"
    }
   ],
   "source": [
    "df_ana.management.value_counts()"
   ]
  },
  {
   "cell_type": "code",
   "execution_count": 181,
   "id": "ece994db",
   "metadata": {},
   "outputs": [
    {
     "data": {
      "text/plain": [
       "2601     2002-10-14\n",
       "27501    2004-01-07\n",
       "42343    2004-03-01\n",
       "23373    2004-03-01\n",
       "33942    2004-03-01\n",
       "            ...    \n",
       "36137    2013-12-03\n",
       "36179    2013-12-03\n",
       "13245    2013-12-03\n",
       "38775    2013-12-03\n",
       "45026    2013-12-03\n",
       "Name: date_recorded, Length: 59400, dtype: object"
      ]
     },
     "execution_count": 181,
     "metadata": {},
     "output_type": "execute_result"
    }
   ],
   "source": [
    "df_ana['date_recorded'].sort_values()"
   ]
  },
  {
   "cell_type": "code",
   "execution_count": 183,
   "id": "435472d0",
   "metadata": {},
   "outputs": [
    {
     "data": {
      "text/plain": [
       "0.0         41639\n",
       "500.0        3102\n",
       "50.0         2472\n",
       "1000.0       1488\n",
       "20.0         1463\n",
       "            ...  \n",
       "8500.0          1\n",
       "6300.0          1\n",
       "220.0           1\n",
       "138000.0        1\n",
       "12.0            1\n",
       "Name: amount_tsh, Length: 98, dtype: int64"
      ]
     },
     "execution_count": 183,
     "metadata": {},
     "output_type": "execute_result"
    }
   ],
   "source": [
    "df_ana.amount_tsh.value_counts()"
   ]
  },
  {
   "cell_type": "code",
   "execution_count": 185,
   "id": "4beff55a",
   "metadata": {},
   "outputs": [
    {
     "data": {
      "text/plain": [
       "'status_group_count'"
      ]
     },
     "execution_count": 185,
     "metadata": {},
     "output_type": "execute_result"
    }
   ],
   "source": []
  },
  {
   "cell_type": "code",
   "execution_count": 207,
   "id": "4a895ec4",
   "metadata": {},
   "outputs": [],
   "source": [
    "def get_and_plot_groups(df, col_to_study,col_to_group,ax=None, Flen=10, Fhgt=5):\n",
    "    df_new = pd.DataFrame(df[[col_to_study,col_to_group]]\\\n",
    "                      .groupby([col_to_study,col_to_group])\\\n",
    "                      .agg(({col_to_group: ['count']})))\n",
    "    df_new.columns = ['_'.join(col) for col in df_new.columns.values]\n",
    "    df_new   = df_new.reset_index()\n",
    "    sorteddf = df_new.sort_values(df_new.columns[2], ascending=False)\n",
    "    sorteddf.head()\n",
    "    fig, ax = plt.subplots(figsize=(Flen,Fhgt))\n",
    "    ax      = sns.barplot(x=df_new.columns[0], y=df_new.columns[2],data=sorteddf,\\\n",
    "                    hue=df_new.columns[1])\n",
    "    ax.legend(loc='upper right')\n",
    "    #return fig, ax"
   ]
  },
  {
   "cell_type": "code",
   "execution_count": 208,
   "id": "e0924d01",
   "metadata": {},
   "outputs": [
    {
     "data": {
      "image/png": "[encoded data removed]",
      "text/plain": [
       "<Figure size 720x360 with 1 Axes>"
      ]
     },
     "metadata": {},
     "output_type": "display_data"
    }
   ],
   "source": [
    "get_and_plot_groups(df_ana,'extraction_type_class','status_group',ax='ax1',Flen=10,Fhgt=5)"
   ]
  },
  {
   "cell_type": "code",
   "execution_count": 209,
   "id": "51167082",
   "metadata": {},
   "outputs": [
    {
     "data": {
      "image/png": "[encoded data removed]",
      "text/plain": [
       "<Figure size 1440x360 with 1 Axes>"
      ]
     },
     "metadata": {},
     "output_type": "display_data"
    }
   ],
   "source": [
    "get_and_plot_groups(df_ana,'region','status_group',ax='ax2',Flen=20,Fhgt=5)"
   ]
  },
  {
   "cell_type": "code",
   "execution_count": 210,
   "id": "231e6475",
   "metadata": {},
   "outputs": [
    {
     "data": {
      "image/png": "[encoded data removed]",
      "text/plain": [
       "<Figure size 1440x360 with 1 Axes>"
      ]
     },
     "metadata": {},
     "output_type": "display_data"
    }
   ],
   "source": [
    "get_and_plot_groups(df_ana,'water_quality','status_group',ax='ax3',Flen=20,Fhgt=5)"
   ]
  },
  {
   "cell_type": "code",
   "execution_count": null,
   "id": "0d16b1a6",
   "metadata": {},
   "outputs": [],
   "source": [
    "get_and_plot_groups(df_ana,'management','status_group',ax='ax3',Flen=20,Fhgt=5)"
   ]
  },
  {
   "cell_type": "code",
   "execution_count": 287,
   "id": "9e9a793a",
   "metadata": {},
   "outputs": [],
   "source": [
    "s1=pd.DataFrame(df_ana[['status_group','region','water_quality']]\\\n",
    "                .groupby(['status_group','region','water_quality'])\\\n",
    "                .agg(({'region': ['count']})))"
   ]
  },
  {
   "cell_type": "code",
   "execution_count": null,
   "id": "7b6e723d",
   "metadata": {},
   "outputs": [],
   "source": []
  }
 ],
 "metadata": {
  "kernelspec": {
   "display_name": "Python (learn-env)",
   "language": "python",
   "name": "learn-env"
  },
  "language_info": {
   "codemirror_mode": {
    "name": "ipython",
    "version": 3
   },
   "file_extension": ".py",
   "mimetype": "text/x-python",
   "name": "python",
   "nbconvert_exporter": "python",
   "pygments_lexer": "ipython3",
   "version": "3.8.5"
  }
 },
 "nbformat": 4,
 "nbformat_minor": 5
}
